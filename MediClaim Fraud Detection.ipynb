{
 "cells": [
  {
   "cell_type": "code",
   "execution_count": 1,
   "metadata": {},
   "outputs": [],
   "source": [
    "import numpy as np # linear algebra\n",
    "import pandas as pd # data processing, CSV file I/O (e.g. pd.read_csv)\n",
    "\n",
    "\n",
    "import os"
   ]
  },
  {
   "cell_type": "code",
   "execution_count": 2,
   "metadata": {},
   "outputs": [
    {
     "name": "stderr",
     "output_type": "stream",
     "text": [
      "Using TensorFlow backend.\n"
     ]
    }
   ],
   "source": [
    "import pandas as pd\n",
    "import numpy as np\n",
    "import scipy as sc\n",
    "import seaborn as sns\n",
    "import matplotlib.pyplot as plt\n",
    "\n",
    "import pandas_profiling as profile   # To check data distributions and correlations\n",
    "#or EDA..... To check data distributions and correlations .  It tells us the variables that contain NaN values, variables with many zeros, categorical variables with high cardinality, etc.\n",
    "#pandas profiling does is save us all the work of visualizing and understanding the distribution\n",
    "#of each variable. It generates a report with all the information easily available.\n",
    "import warnings     # for supressing a warning when importing large files\n",
    "warnings.filterwarnings(\"ignore\")\n",
    "\n",
    "from sklearn.preprocessing import StandardScaler,MinMaxScaler\n",
    "from sklearn.model_selection import train_test_split\n",
    "\n",
    "import pickle \n",
    "#Pickle is used for serializing and de-serializing Python object structures, also called marshalling or flattening\n",
    "#Serialization refers to the process of converting an object in memory to a byte stream that can be stored on disk or sent over a network\n",
    "#Later on, this character stream can then be retrieved and de-serialized back to a Python object\n",
    "#The former is the conversion of an object from one representation (data in Random Access Memory (RAM)) to another (text on disk), while the latter is the process of encoding data with fewer bits, in order to save disk space\n",
    "\n",
    "import matplotlib.pyplot as plt\n",
    "from scipy import stats\n",
    "import tensorflow as tf\n",
    "from pylab import rcParams\n",
    "from keras.models import Model, load_model\n",
    "from keras.layers import Input, Dense\n",
    "from keras.callbacks import ModelCheckpoint, TensorBoard\n",
    "from keras import regularizers\n",
    "%matplotlib inline\n",
    "sns.set(style='whitegrid', palette='muted', font_scale=1.5)\n",
    "rcParams['figure.figsize'] = 14, 8\n",
    "RANDOM_SEED = 42\n",
    "\n",
    "LABELS = [\"Normal\", \"Fraud\"]"
   ]
  },
  {
   "cell_type": "code",
   "execution_count": 3,
   "metadata": {},
   "outputs": [],
   "source": [
    "# Load Train Dataset\n",
    "\n",
    "Train=pd.read_csv(\"Train-1542865627584.csv\")\n",
    "Train_Beneficiarydata=pd.read_csv(\"Train_Beneficiarydata-1542865627584.csv\")\n",
    "Train_Inpatientdata=pd.read_csv(\"Train_Inpatientdata-1542865627584.csv\")\n",
    "Train_Outpatientdata=pd.read_csv(\"Train_Outpatientdata-1542865627584.csv\")\n",
    "\n",
    "# Load Test Dataset\n",
    "\n",
    "Test=pd.read_csv(\"Test-1542969243754.csv\")\n",
    "Test_Beneficiarydata=pd.read_csv(\"Test_Beneficiarydata-1542969243754.csv\")\n",
    "Test_Inpatientdata=pd.read_csv(\"Test_Inpatientdata-1542969243754.csv\")\n",
    "Test_Outpatientdata=pd.read_csv(\"Test_Outpatientdata-1542969243754.csv\")"
   ]
  },
  {
   "cell_type": "code",
   "execution_count": 4,
   "metadata": {},
   "outputs": [
    {
     "name": "stdout",
     "output_type": "stream",
     "text": [
      "Shape of Train data : (5410, 2)\n",
      "Shape of Train_Beneficiarydata data : (138556, 25)\n",
      "Shape of Train_Inpatientdata data : (40474, 30)\n",
      "Shape of Train_Outpatientdata data : (517737, 27)\n",
      "Shape of Test data : (1353, 1)\n",
      "Shape of Test_Beneficiarydata data : (63968, 25)\n",
      "Shape of Test_Inpatientdata data : (9551, 30)\n",
      "Shape of Test_Outpatientdata data : (125841, 27)\n"
     ]
    }
   ],
   "source": [
    "## Lets Check Shape of datasets \n",
    "\n",
    "print('Shape of Train data :',Train.shape)\n",
    "print('Shape of Train_Beneficiarydata data :',Train_Beneficiarydata.shape)\n",
    "print('Shape of Train_Inpatientdata data :',Train_Inpatientdata.shape)\n",
    "print('Shape of Train_Outpatientdata data :',Train_Outpatientdata.shape)\n",
    "\n",
    "print('Shape of Test data :',Test.shape)\n",
    "print('Shape of Test_Beneficiarydata data :',Test_Beneficiarydata.shape)\n",
    "print('Shape of Test_Inpatientdata data :',Test_Inpatientdata.shape)\n",
    "print('Shape of Test_Outpatientdata data :',Test_Outpatientdata.shape)\n"
   ]
  },
  {
   "cell_type": "code",
   "execution_count": 5,
   "metadata": {},
   "outputs": [
    {
     "name": "stdout",
     "output_type": "stream",
     "text": [
      "Train Shape: (5410, 2) \n",
      "\n",
      "Train Sample:\n",
      "    Provider PotentialFraud\n",
      "0  PRV51001             No\n",
      "1  PRV51003            Yes \n",
      "\n",
      "\n",
      " Test Shape: (1353, 1) \n",
      "\n",
      "Test Sample: \n",
      "    Provider\n",
      "0  PRV51002\n",
      "1  PRV51006\n"
     ]
    }
   ],
   "source": [
    "#Basic Data Understanding\n",
    "\n",
    "#Train and Test Data Understanding\n",
    "## Lets check shape of Train and Test Data\n",
    "\n",
    "print('Train Shape:',Train.shape,'\\n')\n",
    "print('Train Sample:\\n',Train.head(2),'\\n')\n",
    "\n",
    "print('\\n Test Shape:',Test.shape,'\\n')\n",
    "print('Test Sample: \\n',Test.head(2))"
   ]
  },
  {
   "cell_type": "code",
   "execution_count": 6,
   "metadata": {},
   "outputs": [
    {
     "name": "stdout",
     "output_type": "stream",
     "text": [
      "PRV55226    1\n",
      "PRV55086    1\n",
      "Name: Provider, dtype: int64\n",
      "\n",
      " Total missing values in Train : 0\n",
      "\n",
      " Total missing values in Train : 0\n"
     ]
    }
   ],
   "source": [
    "## Lets check whether  providers details are unique or not in train data\n",
    "## isna Detect missing values.\n",
    "#Return a boolean same-sized object indicating if the values are NA.\n",
    "#NA values, such as None or numpy.NaN, gets mapped to True values. \n",
    "#Everything else gets mapped to False values. Characters such as empty strings '' or numpy.inf are not considered NA values (unless you set pandas.options.mode.use_inf_as_na = True).\n",
    "print(Train.Provider.value_counts(sort=True,ascending=False).head(2))  # number of unique providers in train data.Check for duplicates\n",
    "\n",
    "print('\\n Total missing values in Train :',Train.isna().sum().sum())\n",
    "\n",
    "print('\\n Total missing values in Train :',Test.isna().sum().sum())"
   ]
  },
  {
   "cell_type": "code",
   "execution_count": 7,
   "metadata": {},
   "outputs": [
    {
     "data": {
      "text/plain": [
       "BeneID                                 0\n",
       "DOB                                    0\n",
       "DOD                                63394\n",
       "Gender                                 0\n",
       "Race                                   0\n",
       "RenalDiseaseIndicator                  0\n",
       "State                                  0\n",
       "County                                 0\n",
       "NoOfMonths_PartACov                    0\n",
       "NoOfMonths_PartBCov                    0\n",
       "ChronicCond_Alzheimer                  0\n",
       "ChronicCond_Heartfailure               0\n",
       "ChronicCond_KidneyDisease              0\n",
       "ChronicCond_Cancer                     0\n",
       "ChronicCond_ObstrPulmonary             0\n",
       "ChronicCond_Depression                 0\n",
       "ChronicCond_Diabetes                   0\n",
       "ChronicCond_IschemicHeart              0\n",
       "ChronicCond_Osteoporasis               0\n",
       "ChronicCond_rheumatoidarthritis        0\n",
       "ChronicCond_stroke                     0\n",
       "IPAnnualReimbursementAmt               0\n",
       "IPAnnualDeductibleAmt                  0\n",
       "OPAnnualReimbursementAmt               0\n",
       "OPAnnualDeductibleAmt                  0\n",
       "dtype: int64"
      ]
     },
     "execution_count": 7,
     "metadata": {},
     "output_type": "execute_result"
    }
   ],
   "source": [
    "#Beneficiary Data Understanding\n",
    "\n",
    "#Lets Check missing values in each column in beneficiary data :\n",
    "#Lets Check missing values in each column in beneficiary data :\n",
    "\n",
    "Train_Beneficiarydata.isna().sum()\n",
    "Test_Beneficiarydata.isna().sum()\n",
    "\n"
   ]
  },
  {
   "cell_type": "code",
   "execution_count": 8,
   "metadata": {},
   "outputs": [
    {
     "data": {
      "text/plain": [
       "BeneID                             object\n",
       "DOB                                object\n",
       "DOD                                object\n",
       "Gender                              int64\n",
       "Race                                int64\n",
       "RenalDiseaseIndicator              object\n",
       "State                               int64\n",
       "County                              int64\n",
       "NoOfMonths_PartACov                 int64\n",
       "NoOfMonths_PartBCov                 int64\n",
       "ChronicCond_Alzheimer               int64\n",
       "ChronicCond_Heartfailure            int64\n",
       "ChronicCond_KidneyDisease           int64\n",
       "ChronicCond_Cancer                  int64\n",
       "ChronicCond_ObstrPulmonary          int64\n",
       "ChronicCond_Depression              int64\n",
       "ChronicCond_Diabetes                int64\n",
       "ChronicCond_IschemicHeart           int64\n",
       "ChronicCond_Osteoporasis            int64\n",
       "ChronicCond_rheumatoidarthritis     int64\n",
       "ChronicCond_stroke                  int64\n",
       "IPAnnualReimbursementAmt            int64\n",
       "IPAnnualDeductibleAmt               int64\n",
       "OPAnnualReimbursementAmt            int64\n",
       "OPAnnualDeductibleAmt               int64\n",
       "dtype: object"
      ]
     },
     "execution_count": 8,
     "metadata": {},
     "output_type": "execute_result"
    }
   ],
   "source": [
    "# Lets check data types of each column in beneficiary data\n",
    "\n",
    "Train_Beneficiarydata.dtypes\n",
    "Test_Beneficiarydata.dtypes"
   ]
  },
  {
   "cell_type": "code",
   "execution_count": 9,
   "metadata": {},
   "outputs": [],
   "source": [
    "##Replacing 2 with 0 for chronic conditions ,that means chroniv condition No is 0 and yes is 1\n",
    "\n",
    "Train_Beneficiarydata = Train_Beneficiarydata.replace({'ChronicCond_Alzheimer': 2, 'ChronicCond_Heartfailure': 2, 'ChronicCond_KidneyDisease': 2,\n",
    "                           'ChronicCond_Cancer': 2, 'ChronicCond_ObstrPulmonary': 2, 'ChronicCond_Depression': 2, \n",
    "                           'ChronicCond_Diabetes': 2, 'ChronicCond_IschemicHeart': 2, 'ChronicCond_Osteoporasis': 2, \n",
    "                           'ChronicCond_rheumatoidarthritis': 2, 'ChronicCond_stroke': 2 }, 0)\n",
    "\n",
    "Train_Beneficiarydata = Train_Beneficiarydata.replace({'RenalDiseaseIndicator': 'Y'}, 1)\n",
    "\n",
    "Test_Beneficiarydata = Test_Beneficiarydata.replace({'ChronicCond_Alzheimer': 2, 'ChronicCond_Heartfailure': 2, 'ChronicCond_KidneyDisease': 2,\n",
    "                           'ChronicCond_Cancer': 2, 'ChronicCond_ObstrPulmonary': 2, 'ChronicCond_Depression': 2, \n",
    "                           'ChronicCond_Diabetes': 2, 'ChronicCond_IschemicHeart': 2, 'ChronicCond_Osteoporasis': 2, \n",
    "                           'ChronicCond_rheumatoidarthritis': 2, 'ChronicCond_stroke': 2 }, 0)\n",
    "\n",
    "Test_Beneficiarydata = Test_Beneficiarydata.replace({'RenalDiseaseIndicator': 'Y'}, 1)"
   ]
  },
  {
   "cell_type": "code",
   "execution_count": 10,
   "metadata": {},
   "outputs": [
    {
     "data": {
      "text/html": [
       "<div>\n",
       "<style scoped>\n",
       "    .dataframe tbody tr th:only-of-type {\n",
       "        vertical-align: middle;\n",
       "    }\n",
       "\n",
       "    .dataframe tbody tr th {\n",
       "        vertical-align: top;\n",
       "    }\n",
       "\n",
       "    .dataframe thead th {\n",
       "        text-align: right;\n",
       "    }\n",
       "</style>\n",
       "<table border=\"1\" class=\"dataframe\">\n",
       "  <thead>\n",
       "    <tr style=\"text-align: right;\">\n",
       "      <th></th>\n",
       "      <th>BeneID</th>\n",
       "      <th>DOB</th>\n",
       "      <th>DOD</th>\n",
       "      <th>Gender</th>\n",
       "      <th>Race</th>\n",
       "      <th>RenalDiseaseIndicator</th>\n",
       "      <th>State</th>\n",
       "      <th>County</th>\n",
       "      <th>NoOfMonths_PartACov</th>\n",
       "      <th>NoOfMonths_PartBCov</th>\n",
       "      <th>...</th>\n",
       "      <th>ChronicCond_Depression</th>\n",
       "      <th>ChronicCond_Diabetes</th>\n",
       "      <th>ChronicCond_IschemicHeart</th>\n",
       "      <th>ChronicCond_Osteoporasis</th>\n",
       "      <th>ChronicCond_rheumatoidarthritis</th>\n",
       "      <th>ChronicCond_stroke</th>\n",
       "      <th>IPAnnualReimbursementAmt</th>\n",
       "      <th>IPAnnualDeductibleAmt</th>\n",
       "      <th>OPAnnualReimbursementAmt</th>\n",
       "      <th>OPAnnualDeductibleAmt</th>\n",
       "    </tr>\n",
       "  </thead>\n",
       "  <tbody>\n",
       "    <tr>\n",
       "      <th>0</th>\n",
       "      <td>BENE11001</td>\n",
       "      <td>1943-01-01</td>\n",
       "      <td>NaN</td>\n",
       "      <td>1</td>\n",
       "      <td>1</td>\n",
       "      <td>0</td>\n",
       "      <td>39</td>\n",
       "      <td>230</td>\n",
       "      <td>12</td>\n",
       "      <td>12</td>\n",
       "      <td>...</td>\n",
       "      <td>1</td>\n",
       "      <td>1</td>\n",
       "      <td>1</td>\n",
       "      <td>0</td>\n",
       "      <td>1</td>\n",
       "      <td>1</td>\n",
       "      <td>36000</td>\n",
       "      <td>3204</td>\n",
       "      <td>60</td>\n",
       "      <td>70</td>\n",
       "    </tr>\n",
       "  </tbody>\n",
       "</table>\n",
       "<p>1 rows × 25 columns</p>\n",
       "</div>"
      ],
      "text/plain": [
       "      BeneID         DOB  DOD  Gender  Race RenalDiseaseIndicator  State  \\\n",
       "0  BENE11001  1943-01-01  NaN       1     1                     0     39   \n",
       "\n",
       "   County  NoOfMonths_PartACov  NoOfMonths_PartBCov  ...  \\\n",
       "0     230                   12                   12  ...   \n",
       "\n",
       "   ChronicCond_Depression  ChronicCond_Diabetes  ChronicCond_IschemicHeart  \\\n",
       "0                       1                     1                          1   \n",
       "\n",
       "   ChronicCond_Osteoporasis  ChronicCond_rheumatoidarthritis  \\\n",
       "0                         0                                1   \n",
       "\n",
       "   ChronicCond_stroke  IPAnnualReimbursementAmt  IPAnnualDeductibleAmt  \\\n",
       "0                   1                     36000                   3204   \n",
       "\n",
       "   OPAnnualReimbursementAmt  OPAnnualDeductibleAmt  \n",
       "0                        60                     70  \n",
       "\n",
       "[1 rows x 25 columns]"
      ]
     },
     "execution_count": 10,
     "metadata": {},
     "output_type": "execute_result"
    }
   ],
   "source": [
    "Train_Beneficiarydata.head(1)\n",
    "Test_Beneficiarydata.head(1)"
   ]
  },
  {
   "cell_type": "code",
   "execution_count": 11,
   "metadata": {},
   "outputs": [],
   "source": [
    "#Add Age of Person based on his/her DOD(Date of death ) and DOB (Date of Birth)\n",
    "## Lets Create Age column to the dataset\n",
    "##For converting into specific date format(yy,mm,dd),(dd,mm,yy)we use datetime\n",
    "Train_Beneficiarydata['DOB'] = pd.to_datetime(Train_Beneficiarydata['DOB'] , format = '%Y-%m-%d')\n",
    "Train_Beneficiarydata['DOD'] = pd.to_datetime(Train_Beneficiarydata['DOD'],format = '%Y-%m-%d',errors='ignore')\n",
    "Train_Beneficiarydata['Age'] = round(((Train_Beneficiarydata['DOD'] - Train_Beneficiarydata['DOB']).dt.days)/365)\n",
    "Train_Beneficiarydata.head(1)\n",
    "#print(Train_Beneficiarydata['Age'])\n",
    "\n",
    "\n",
    "\n",
    "Test_Beneficiarydata['DOB'] = pd.to_datetime(Test_Beneficiarydata['DOB'] , format = '%Y-%m-%d')\n",
    "Test_Beneficiarydata['DOD'] = pd.to_datetime(Test_Beneficiarydata['DOD'],format = '%Y-%m-%d',errors='ignore')\n",
    "Test_Beneficiarydata['Age'] = round(((Test_Beneficiarydata['DOD'] - Test_Beneficiarydata['DOB']).dt.days)/365)\n",
    "#print(Test_Beneficiarydata['Age'])"
   ]
  },
  {
   "cell_type": "code",
   "execution_count": 12,
   "metadata": {},
   "outputs": [],
   "source": [
    "## As we see that last DOD value is 2009-12-01 ,which means Beneficiary Details data is of year 2009.\n",
    "## so we will calculate age of other benficiaries for year 2009.\n",
    "#fillna() manages and let the user replace NaN values with some value of their own.\n",
    "\n",
    "Train_Beneficiarydata.Age.fillna(round(((pd.to_datetime('2009-12-01' , format = '%Y-%m-%d') - Train_Beneficiarydata['DOB']).dt.days)/365),\n",
    "                                 inplace=True)\n",
    "\n",
    "\n",
    "Test_Beneficiarydata.Age.fillna(round(((pd.to_datetime('2009-12-01' , format = '%Y-%m-%d') - Test_Beneficiarydata['DOB']).dt.days)/365),\n",
    "                                 inplace=True)"
   ]
  },
  {
   "cell_type": "code",
   "execution_count": 13,
   "metadata": {},
   "outputs": [
    {
     "name": "stdout",
     "output_type": "stream",
     "text": [
      "0         67.0\n",
      "1         73.0\n",
      "2         73.0\n",
      "3         87.0\n",
      "4         74.0\n",
      "          ... \n",
      "138551    70.0\n",
      "138552    71.0\n",
      "138553    94.0\n",
      "138554    80.0\n",
      "138555    58.0\n",
      "Name: Age, Length: 138556, dtype: float64\n",
      "0        67.0\n",
      "1        69.0\n",
      "2        73.0\n",
      "3        96.0\n",
      "4        72.0\n",
      "         ... \n",
      "63963    50.0\n",
      "63964    73.0\n",
      "63965    70.0\n",
      "63966    94.0\n",
      "63967    80.0\n",
      "Name: Age, Length: 63968, dtype: float64\n"
     ]
    }
   ],
   "source": [
    "Train_Beneficiarydata.head(2)\n",
    "Test_Beneficiarydata.head(2)\n",
    "print(Train_Beneficiarydata['Age'])\n",
    "print(Test_Beneficiarydata['Age'])"
   ]
  },
  {
   "cell_type": "code",
   "execution_count": 14,
   "metadata": {},
   "outputs": [
    {
     "data": {
      "text/plain": [
       "0    0.0\n",
       "1    1.0\n",
       "2    0.0\n",
       "Name: WhetherDead, dtype: float64"
      ]
     },
     "execution_count": 14,
     "metadata": {},
     "output_type": "execute_result"
    }
   ],
   "source": [
    "#Add Flag column 'WhetherDead' using DOD values to tell whether beneficiary is dead on not\n",
    "#Lets create a new variable 'WhetherDead' with flag 1 means Dead and 0 means not Dead\n",
    "\n",
    "Train_Beneficiarydata.loc[Train_Beneficiarydata.DOD.isna(),'WhetherDead']=0\n",
    "Train_Beneficiarydata.loc[Train_Beneficiarydata.DOD.notna(),'WhetherDead']=1\n",
    "Train_Beneficiarydata['WhetherDead'].head(7)\n",
    "#Train_Beneficiarydata.loc[:,'WhetherDead'].head(7)\n",
    "Train_Beneficiarydata.head(7)\n",
    "\n",
    "\n",
    "Test_Beneficiarydata.loc[Test_Beneficiarydata.DOD.isna(),'WhetherDead']=0\n",
    "Test_Beneficiarydata.loc[Test_Beneficiarydata.DOD.notna(),'WhetherDead']=1\n",
    "#Test_Beneficiarydata.loc[:,'WhetherDead'].head(3)\n",
    "Test_Beneficiarydata['WhetherDead'].head(3)"
   ]
  },
  {
   "cell_type": "code",
   "execution_count": 15,
   "metadata": {},
   "outputs": [
    {
     "data": {
      "text/plain": [
       "BeneID                       0\n",
       "ClaimID                      0\n",
       "ClaimStartDt                 0\n",
       "ClaimEndDt                   0\n",
       "Provider                     0\n",
       "InscClaimAmtReimbursed       0\n",
       "AttendingPhysician          31\n",
       "OperatingPhysician        3962\n",
       "OtherPhysician            8538\n",
       "AdmissionDt                  0\n",
       "ClmAdmitDiagnosisCode        0\n",
       "DeductibleAmtPaid          196\n",
       "DischargeDt                  0\n",
       "DiagnosisGroupCode           0\n",
       "ClmDiagnosisCode_1           0\n",
       "ClmDiagnosisCode_2          54\n",
       "ClmDiagnosisCode_3         169\n",
       "ClmDiagnosisCode_4         404\n",
       "ClmDiagnosisCode_5         719\n",
       "ClmDiagnosisCode_6        1197\n",
       "ClmDiagnosisCode_7        1736\n",
       "ClmDiagnosisCode_8        2360\n",
       "ClmDiagnosisCode_9        3238\n",
       "ClmDiagnosisCode_10       8664\n",
       "ClmProcedureCode_1        4118\n",
       "ClmProcedureCode_2        8297\n",
       "ClmProcedureCode_3        9328\n",
       "ClmProcedureCode_4        9522\n",
       "ClmProcedureCode_5        9549\n",
       "ClmProcedureCode_6        9551\n",
       "dtype: int64"
      ]
     },
     "execution_count": 15,
     "metadata": {},
     "output_type": "execute_result"
    }
   ],
   "source": [
    "#Lets check missing values in each column in inpatient data\n",
    "Train_Inpatientdata.isna().sum()\n",
    "\n",
    "Test_Inpatientdata.isna().sum()"
   ]
  },
  {
   "cell_type": "code",
   "execution_count": 16,
   "metadata": {},
   "outputs": [],
   "source": [
    "#Create new column 'AdmitForDays' indicating number of days patient was admitted in hospital\n",
    "## As patient can be admitted for only for 1 day,we will add 1 to the difference of Discharge Date and Admission Date \n",
    "\n",
    "Train_Inpatientdata['AdmissionDt'] = pd.to_datetime(Train_Inpatientdata['AdmissionDt'] , format = '%Y-%m-%d')\n",
    "Train_Inpatientdata['DischargeDt'] = pd.to_datetime(Train_Inpatientdata['DischargeDt'],format = '%Y-%m-%d')\n",
    "Train_Inpatientdata['AdmitForDays'] = ((Train_Inpatientdata['DischargeDt'] - Train_Inpatientdata['AdmissionDt']).dt.days)+1\n",
    "Train_Inpatientdata['AdmitForDays'] \n",
    "\n",
    "Test_Inpatientdata['AdmissionDt'] = pd.to_datetime(Test_Inpatientdata['AdmissionDt'] , format = '%Y-%m-%d')\n",
    "Test_Inpatientdata['DischargeDt'] = pd.to_datetime(Test_Inpatientdata['DischargeDt'],format = '%Y-%m-%d')\n",
    "Test_Inpatientdata['AdmitForDays'] = ((Test_Inpatientdata['DischargeDt'] - Test_Inpatientdata['AdmissionDt']).dt.days)+1"
   ]
  },
  {
   "cell_type": "code",
   "execution_count": 17,
   "metadata": {},
   "outputs": [
    {
     "name": "stdout",
     "output_type": "stream",
     "text": [
      "Min AdmitForDays Train:-  1\n",
      "Max AdmitForDays Train:-  36\n",
      "Min AdmitForDays Test:-  1\n",
      "Max AdmitForDays Test:-  36\n"
     ]
    },
    {
     "data": {
      "text/plain": [
       "0"
      ]
     },
     "execution_count": 17,
     "metadata": {},
     "output_type": "execute_result"
    }
   ],
   "source": [
    "## Lets check Min and Max values of AdmitforDays column in Train and Test.\n",
    "print('Min AdmitForDays Train:- ',Train_Inpatientdata.AdmitForDays.min())\n",
    "print('Max AdmitForDays Train:- ',Train_Inpatientdata.AdmitForDays.max())\n",
    "Train_Inpatientdata.AdmitForDays.isnull().sum()   #Check Null values.\n",
    "\n",
    "print('Min AdmitForDays Test:- ',Test_Inpatientdata.AdmitForDays.min())\n",
    "print('Max AdmitForDays Test:- ',Test_Inpatientdata.AdmitForDays.max())\n",
    "Test_Inpatientdata.AdmitForDays.isnull().sum()   #Check Null values."
   ]
  },
  {
   "cell_type": "code",
   "execution_count": 18,
   "metadata": {},
   "outputs": [
    {
     "data": {
      "text/plain": [
       "BeneID                         0\n",
       "ClaimID                        0\n",
       "ClaimStartDt                   0\n",
       "ClaimEndDt                     0\n",
       "Provider                       0\n",
       "InscClaimAmtReimbursed         0\n",
       "AttendingPhysician           316\n",
       "OperatingPhysician        104237\n",
       "OtherPhysician             78222\n",
       "ClmDiagnosisCode_1          2578\n",
       "ClmDiagnosisCode_2         47731\n",
       "ClmDiagnosisCode_3         76575\n",
       "ClmDiagnosisCode_4         95371\n",
       "ClmDiagnosisCode_5        107875\n",
       "ClmDiagnosisCode_6        114035\n",
       "ClmDiagnosisCode_7        117871\n",
       "ClmDiagnosisCode_8        120310\n",
       "ClmDiagnosisCode_9        122278\n",
       "ClmDiagnosisCode_10       125578\n",
       "ClmProcedureCode_1        125807\n",
       "ClmProcedureCode_2        125832\n",
       "ClmProcedureCode_3        125839\n",
       "ClmProcedureCode_4        125841\n",
       "ClmProcedureCode_5        125841\n",
       "ClmProcedureCode_6        125841\n",
       "DeductibleAmtPaid              0\n",
       "ClmAdmitDiagnosisCode     100036\n",
       "dtype: int64"
      ]
     },
     "execution_count": 18,
     "metadata": {},
     "output_type": "execute_result"
    }
   ],
   "source": [
    "#Outpatient Data understanding\n",
    "\n",
    "#Lets Check null values in each columnn of outpatient data\n",
    "Train_Outpatientdata.isna().sum()\n",
    "\n",
    "Test_Outpatientdata.isna().sum()"
   ]
  },
  {
   "cell_type": "code",
   "execution_count": 19,
   "metadata": {},
   "outputs": [
    {
     "name": "stdout",
     "output_type": "stream",
     "text": [
      "Shape of Train data : (5410, 2)\n",
      "Shape of Train_Beneficiarydata data : (138556, 27)\n",
      "Shape of Train_Inpatientdata data : (40474, 31)\n",
      "Shape of Train_Outpatientdata data : (517737, 27)\n",
      "Shape of Test data : (1353, 1)\n",
      "Shape of Test_Beneficiarydata data : (63968, 27)\n",
      "Shape of Test_Inpatientdata data : (9551, 31)\n",
      "Shape of Test_Outpatientdata data : (125841, 27)\n"
     ]
    }
   ],
   "source": [
    "## Lets Check Shape of datasets after adding new variables\n",
    "\n",
    "print('Shape of Train data :',Train.shape)\n",
    "print('Shape of Train_Beneficiarydata data :',Train_Beneficiarydata.shape)\n",
    "print('Shape of Train_Inpatientdata data :',Train_Inpatientdata.shape)\n",
    "print('Shape of Train_Outpatientdata data :',Train_Outpatientdata.shape)\n",
    "\n",
    "print('Shape of Test data :',Test.shape)\n",
    "print('Shape of Test_Beneficiarydata data :',Test_Beneficiarydata.shape)\n",
    "print('Shape of Test_Inpatientdata data :',Test_Inpatientdata.shape)\n",
    "print('Shape of Test_Outpatientdata data :',Test_Outpatientdata.shape)"
   ]
  },
  {
   "cell_type": "code",
   "execution_count": 20,
   "metadata": {},
   "outputs": [],
   "source": [
    "#Data Merging\n",
    "#As we see columns in inpatient and outpatient data are similar, \n",
    "#we will merge this data based on these similar keys using outer join.\n",
    "#Key_Column_To_Merge_Outpatient=Train_Outpatientdata.columns\n",
    "#print(Key_Column_To_Merge_Outpatient)"
   ]
  },
  {
   "cell_type": "code",
   "execution_count": 21,
   "metadata": {},
   "outputs": [],
   "source": [
    "#Merge Inpatient and Outpatinet data and create dataset for all patients.\n",
    "# Lets make union of Inpatienta and outpatient data .\n",
    "# We will use all keys in outpatient data as we want to make union and dont want duplicate columns from both tables.\n",
    "\n",
    "Train_Allpatientdata=pd.merge(Train_Outpatientdata,Train_Inpatientdata,\n",
    "                              left_on=['BeneID', 'ClaimID', 'ClaimStartDt', 'ClaimEndDt', 'Provider',\n",
    "       'InscClaimAmtReimbursed', 'AttendingPhysician', 'OperatingPhysician',\n",
    "       'OtherPhysician', 'ClmDiagnosisCode_1', 'ClmDiagnosisCode_2',\n",
    "       'ClmDiagnosisCode_3', 'ClmDiagnosisCode_4', 'ClmDiagnosisCode_5',\n",
    "       'ClmDiagnosisCode_6', 'ClmDiagnosisCode_7', 'ClmDiagnosisCode_8',\n",
    "       'ClmDiagnosisCode_9', 'ClmDiagnosisCode_10', 'ClmProcedureCode_1',\n",
    "       'ClmProcedureCode_2', 'ClmProcedureCode_3', 'ClmProcedureCode_4',\n",
    "       'ClmProcedureCode_5', 'ClmProcedureCode_6', 'DeductibleAmtPaid',\n",
    "       'ClmAdmitDiagnosisCode'],\n",
    "                              right_on=['BeneID', 'ClaimID', 'ClaimStartDt', 'ClaimEndDt', 'Provider',\n",
    "       'InscClaimAmtReimbursed', 'AttendingPhysician', 'OperatingPhysician',\n",
    "       'OtherPhysician', 'ClmDiagnosisCode_1', 'ClmDiagnosisCode_2',\n",
    "       'ClmDiagnosisCode_3', 'ClmDiagnosisCode_4', 'ClmDiagnosisCode_5',\n",
    "       'ClmDiagnosisCode_6', 'ClmDiagnosisCode_7', 'ClmDiagnosisCode_8',\n",
    "       'ClmDiagnosisCode_9', 'ClmDiagnosisCode_10', 'ClmProcedureCode_1',\n",
    "       'ClmProcedureCode_2', 'ClmProcedureCode_3', 'ClmProcedureCode_4',\n",
    "       'ClmProcedureCode_5', 'ClmProcedureCode_6', 'DeductibleAmtPaid',\n",
    "       'ClmAdmitDiagnosisCode']\n",
    "                              ,how='outer')\n",
    "\n",
    "\n",
    "Test_Allpatientdata=pd.merge(Test_Outpatientdata,Test_Inpatientdata,\n",
    "                              left_on=['BeneID', 'ClaimID', 'ClaimStartDt', 'ClaimEndDt', 'Provider',\n",
    "       'InscClaimAmtReimbursed', 'AttendingPhysician', 'OperatingPhysician',\n",
    "       'OtherPhysician', 'ClmDiagnosisCode_1', 'ClmDiagnosisCode_2',\n",
    "       'ClmDiagnosisCode_3', 'ClmDiagnosisCode_4', 'ClmDiagnosisCode_5',\n",
    "       'ClmDiagnosisCode_6', 'ClmDiagnosisCode_7', 'ClmDiagnosisCode_8',\n",
    "       'ClmDiagnosisCode_9', 'ClmDiagnosisCode_10', 'ClmProcedureCode_1',\n",
    "       'ClmProcedureCode_2', 'ClmProcedureCode_3', 'ClmProcedureCode_4',\n",
    "       'ClmProcedureCode_5', 'ClmProcedureCode_6', 'DeductibleAmtPaid',\n",
    "       'ClmAdmitDiagnosisCode'],\n",
    "                              right_on=['BeneID', 'ClaimID', 'ClaimStartDt', 'ClaimEndDt', 'Provider',\n",
    "       'InscClaimAmtReimbursed', 'AttendingPhysician', 'OperatingPhysician',\n",
    "       'OtherPhysician', 'ClmDiagnosisCode_1', 'ClmDiagnosisCode_2',\n",
    "       'ClmDiagnosisCode_3', 'ClmDiagnosisCode_4', 'ClmDiagnosisCode_5',\n",
    "       'ClmDiagnosisCode_6', 'ClmDiagnosisCode_7', 'ClmDiagnosisCode_8',\n",
    "       'ClmDiagnosisCode_9', 'ClmDiagnosisCode_10', 'ClmProcedureCode_1',\n",
    "       'ClmProcedureCode_2', 'ClmProcedureCode_3', 'ClmProcedureCode_4',\n",
    "       'ClmProcedureCode_5', 'ClmProcedureCode_6', 'DeductibleAmtPaid',\n",
    "       'ClmAdmitDiagnosisCode']\n",
    "                              ,how='outer')"
   ]
  },
  {
   "cell_type": "code",
   "execution_count": 22,
   "metadata": {},
   "outputs": [
    {
     "name": "stdout",
     "output_type": "stream",
     "text": [
      "Train_Allpatientdata (558211, 31)\n",
      "Test_Allpatientdata (135392, 31)\n"
     ]
    }
   ],
   "source": [
    "print('Train_Allpatientdata',Train_Allpatientdata.shape)\n",
    "print('Test_Allpatientdata',Test_Allpatientdata.shape)"
   ]
  },
  {
   "cell_type": "code",
   "execution_count": 23,
   "metadata": {},
   "outputs": [
    {
     "data": {
      "text/html": [
       "<div>\n",
       "<style scoped>\n",
       "    .dataframe tbody tr th:only-of-type {\n",
       "        vertical-align: middle;\n",
       "    }\n",
       "\n",
       "    .dataframe tbody tr th {\n",
       "        vertical-align: top;\n",
       "    }\n",
       "\n",
       "    .dataframe thead th {\n",
       "        text-align: right;\n",
       "    }\n",
       "</style>\n",
       "<table border=\"1\" class=\"dataframe\">\n",
       "  <thead>\n",
       "    <tr style=\"text-align: right;\">\n",
       "      <th></th>\n",
       "      <th>BeneID</th>\n",
       "      <th>ClaimID</th>\n",
       "      <th>ClaimStartDt</th>\n",
       "      <th>ClaimEndDt</th>\n",
       "      <th>Provider</th>\n",
       "      <th>InscClaimAmtReimbursed</th>\n",
       "      <th>AttendingPhysician</th>\n",
       "      <th>OperatingPhysician</th>\n",
       "      <th>OtherPhysician</th>\n",
       "      <th>ClmDiagnosisCode_1</th>\n",
       "      <th>...</th>\n",
       "      <th>ClmProcedureCode_3</th>\n",
       "      <th>ClmProcedureCode_4</th>\n",
       "      <th>ClmProcedureCode_5</th>\n",
       "      <th>ClmProcedureCode_6</th>\n",
       "      <th>DeductibleAmtPaid</th>\n",
       "      <th>ClmAdmitDiagnosisCode</th>\n",
       "      <th>AdmissionDt</th>\n",
       "      <th>DischargeDt</th>\n",
       "      <th>DiagnosisGroupCode</th>\n",
       "      <th>AdmitForDays</th>\n",
       "    </tr>\n",
       "  </thead>\n",
       "  <tbody>\n",
       "    <tr>\n",
       "      <th>0</th>\n",
       "      <td>BENE11001</td>\n",
       "      <td>CLM392397</td>\n",
       "      <td>2009-06-02</td>\n",
       "      <td>2009-06-02</td>\n",
       "      <td>PRV55962</td>\n",
       "      <td>30</td>\n",
       "      <td>PHY347633</td>\n",
       "      <td>NaN</td>\n",
       "      <td>PHY347633</td>\n",
       "      <td>V5832</td>\n",
       "      <td>...</td>\n",
       "      <td>NaN</td>\n",
       "      <td>NaN</td>\n",
       "      <td>NaN</td>\n",
       "      <td>NaN</td>\n",
       "      <td>0.0</td>\n",
       "      <td>NaN</td>\n",
       "      <td>NaT</td>\n",
       "      <td>NaT</td>\n",
       "      <td>NaN</td>\n",
       "      <td>NaN</td>\n",
       "    </tr>\n",
       "    <tr>\n",
       "      <th>1</th>\n",
       "      <td>BENE11001</td>\n",
       "      <td>CLM430760</td>\n",
       "      <td>2009-06-23</td>\n",
       "      <td>2009-06-23</td>\n",
       "      <td>PRV56112</td>\n",
       "      <td>30</td>\n",
       "      <td>PHY381777</td>\n",
       "      <td>NaN</td>\n",
       "      <td>PHY381777</td>\n",
       "      <td>9594</td>\n",
       "      <td>...</td>\n",
       "      <td>NaN</td>\n",
       "      <td>NaN</td>\n",
       "      <td>NaN</td>\n",
       "      <td>NaN</td>\n",
       "      <td>0.0</td>\n",
       "      <td>NaN</td>\n",
       "      <td>NaT</td>\n",
       "      <td>NaT</td>\n",
       "      <td>NaN</td>\n",
       "      <td>NaN</td>\n",
       "    </tr>\n",
       "    <tr>\n",
       "      <th>2</th>\n",
       "      <td>BENE11007</td>\n",
       "      <td>CLM233081</td>\n",
       "      <td>2009-03-07</td>\n",
       "      <td>2009-03-07</td>\n",
       "      <td>PRV56979</td>\n",
       "      <td>200</td>\n",
       "      <td>PHY425311</td>\n",
       "      <td>NaN</td>\n",
       "      <td>PHY425311</td>\n",
       "      <td>7248</td>\n",
       "      <td>...</td>\n",
       "      <td>NaN</td>\n",
       "      <td>NaN</td>\n",
       "      <td>NaN</td>\n",
       "      <td>NaN</td>\n",
       "      <td>0.0</td>\n",
       "      <td>NaN</td>\n",
       "      <td>NaT</td>\n",
       "      <td>NaT</td>\n",
       "      <td>NaN</td>\n",
       "      <td>NaN</td>\n",
       "    </tr>\n",
       "    <tr>\n",
       "      <th>3</th>\n",
       "      <td>BENE11007</td>\n",
       "      <td>CLM496381</td>\n",
       "      <td>2009-07-29</td>\n",
       "      <td>2009-07-29</td>\n",
       "      <td>PRV56573</td>\n",
       "      <td>10</td>\n",
       "      <td>PHY393253</td>\n",
       "      <td>PHY347995</td>\n",
       "      <td>NaN</td>\n",
       "      <td>58889</td>\n",
       "      <td>...</td>\n",
       "      <td>NaN</td>\n",
       "      <td>NaN</td>\n",
       "      <td>NaN</td>\n",
       "      <td>NaN</td>\n",
       "      <td>0.0</td>\n",
       "      <td>5939</td>\n",
       "      <td>NaT</td>\n",
       "      <td>NaT</td>\n",
       "      <td>NaN</td>\n",
       "      <td>NaN</td>\n",
       "    </tr>\n",
       "  </tbody>\n",
       "</table>\n",
       "<p>4 rows × 31 columns</p>\n",
       "</div>"
      ],
      "text/plain": [
       "      BeneID    ClaimID ClaimStartDt  ClaimEndDt  Provider  \\\n",
       "0  BENE11001  CLM392397   2009-06-02  2009-06-02  PRV55962   \n",
       "1  BENE11001  CLM430760   2009-06-23  2009-06-23  PRV56112   \n",
       "2  BENE11007  CLM233081   2009-03-07  2009-03-07  PRV56979   \n",
       "3  BENE11007  CLM496381   2009-07-29  2009-07-29  PRV56573   \n",
       "\n",
       "   InscClaimAmtReimbursed AttendingPhysician OperatingPhysician  \\\n",
       "0                      30          PHY347633                NaN   \n",
       "1                      30          PHY381777                NaN   \n",
       "2                     200          PHY425311                NaN   \n",
       "3                      10          PHY393253          PHY347995   \n",
       "\n",
       "  OtherPhysician ClmDiagnosisCode_1  ... ClmProcedureCode_3  \\\n",
       "0      PHY347633              V5832  ...                NaN   \n",
       "1      PHY381777               9594  ...                NaN   \n",
       "2      PHY425311               7248  ...                NaN   \n",
       "3            NaN              58889  ...                NaN   \n",
       "\n",
       "  ClmProcedureCode_4 ClmProcedureCode_5 ClmProcedureCode_6 DeductibleAmtPaid  \\\n",
       "0                NaN                NaN                NaN               0.0   \n",
       "1                NaN                NaN                NaN               0.0   \n",
       "2                NaN                NaN                NaN               0.0   \n",
       "3                NaN                NaN                NaN               0.0   \n",
       "\n",
       "  ClmAdmitDiagnosisCode AdmissionDt DischargeDt DiagnosisGroupCode  \\\n",
       "0                   NaN         NaT         NaT                NaN   \n",
       "1                   NaN         NaT         NaT                NaN   \n",
       "2                   NaN         NaT         NaT                NaN   \n",
       "3                  5939         NaT         NaT                NaN   \n",
       "\n",
       "   AdmitForDays  \n",
       "0           NaN  \n",
       "1           NaN  \n",
       "2           NaN  \n",
       "3           NaN  \n",
       "\n",
       "[4 rows x 31 columns]"
      ]
     },
     "execution_count": 23,
     "metadata": {},
     "output_type": "execute_result"
    }
   ],
   "source": [
    "Train_Allpatientdata.head(4)\n",
    "Test_Allpatientdata.head(4)"
   ]
  },
  {
   "cell_type": "code",
   "execution_count": 24,
   "metadata": {},
   "outputs": [],
   "source": [
    "#Merge Beneficiary details to All Patients data\n",
    "## Lets merge All patient data with beneficiary details data based on 'BeneID' as joining key for inner join\n",
    "Train_AllPatientDetailsdata=pd.merge(Train_Allpatientdata,Train_Beneficiarydata,left_on='BeneID',right_on='BeneID',how='inner')\n",
    "\n",
    "Test_AllPatientDetailsdata=pd.merge(Test_Allpatientdata,Test_Beneficiarydata,left_on='BeneID',right_on='BeneID',how='inner')"
   ]
  },
  {
   "cell_type": "code",
   "execution_count": 25,
   "metadata": {},
   "outputs": [
    {
     "name": "stdout",
     "output_type": "stream",
     "text": [
      "Shape of All Patient Details Train :  (558211, 57)\n",
      "Shape of All Patient Details Test :  (135392, 57)\n"
     ]
    },
    {
     "data": {
      "text/html": [
       "<div>\n",
       "<style scoped>\n",
       "    .dataframe tbody tr th:only-of-type {\n",
       "        vertical-align: middle;\n",
       "    }\n",
       "\n",
       "    .dataframe tbody tr th {\n",
       "        vertical-align: top;\n",
       "    }\n",
       "\n",
       "    .dataframe thead th {\n",
       "        text-align: right;\n",
       "    }\n",
       "</style>\n",
       "<table border=\"1\" class=\"dataframe\">\n",
       "  <thead>\n",
       "    <tr style=\"text-align: right;\">\n",
       "      <th></th>\n",
       "      <th>BeneID</th>\n",
       "      <th>ClaimID</th>\n",
       "      <th>ClaimStartDt</th>\n",
       "      <th>ClaimEndDt</th>\n",
       "      <th>Provider</th>\n",
       "      <th>InscClaimAmtReimbursed</th>\n",
       "      <th>AttendingPhysician</th>\n",
       "      <th>OperatingPhysician</th>\n",
       "      <th>OtherPhysician</th>\n",
       "      <th>ClmDiagnosisCode_1</th>\n",
       "      <th>...</th>\n",
       "      <th>ChronicCond_IschemicHeart</th>\n",
       "      <th>ChronicCond_Osteoporasis</th>\n",
       "      <th>ChronicCond_rheumatoidarthritis</th>\n",
       "      <th>ChronicCond_stroke</th>\n",
       "      <th>IPAnnualReimbursementAmt</th>\n",
       "      <th>IPAnnualDeductibleAmt</th>\n",
       "      <th>OPAnnualReimbursementAmt</th>\n",
       "      <th>OPAnnualDeductibleAmt</th>\n",
       "      <th>Age</th>\n",
       "      <th>WhetherDead</th>\n",
       "    </tr>\n",
       "  </thead>\n",
       "  <tbody>\n",
       "    <tr>\n",
       "      <th>0</th>\n",
       "      <td>BENE11001</td>\n",
       "      <td>CLM392397</td>\n",
       "      <td>2009-06-02</td>\n",
       "      <td>2009-06-02</td>\n",
       "      <td>PRV55962</td>\n",
       "      <td>30</td>\n",
       "      <td>PHY347633</td>\n",
       "      <td>NaN</td>\n",
       "      <td>PHY347633</td>\n",
       "      <td>V5832</td>\n",
       "      <td>...</td>\n",
       "      <td>1</td>\n",
       "      <td>0</td>\n",
       "      <td>1</td>\n",
       "      <td>1</td>\n",
       "      <td>36000</td>\n",
       "      <td>3204</td>\n",
       "      <td>60</td>\n",
       "      <td>70</td>\n",
       "      <td>67.0</td>\n",
       "      <td>0.0</td>\n",
       "    </tr>\n",
       "    <tr>\n",
       "      <th>1</th>\n",
       "      <td>BENE11001</td>\n",
       "      <td>CLM430760</td>\n",
       "      <td>2009-06-23</td>\n",
       "      <td>2009-06-23</td>\n",
       "      <td>PRV56112</td>\n",
       "      <td>30</td>\n",
       "      <td>PHY381777</td>\n",
       "      <td>NaN</td>\n",
       "      <td>PHY381777</td>\n",
       "      <td>9594</td>\n",
       "      <td>...</td>\n",
       "      <td>1</td>\n",
       "      <td>0</td>\n",
       "      <td>1</td>\n",
       "      <td>1</td>\n",
       "      <td>36000</td>\n",
       "      <td>3204</td>\n",
       "      <td>60</td>\n",
       "      <td>70</td>\n",
       "      <td>67.0</td>\n",
       "      <td>0.0</td>\n",
       "    </tr>\n",
       "  </tbody>\n",
       "</table>\n",
       "<p>2 rows × 57 columns</p>\n",
       "</div>"
      ],
      "text/plain": [
       "      BeneID    ClaimID ClaimStartDt  ClaimEndDt  Provider  \\\n",
       "0  BENE11001  CLM392397   2009-06-02  2009-06-02  PRV55962   \n",
       "1  BENE11001  CLM430760   2009-06-23  2009-06-23  PRV56112   \n",
       "\n",
       "   InscClaimAmtReimbursed AttendingPhysician OperatingPhysician  \\\n",
       "0                      30          PHY347633                NaN   \n",
       "1                      30          PHY381777                NaN   \n",
       "\n",
       "  OtherPhysician ClmDiagnosisCode_1  ... ChronicCond_IschemicHeart  \\\n",
       "0      PHY347633              V5832  ...                         1   \n",
       "1      PHY381777               9594  ...                         1   \n",
       "\n",
       "  ChronicCond_Osteoporasis ChronicCond_rheumatoidarthritis ChronicCond_stroke  \\\n",
       "0                        0                               1                  1   \n",
       "1                        0                               1                  1   \n",
       "\n",
       "  IPAnnualReimbursementAmt IPAnnualDeductibleAmt OPAnnualReimbursementAmt  \\\n",
       "0                    36000                  3204                       60   \n",
       "1                    36000                  3204                       60   \n",
       "\n",
       "  OPAnnualDeductibleAmt   Age  WhetherDead  \n",
       "0                    70  67.0          0.0  \n",
       "1                    70  67.0          0.0  \n",
       "\n",
       "[2 rows x 57 columns]"
      ]
     },
     "execution_count": 25,
     "metadata": {},
     "output_type": "execute_result"
    }
   ],
   "source": [
    "## Lets Print shape of data \n",
    "print('Shape of All Patient Details Train : ',Train_AllPatientDetailsdata.shape)\n",
    "Train_AllPatientDetailsdata.head()\n",
    "\n",
    "print('Shape of All Patient Details Test : ',Test_AllPatientDetailsdata.shape)\n",
    "Test_AllPatientDetailsdata.head(2)"
   ]
  },
  {
   "cell_type": "code",
   "execution_count": 26,
   "metadata": {},
   "outputs": [],
   "source": [
    "#Merge PotentialFraud details for each provider to create ProviderWithPatientDetails data\n",
    "# Lets merge patient data with fradulent providers details data with \"Provider\" as joining key for inner join\n",
    "\n",
    "Train_ProviderWithPatientDetailsdata=pd.merge(Train,Train_AllPatientDetailsdata,on='Provider')\n",
    "\n",
    "Test_ProviderWithPatientDetailsdata=pd.merge(Test,Test_AllPatientDetailsdata,on='Provider')"
   ]
  },
  {
   "cell_type": "code",
   "execution_count": 27,
   "metadata": {},
   "outputs": [
    {
     "name": "stdout",
     "output_type": "stream",
     "text": [
      "Shape of Train Provider with Patient Details data :- (558211, 58)\n",
      "Shape of Test Provider with Patient Details data :- (135392, 57)\n"
     ]
    },
    {
     "data": {
      "text/html": [
       "<div>\n",
       "<style scoped>\n",
       "    .dataframe tbody tr th:only-of-type {\n",
       "        vertical-align: middle;\n",
       "    }\n",
       "\n",
       "    .dataframe tbody tr th {\n",
       "        vertical-align: top;\n",
       "    }\n",
       "\n",
       "    .dataframe thead th {\n",
       "        text-align: right;\n",
       "    }\n",
       "</style>\n",
       "<table border=\"1\" class=\"dataframe\">\n",
       "  <thead>\n",
       "    <tr style=\"text-align: right;\">\n",
       "      <th></th>\n",
       "      <th>Provider</th>\n",
       "      <th>PotentialFraud</th>\n",
       "      <th>BeneID</th>\n",
       "      <th>ClaimID</th>\n",
       "      <th>ClaimStartDt</th>\n",
       "      <th>ClaimEndDt</th>\n",
       "      <th>InscClaimAmtReimbursed</th>\n",
       "      <th>AttendingPhysician</th>\n",
       "      <th>OperatingPhysician</th>\n",
       "      <th>OtherPhysician</th>\n",
       "      <th>...</th>\n",
       "      <th>ChronicCond_IschemicHeart</th>\n",
       "      <th>ChronicCond_Osteoporasis</th>\n",
       "      <th>ChronicCond_rheumatoidarthritis</th>\n",
       "      <th>ChronicCond_stroke</th>\n",
       "      <th>IPAnnualReimbursementAmt</th>\n",
       "      <th>IPAnnualDeductibleAmt</th>\n",
       "      <th>OPAnnualReimbursementAmt</th>\n",
       "      <th>OPAnnualDeductibleAmt</th>\n",
       "      <th>Age</th>\n",
       "      <th>WhetherDead</th>\n",
       "    </tr>\n",
       "  </thead>\n",
       "  <tbody>\n",
       "    <tr>\n",
       "      <th>0</th>\n",
       "      <td>PRV51001</td>\n",
       "      <td>No</td>\n",
       "      <td>BENE11727</td>\n",
       "      <td>CLM733300</td>\n",
       "      <td>2009-12-17</td>\n",
       "      <td>2009-12-17</td>\n",
       "      <td>20</td>\n",
       "      <td>PHY383007</td>\n",
       "      <td>NaN</td>\n",
       "      <td>PHY383007</td>\n",
       "      <td>...</td>\n",
       "      <td>1</td>\n",
       "      <td>0</td>\n",
       "      <td>0</td>\n",
       "      <td>0</td>\n",
       "      <td>0</td>\n",
       "      <td>0</td>\n",
       "      <td>300</td>\n",
       "      <td>110</td>\n",
       "      <td>80.0</td>\n",
       "      <td>0.0</td>\n",
       "    </tr>\n",
       "    <tr>\n",
       "      <th>1</th>\n",
       "      <td>PRV51001</td>\n",
       "      <td>No</td>\n",
       "      <td>BENE24646</td>\n",
       "      <td>CLM372475</td>\n",
       "      <td>2009-05-22</td>\n",
       "      <td>2009-05-23</td>\n",
       "      <td>700</td>\n",
       "      <td>PHY405682</td>\n",
       "      <td>NaN</td>\n",
       "      <td>PHY402512</td>\n",
       "      <td>...</td>\n",
       "      <td>1</td>\n",
       "      <td>1</td>\n",
       "      <td>0</td>\n",
       "      <td>1</td>\n",
       "      <td>0</td>\n",
       "      <td>0</td>\n",
       "      <td>720</td>\n",
       "      <td>10</td>\n",
       "      <td>67.0</td>\n",
       "      <td>0.0</td>\n",
       "    </tr>\n",
       "  </tbody>\n",
       "</table>\n",
       "<p>2 rows × 58 columns</p>\n",
       "</div>"
      ],
      "text/plain": [
       "   Provider PotentialFraud     BeneID    ClaimID ClaimStartDt  ClaimEndDt  \\\n",
       "0  PRV51001             No  BENE11727  CLM733300   2009-12-17  2009-12-17   \n",
       "1  PRV51001             No  BENE24646  CLM372475   2009-05-22  2009-05-23   \n",
       "\n",
       "   InscClaimAmtReimbursed AttendingPhysician OperatingPhysician  \\\n",
       "0                      20          PHY383007                NaN   \n",
       "1                     700          PHY405682                NaN   \n",
       "\n",
       "  OtherPhysician  ... ChronicCond_IschemicHeart ChronicCond_Osteoporasis  \\\n",
       "0      PHY383007  ...                         1                        0   \n",
       "1      PHY402512  ...                         1                        1   \n",
       "\n",
       "  ChronicCond_rheumatoidarthritis ChronicCond_stroke IPAnnualReimbursementAmt  \\\n",
       "0                               0                  0                        0   \n",
       "1                               0                  1                        0   \n",
       "\n",
       "  IPAnnualDeductibleAmt OPAnnualReimbursementAmt OPAnnualDeductibleAmt   Age  \\\n",
       "0                     0                      300                   110  80.0   \n",
       "1                     0                      720                    10  67.0   \n",
       "\n",
       "  WhetherDead  \n",
       "0         0.0  \n",
       "1         0.0  \n",
       "\n",
       "[2 rows x 58 columns]"
      ]
     },
     "execution_count": 27,
     "metadata": {},
     "output_type": "execute_result"
    }
   ],
   "source": [
    "## Lets Print the shape of dataset \n",
    "print(\"Shape of Train Provider with Patient Details data :-\",Train_ProviderWithPatientDetailsdata.shape)\n",
    "\n",
    "\n",
    "print(\"Shape of Test Provider with Patient Details data :-\",Test_ProviderWithPatientDetailsdata.shape)\n",
    "Test_ProviderWithPatientDetailsdata.head(2)\n",
    "Train_ProviderWithPatientDetailsdata.head(2)"
   ]
  },
  {
   "cell_type": "code",
   "execution_count": 28,
   "metadata": {},
   "outputs": [
    {
     "name": "stdout",
     "output_type": "stream",
     "text": [
      "Percent missing values in Test Provider with patient details data :\n",
      "\n"
     ]
    },
    {
     "data": {
      "text/plain": [
       "Provider                             0.000000\n",
       "BeneID                               0.000000\n",
       "ClaimID                              0.000000\n",
       "ClaimStartDt                         0.000000\n",
       "ClaimEndDt                           0.000000\n",
       "InscClaimAmtReimbursed               0.000000\n",
       "AttendingPhysician                   0.256293\n",
       "OperatingPhysician                  79.915357\n",
       "OtherPhysician                      64.080596\n",
       "ClmDiagnosisCode_1                   1.904101\n",
       "ClmDiagnosisCode_2                  35.293814\n",
       "ClmDiagnosisCode_3                  56.682817\n",
       "ClmDiagnosisCode_4                  70.739039\n",
       "ClmDiagnosisCode_5                  80.207102\n",
       "ClmDiagnosisCode_6                  85.109903\n",
       "ClmDiagnosisCode_7                  88.341261\n",
       "ClmDiagnosisCode_8                  90.603581\n",
       "ClmDiagnosisCode_9                  92.705625\n",
       "ClmDiagnosisCode_10                 99.150615\n",
       "ClmProcedureCode_1                  95.962095\n",
       "ClmProcedureCode_2                  99.067153\n",
       "ClmProcedureCode_3                  99.833816\n",
       "ClmProcedureCode_4                  99.978581\n",
       "ClmProcedureCode_5                  99.998523\n",
       "ClmProcedureCode_6                 100.000000\n",
       "DeductibleAmtPaid                    0.144765\n",
       "ClmAdmitDiagnosisCode               73.886197\n",
       "AdmissionDt                         92.945669\n",
       "DischargeDt                         92.945669\n",
       "DiagnosisGroupCode                  92.945669\n",
       "AdmitForDays                        92.945669\n",
       "DOB                                  0.000000\n",
       "DOD                                 99.231860\n",
       "Gender                               0.000000\n",
       "Race                                 0.000000\n",
       "RenalDiseaseIndicator                0.000000\n",
       "State                                0.000000\n",
       "County                               0.000000\n",
       "NoOfMonths_PartACov                  0.000000\n",
       "NoOfMonths_PartBCov                  0.000000\n",
       "ChronicCond_Alzheimer                0.000000\n",
       "ChronicCond_Heartfailure             0.000000\n",
       "ChronicCond_KidneyDisease            0.000000\n",
       "ChronicCond_Cancer                   0.000000\n",
       "ChronicCond_ObstrPulmonary           0.000000\n",
       "ChronicCond_Depression               0.000000\n",
       "ChronicCond_Diabetes                 0.000000\n",
       "ChronicCond_IschemicHeart            0.000000\n",
       "ChronicCond_Osteoporasis             0.000000\n",
       "ChronicCond_rheumatoidarthritis      0.000000\n",
       "ChronicCond_stroke                   0.000000\n",
       "IPAnnualReimbursementAmt             0.000000\n",
       "IPAnnualDeductibleAmt                0.000000\n",
       "OPAnnualReimbursementAmt             0.000000\n",
       "OPAnnualDeductibleAmt                0.000000\n",
       "Age                                  0.000000\n",
       "WhetherDead                          0.000000\n",
       "dtype: float64"
      ]
     },
     "execution_count": 28,
     "metadata": {},
     "output_type": "execute_result"
    }
   ],
   "source": [
    "### Lets check missing value percentage in full datasets\n",
    "\n",
    "#print('Percent missing values in Train Provider with patient details data :\\n')\n",
    "Train_ProviderWithPatientDetailsdata.isnull().sum()*100/len(Train_ProviderWithPatientDetailsdata)\n",
    "\n",
    "\n",
    "print('Percent missing values in Test Provider with patient details data :\\n')\n",
    "Test_ProviderWithPatientDetailsdata.isnull().sum()*100/len(Test_ProviderWithPatientDetailsdata)"
   ]
  },
  {
   "cell_type": "code",
   "execution_count": 29,
   "metadata": {},
   "outputs": [
    {
     "data": {
      "text/plain": [
       "Provider                                   object\n",
       "BeneID                                     object\n",
       "ClaimID                                    object\n",
       "ClaimStartDt                               object\n",
       "ClaimEndDt                                 object\n",
       "InscClaimAmtReimbursed                      int64\n",
       "AttendingPhysician                         object\n",
       "OperatingPhysician                         object\n",
       "OtherPhysician                             object\n",
       "ClmDiagnosisCode_1                         object\n",
       "ClmDiagnosisCode_2                         object\n",
       "ClmDiagnosisCode_3                         object\n",
       "ClmDiagnosisCode_4                         object\n",
       "ClmDiagnosisCode_5                         object\n",
       "ClmDiagnosisCode_6                         object\n",
       "ClmDiagnosisCode_7                         object\n",
       "ClmDiagnosisCode_8                         object\n",
       "ClmDiagnosisCode_9                         object\n",
       "ClmDiagnosisCode_10                        object\n",
       "ClmProcedureCode_1                        float64\n",
       "ClmProcedureCode_2                        float64\n",
       "ClmProcedureCode_3                        float64\n",
       "ClmProcedureCode_4                        float64\n",
       "ClmProcedureCode_5                        float64\n",
       "ClmProcedureCode_6                        float64\n",
       "DeductibleAmtPaid                         float64\n",
       "ClmAdmitDiagnosisCode                      object\n",
       "AdmissionDt                        datetime64[ns]\n",
       "DischargeDt                        datetime64[ns]\n",
       "DiagnosisGroupCode                         object\n",
       "AdmitForDays                              float64\n",
       "DOB                                datetime64[ns]\n",
       "DOD                                datetime64[ns]\n",
       "Gender                                      int64\n",
       "Race                                        int64\n",
       "RenalDiseaseIndicator                      object\n",
       "State                                       int64\n",
       "County                                      int64\n",
       "NoOfMonths_PartACov                         int64\n",
       "NoOfMonths_PartBCov                         int64\n",
       "ChronicCond_Alzheimer                       int64\n",
       "ChronicCond_Heartfailure                    int64\n",
       "ChronicCond_KidneyDisease                   int64\n",
       "ChronicCond_Cancer                          int64\n",
       "ChronicCond_ObstrPulmonary                  int64\n",
       "ChronicCond_Depression                      int64\n",
       "ChronicCond_Diabetes                        int64\n",
       "ChronicCond_IschemicHeart                   int64\n",
       "ChronicCond_Osteoporasis                    int64\n",
       "ChronicCond_rheumatoidarthritis             int64\n",
       "ChronicCond_stroke                          int64\n",
       "IPAnnualReimbursementAmt                    int64\n",
       "IPAnnualDeductibleAmt                       int64\n",
       "OPAnnualReimbursementAmt                    int64\n",
       "OPAnnualDeductibleAmt                       int64\n",
       "Age                                       float64\n",
       "WhetherDead                               float64\n",
       "dtype: object"
      ]
     },
     "execution_count": 29,
     "metadata": {},
     "output_type": "execute_result"
    }
   ],
   "source": [
    "## Lets Check dtypes of both the datasets\n",
    "Train_ProviderWithPatientDetailsdata.dtypes\n",
    "Test_ProviderWithPatientDetailsdata.dtypes"
   ]
  },
  {
   "cell_type": "code",
   "execution_count": 30,
   "metadata": {},
   "outputs": [
    {
     "name": "stdout",
     "output_type": "stream",
     "text": [
      "No     345415\n",
      "Yes    212796\n",
      "Name: PotentialFraud, dtype: int64\n",
      "Percent Distribution of Potential Fraud class:- \n",
      " No     61.878931\n",
      "Yes    38.121069\n",
      "Name: PotentialFraud, dtype: float64\n"
     ]
    },
    {
     "data": {
      "image/png": "[encoded data removed]",
      "text/plain": [
       "<Figure size 720x432 with 1 Axes>"
      ]
     },
     "metadata": {},
     "output_type": "display_data"
    }
   ],
   "source": [
    "#Exploratory Data Analysis\n",
    "\n",
    "#Plot Potential fraud class proportion in both Train and Merged data\n",
    "#PLotting the frequencies of fraud and non-fraud Merged transactions in the data\n",
    "\n",
    "sns.set_style('white',rc={'figure.figsize':(12,8)})\n",
    "count_classes = pd.value_counts(Train_ProviderWithPatientDetailsdata['PotentialFraud'], sort = True)\n",
    "print(count_classes)\n",
    "print(\"Percent Distribution of Potential Fraud class:- \\n\",count_classes*100/len(Train_ProviderWithPatientDetailsdata))\n",
    "LABELS = [\"Non Fraud\", \"Fraud\"]\n",
    "#Drawing a barplot\n",
    "count_classes.plot(kind = 'bar', rot=0,figsize=(10,6))\n",
    "\n",
    "#Giving titles and labels to the plot\n",
    "plt.title(\"Potential Fraud distribution in Aggregated claim transactional data\")\n",
    "plt.xticks(range(2), LABELS)\n",
    "plt.xlabel(\"Potential Fraud Class \")\n",
    "plt.ylabel(\"Number of PotentialFraud per Class \")\n",
    "\n",
    "plt.savefig('PotentialFraudDistributionInMergedData')"
   ]
  },
  {
   "cell_type": "code",
   "execution_count": 31,
   "metadata": {},
   "outputs": [
    {
     "name": "stdout",
     "output_type": "stream",
     "text": [
      "Percent Distribution of Potential Fraud class:- \n",
      " No     90.64695\n",
      "Yes     9.35305\n",
      "Name: PotentialFraud, dtype: float64\n"
     ]
    },
    {
     "data": {
      "image/png": "[encoded data removed]",
      "text/plain": [
       "<Figure size 720x432 with 1 Axes>"
      ]
     },
     "metadata": {},
     "output_type": "display_data"
    }
   ],
   "source": [
    "#PLotting the frequencies of fraud and non-fraud transactions in the train data\n",
    "\n",
    "count_classes_provider = pd.value_counts(Train['PotentialFraud'], sort = True)\n",
    "print(\"Percent Distribution of Potential Fraud class:- \\n\",count_classes_provider*100/len(Train))\n",
    "LABELS = [\"Non Fraud\", \"Fraud\"]\n",
    "#Drawing a barplot\n",
    "count_classes_provider.plot(kind = 'bar', rot=0,figsize=(10,6))\n",
    "\n",
    "#Giving titles and labels to the plot\n",
    "plt.title(\"Potential Fraud distribution in individual Providers data\")\n",
    "plt.xticks(range(2), LABELS)\n",
    "plt.xlabel(\"Potential Fraud Class \")\n",
    "plt.ylabel(\"Number of PotentialFraud per Class \")\n",
    "\n",
    "\n",
    "plt.savefig('PotentialFraudDistributionImbalance')"
   ]
  },
  {
   "cell_type": "code",
   "execution_count": 32,
   "metadata": {},
   "outputs": [],
   "source": [
    "#From the above 2 graphs ,we can say that \n",
    "#the proportion of fradulent claim transactions are more compared to non fraud providers.\n",
    "#So we must get insights from number of claim transactions and amounts involved\n",
    "#per - Beneficiary | Beneficiary + Physician |Physician | Diagnosis | Procedure etc..."
   ]
  },
  {
   "cell_type": "code",
   "execution_count": 33,
   "metadata": {},
   "outputs": [
    {
     "name": "stdout",
     "output_type": "stream",
     "text": [
      "Providers NonFraud|Fraud Class Percent Distribution in Whole dataset :\n",
      " No     61.878931\n",
      "Yes    38.121069\n",
      "Name: PotentialFraud, dtype: float64\n"
     ]
    }
   ],
   "source": [
    "print('Providers NonFraud|Fraud Class Percent Distribution in Whole dataset :\\n',count_classes/len(Train_ProviderWithPatientDetailsdata)*100)"
   ]
  },
  {
   "cell_type": "code",
   "execution_count": 34,
   "metadata": {},
   "outputs": [
    {
     "name": "stdout",
     "output_type": "stream",
     "text": [
      "Providers NonFraud|Fraud Class Percent Distribution :\n",
      " No     90.64695\n",
      "Yes     9.35305\n",
      "Name: PotentialFraud, dtype: float64\n"
     ]
    }
   ],
   "source": [
    "print('Providers NonFraud|Fraud Class Percent Distribution :\\n',count_classes_provider/len(Train)*100)"
   ]
  },
  {
   "cell_type": "code",
   "execution_count": 35,
   "metadata": {},
   "outputs": [],
   "source": [
    "#State - wise Percent Beneficiary Distribution"
   ]
  },
  {
   "cell_type": "code",
   "execution_count": 36,
   "metadata": {},
   "outputs": [
    {
     "data": {
      "image/png": "[encoded data removed]",
      "text/plain": [
       "<Figure size 1152x576 with 1 Axes>"
      ]
     },
     "metadata": {},
     "output_type": "display_data"
    },
    {
     "data": {
      "text/plain": [
       "5     12052\n",
       "10     9771\n",
       "45     8780\n",
       "33     8443\n",
       "39     6055\n",
       "14     5923\n",
       "36     5366\n",
       "23     5293\n",
       "34     4629\n",
       "31     4124\n",
       "11     3892\n",
       "49     3623\n",
       "44     3390\n",
       "22     3306\n",
       "15     3272\n",
       "26     3108\n",
       "50     2793\n",
       "52     2662\n",
       "1      2615\n",
       "21     2570\n",
       "42     2524\n",
       "18     2519\n",
       "3      2395\n",
       "24     2165\n",
       "19     1998\n",
       "37     1926\n",
       "4      1817\n",
       "6      1807\n",
       "16     1746\n",
       "25     1622\n",
       "7      1602\n",
       "38     1468\n",
       "17     1339\n",
       "54     1237\n",
       "51     1212\n",
       "20      931\n",
       "28      905\n",
       "32      895\n",
       "46      851\n",
       "29      752\n",
       "30      732\n",
       "13      687\n",
       "27      538\n",
       "12      484\n",
       "43      465\n",
       "41      438\n",
       "8       415\n",
       "47      410\n",
       "35      304\n",
       "53      295\n",
       "9       214\n",
       "2       196\n",
       "Name: State, dtype: int64"
      ]
     },
     "execution_count": 36,
     "metadata": {},
     "output_type": "execute_result"
    },
    {
     "data": {
      "text/plain": [
       "<Figure size 1008x576 with 0 Axes>"
      ]
     },
     "metadata": {},
     "output_type": "display_data"
    }
   ],
   "source": [
    "#PLotting the frequencies of Statewise beneficiaries\n",
    "count_States = pd.value_counts(Train_Beneficiarydata['State'], sort = True)#sort on basis of frequency\n",
    "#print(\"Percent Distribution of Beneficieries per state:- \\n\",count_States*100/len(Train_Beneficiarydata))\n",
    "\n",
    "#Drawing a barplot\n",
    "(count_States*100/len(Train_Beneficiarydata)).plot(kind = 'bar', rot=0,figsize=(16,8),fontsize=12,legend=True)\n",
    "\n",
    "#Giving titles and labels to the plot\n",
    "\n",
    "plt.annotate('Maximum Beneficiaries are from this State', xy=(0.01,8), xytext=(8, 6.5),\n",
    "             arrowprops=dict(facecolor='black', shrink=0.05))\n",
    "\n",
    "plt.yticks(np.arange(0,10,2), ('0 %','2 %', '4 %', '6 %', '8 %', '10%'))\n",
    "plt.title(\"State - wise Beneficiary Distribution\",fontsize=18)\n",
    "plt.xlabel(\"State Number\",fontsize=15)\n",
    "plt.ylabel(\"Percentage of Beneficiaries \"'%',fontsize=15)\n",
    "plt.show()\n",
    "plt.savefig('StateWiseBeneficiaryDistribution')\n",
    "count_States"
   ]
  },
  {
   "cell_type": "code",
   "execution_count": 37,
   "metadata": {},
   "outputs": [],
   "source": [
    "#Above Plot shows top states with their beneficiary percentage distribution.\n",
    "#States 5,10,45 are top states in terms of beneficiary percentage\n",
    "\n",
    "#Race-wise Percent Distribution of Beneficiaries"
   ]
  },
  {
   "cell_type": "code",
   "execution_count": 38,
   "metadata": {},
   "outputs": [
    {
     "data": {
      "image/png": "[encoded data removed]",
      "text/plain": [
       "<Figure size 720x432 with 1 Axes>"
      ]
     },
     "metadata": {},
     "output_type": "display_data"
    },
    {
     "data": {
      "text/plain": [
       "<Figure size 1008x576 with 0 Axes>"
      ]
     },
     "metadata": {},
     "output_type": "display_data"
    }
   ],
   "source": [
    "#PLotting the frequencies of race-wise beneficiaries\n",
    "count_Race = pd.value_counts(Train_Beneficiarydata['Race'], sort = True)\n",
    "#Race can be used as a proxy for the risk that the patient may be exposed to in relation to these diseases.\n",
    "#Drawing a barplot\n",
    "(count_Race*100/len(Train_Beneficiarydata)).plot(kind = 'bar', rot=0,figsize=(10,6),fontsize=12)\n",
    "\n",
    "#Giving titles and labels to the plot\n",
    "plt.yticks(np.arange(0,100,20))#, ('0 %','20 %', '40 %', '60 %', '80 %', '100%'))\n",
    "plt.title(\"Race - wise Beneficiary Distribution\",fontsize=18)\n",
    "plt.xlabel(\"Race Code\",fontsize=15)\n",
    "plt.ylabel(\"Percentage of Beneficiaries \"'%',fontsize=15)\n",
    "\n",
    "plt.show()\n",
    "\n",
    "plt.savefig('RacewiseBeneficiaryDistribution')"
   ]
  },
  {
   "cell_type": "code",
   "execution_count": 39,
   "metadata": {},
   "outputs": [],
   "source": [
    "#It seems that more than 80% beneficiaries are of same race which is Race 1 which means Maximum population in the dataset originated from same race.\n",
    "#There is no race 4 in the dataset\n",
    "#Top-10 Procedures invloved in Healthcare Fraud"
   ]
  },
  {
   "cell_type": "code",
   "execution_count": 40,
   "metadata": {},
   "outputs": [
    {
     "data": {
      "image/png": "[encoded data removed]",
      "text/plain": [
       "<Figure size 864x576 with 1 Axes>"
      ]
     },
     "metadata": {},
     "output_type": "display_data"
    },
    {
     "data": {
      "text/plain": [
       "<Figure size 864x576 with 0 Axes>"
      ]
     },
     "metadata": {},
     "output_type": "display_data"
    }
   ],
   "source": [
    "## Lets plot countplot for each fraud non fraud categories\n",
    "\n",
    "sns.set(rc={'figure.figsize':(12,8)},style='white')\n",
    "\n",
    "ax=sns.countplot(x='ClmProcedureCode_1',hue='PotentialFraud',data=Train_ProviderWithPatientDetailsdata\n",
    "              ,order=Train_ProviderWithPatientDetailsdata.ClmProcedureCode_1.value_counts().iloc[:10].index)\n",
    "\n",
    "plt.title('Top-10 Procedures invloved in Healthcare Fraud')\n",
    "    \n",
    "plt.show()\n",
    "\n",
    "plt.savefig('TopProceduresinvlovedinHealthcareFraud')"
   ]
  },
  {
   "cell_type": "code",
   "execution_count": 41,
   "metadata": {},
   "outputs": [],
   "source": [
    "#From the above plot,we can say that Procedure 9904,8154,66 are top procedures (in terms of money involved).Distribution of fraud and non fraud count shows suspicious transactions involved in them.\n",
    "\n",
    "#Top-10 Diagnosis invloved in Healthcare Fraud"
   ]
  },
  {
   "cell_type": "code",
   "execution_count": 42,
   "metadata": {},
   "outputs": [
    {
     "data": {
      "image/png": "[encoded data removed]",
      "text/plain": [
       "<Figure size 864x576 with 1 Axes>"
      ]
     },
     "metadata": {},
     "output_type": "display_data"
    },
    {
     "data": {
      "text/plain": [
       "<Figure size 864x576 with 0 Axes>"
      ]
     },
     "metadata": {},
     "output_type": "display_data"
    }
   ],
   "source": [
    "## lets plot Top-10 Claim Diagnosis  invloved in Healthcare Fraud\n",
    "\n",
    "sns.set(rc={'figure.figsize':(12,8)},style='white')\n",
    "\n",
    "sns.countplot(x='ClmDiagnosisCode_1',hue='PotentialFraud',data=Train_ProviderWithPatientDetailsdata\n",
    "              ,order=Train_ProviderWithPatientDetailsdata.ClmDiagnosisCode_1.value_counts().iloc[:10].index)\n",
    "\n",
    "plt.title('Top-10 Diagnosis invloved in Healthcare Fraud')\n",
    "plt.show()\n",
    "\n",
    "plt.savefig('TopDiagnosisInnvlovedinHealthcareFraud')\n",
    "#Train_ProviderWithPatientDetailsdata.ClmDiagnosisCode_1.value_counts()"
   ]
  },
  {
   "cell_type": "code",
   "execution_count": 43,
   "metadata": {},
   "outputs": [],
   "source": [
    "#from the above plot,we can say that diagnosis 4019,4011,2724 are top diagnosis (in terms of money involved).Distribution of fraud and non fraud counts shows suspicious transactions involved in them.\n",
    "\n",
    "#Top-20 Attending Physicians invloved in Healthcare Fraud"
   ]
  },
  {
   "cell_type": "code",
   "execution_count": 44,
   "metadata": {},
   "outputs": [
    {
     "data": {
      "image/png": "[encoded data removed]",
      "text/plain": [
       "<Figure size 864x576 with 1 Axes>"
      ]
     },
     "metadata": {},
     "output_type": "display_data"
    },
    {
     "data": {
      "text/plain": [
       "<Figure size 864x576 with 0 Axes>"
      ]
     },
     "metadata": {},
     "output_type": "display_data"
    }
   ],
   "source": [
    "### lets plot Top-20 Attending Physicians invloved in Healthcare Fraud \n",
    "\n",
    "sns.set(rc={'figure.figsize':(12,8)},style='white')\n",
    "\n",
    "ax= sns.countplot(x='AttendingPhysician',hue='PotentialFraud',data=Train_ProviderWithPatientDetailsdata\n",
    "              ,order=Train_ProviderWithPatientDetailsdata.AttendingPhysician.value_counts().iloc[:20].index)\n",
    "\n",
    "    \n",
    "plt.title('Top-20 Attending physicians invloved in Healthcare Fraud')\n",
    "plt.xticks(rotation=90)\n",
    "plt.show()\n",
    "\n",
    "plt.savefig('TopAttendingphysiciansinvlovedinHealthcareFraud')"
   ]
  },
  {
   "cell_type": "code",
   "execution_count": 45,
   "metadata": {},
   "outputs": [],
   "source": [
    "#In the above plot,we see count of involvement of attending physicians.And flags the nature of provider where they are working is whether fraud or non fraud.\n",
    "\n",
    "#IPAnnualDeductibleAmt Vs IPAnnualReimbursementAmt Fraud and non Fraud Categories"
   ]
  },
  {
   "cell_type": "code",
   "execution_count": 46,
   "metadata": {},
   "outputs": [
    {
     "data": {
      "image/png": "[encoded data removed]",
      "text/plain": [
       "<Figure size 720x360 with 2 Axes>"
      ]
     },
     "metadata": {},
     "output_type": "display_data"
    }
   ],
   "source": [
    "## Lets Plot IPAnnualDeductibleAmt and IPAnnualReimbursementAmt in both fraud and non Fraud Categoories\n",
    "#y selecting hue='color' you tell seaborn to split your dataframe up based on your colours and then plot each one.\n",
    "sns.set(rc={'figure.figsize':(12,8)},style='white')\n",
    "\n",
    "sns.lmplot(x='IPAnnualDeductibleAmt',y='IPAnnualReimbursementAmt',hue='PotentialFraud',col='PotentialFraud',\n",
    "           fit_reg=False,data=Train_ProviderWithPatientDetailsdata)\n",
    "\n",
    "\n",
    "#plt.title('IPAnnualDeductibleAmt and IPAnnualReimbursementAmt in both fraud and non Fraud Categoories')\n",
    "\n",
    "plt.savefig('IPAnnualDeductibleAmtandIPAnnualReimbursementAmtinbothfraudandnonFraud')"
   ]
  },
  {
   "cell_type": "code",
   "execution_count": 47,
   "metadata": {},
   "outputs": [],
   "source": [
    "#As we see in the above graph,there is no visible difference in IpAnnualDeductibleAmt and IPAnnualReimbursementAmt.\n",
    "\n",
    "#DeductibleAmtPaid Vs InsClaimAmtReimbursed in Fraud and non Fraud Categories"
   ]
  },
  {
   "cell_type": "code",
   "execution_count": 48,
   "metadata": {},
   "outputs": [
    {
     "data": {
      "image/png": "[encoded data removed]",
      "text/plain": [
       "<Figure size 720x360 with 2 Axes>"
      ]
     },
     "metadata": {},
     "output_type": "display_data"
    }
   ],
   "source": [
    "## Lets Plot DeductibleAmtPaid and InsClaimAmtReimbursed in both fraud and non Fraud Categoories\n",
    "\n",
    "sns.set(rc={'figure.figsize':(12,8)},style='white')\n",
    "\n",
    "sns.lmplot(x='DeductibleAmtPaid',y='InscClaimAmtReimbursed',hue='PotentialFraud',\n",
    "           col='PotentialFraud',fit_reg=False,data=Train_ProviderWithPatientDetailsdata)\n",
    "\n",
    "\n",
    "plt.savefig('DeductibleAmtPaidandInsClaimAmtReimbursed')"
   ]
  },
  {
   "cell_type": "code",
   "execution_count": 49,
   "metadata": {},
   "outputs": [],
   "source": [
    "#We can not differentiate between fraud and non fraud cases based only on DeductibleAmtPaid and InscClaimAmtReimbursed.This lets us derive more features from datasets.\n",
    "\n",
    "#Insurance Claim Amount Reimbursed Vs Age in Fraud and Non Fraud"
   ]
  },
  {
   "cell_type": "code",
   "execution_count": 50,
   "metadata": {},
   "outputs": [
    {
     "data": {
      "image/png": "[encoded data removed]",
      "text/plain": [
       "<Figure size 864x576 with 2 Axes>"
      ]
     },
     "metadata": {},
     "output_type": "display_data"
    }
   ],
   "source": [
    "## Let's See Insurance Claim Amount Reimbursed Vs Age\n",
    "sns.set(rc={'figure.figsize':(12,8)},style='white')\n",
    "\n",
    "f, (ax1, ax2) = plt.subplots(2, 1, sharex=True)\n",
    "f.suptitle('Insurance Claim Amount Reimbursed Vs Age')\n",
    "\n",
    "ax1.scatter(Train_ProviderWithPatientDetailsdata[Train_ProviderWithPatientDetailsdata.PotentialFraud=='Yes'].Age, \n",
    "            Train_ProviderWithPatientDetailsdata[Train_ProviderWithPatientDetailsdata.PotentialFraud=='Yes'].InscClaimAmtReimbursed)\n",
    "ax1.set_title('Fraud')\n",
    "ax1.axhline(y=60000,c='r')\n",
    "ax1.set_ylabel('Insurance Claim Amout Reimbursed')\n",
    "\n",
    "ax2.scatter(Train_ProviderWithPatientDetailsdata[Train_ProviderWithPatientDetailsdata.PotentialFraud=='No'].Age, \n",
    "            Train_ProviderWithPatientDetailsdata[Train_ProviderWithPatientDetailsdata.PotentialFraud=='No'].InscClaimAmtReimbursed)\n",
    "ax2.set_title('Normal')\n",
    "ax2.axhline(y=60000,c='r')\n",
    "ax2.set_xlabel('Age (in Years)')\n",
    "ax2.set_ylabel('Insurance Claim Amout Reimbursed')\n",
    "\n",
    "plt.show()\n",
    "f.savefig('AgeVsClaimAmtReimbursed')"
   ]
  },
  {
   "cell_type": "code",
   "execution_count": 51,
   "metadata": {},
   "outputs": [],
   "source": [
    "#From the above graph,we see that occurance of fraud cases is more frequent in lower age groups(30-70 years) compared to higher age groups(70+ years).Age is one of the important feature for differentiating between fraud abd non fraud behaviour."
   ]
  },
  {
   "cell_type": "code",
   "execution_count": 52,
   "metadata": {},
   "outputs": [],
   "source": [
    "#Feature Engineering Append Train to Test to derive more accurate features."
   ]
  },
  {
   "cell_type": "code",
   "execution_count": 53,
   "metadata": {},
   "outputs": [
    {
     "data": {
      "text/html": [
       "<div>\n",
       "<style scoped>\n",
       "    .dataframe tbody tr th:only-of-type {\n",
       "        vertical-align: middle;\n",
       "    }\n",
       "\n",
       "    .dataframe tbody tr th {\n",
       "        vertical-align: top;\n",
       "    }\n",
       "\n",
       "    .dataframe thead th {\n",
       "        text-align: right;\n",
       "    }\n",
       "</style>\n",
       "<table border=\"1\" class=\"dataframe\">\n",
       "  <thead>\n",
       "    <tr style=\"text-align: right;\">\n",
       "      <th></th>\n",
       "      <th>Provider</th>\n",
       "      <th>BeneID</th>\n",
       "      <th>ClaimID</th>\n",
       "      <th>ClaimStartDt</th>\n",
       "      <th>ClaimEndDt</th>\n",
       "      <th>InscClaimAmtReimbursed</th>\n",
       "      <th>AttendingPhysician</th>\n",
       "      <th>OperatingPhysician</th>\n",
       "      <th>OtherPhysician</th>\n",
       "      <th>ClmDiagnosisCode_1</th>\n",
       "      <th>...</th>\n",
       "      <th>ChronicCond_IschemicHeart</th>\n",
       "      <th>ChronicCond_Osteoporasis</th>\n",
       "      <th>ChronicCond_rheumatoidarthritis</th>\n",
       "      <th>ChronicCond_stroke</th>\n",
       "      <th>IPAnnualReimbursementAmt</th>\n",
       "      <th>IPAnnualDeductibleAmt</th>\n",
       "      <th>OPAnnualReimbursementAmt</th>\n",
       "      <th>OPAnnualDeductibleAmt</th>\n",
       "      <th>Age</th>\n",
       "      <th>WhetherDead</th>\n",
       "    </tr>\n",
       "  </thead>\n",
       "  <tbody>\n",
       "    <tr>\n",
       "      <th>135391</th>\n",
       "      <td>PRV57750</td>\n",
       "      <td>BENE150236</td>\n",
       "      <td>CLM675578</td>\n",
       "      <td>2009-11-10</td>\n",
       "      <td>2009-11-10</td>\n",
       "      <td>200</td>\n",
       "      <td>PHY323525</td>\n",
       "      <td>PHY323525</td>\n",
       "      <td>PHY323525</td>\n",
       "      <td>4788</td>\n",
       "      <td>...</td>\n",
       "      <td>1</td>\n",
       "      <td>0</td>\n",
       "      <td>0</td>\n",
       "      <td>0</td>\n",
       "      <td>0</td>\n",
       "      <td>0</td>\n",
       "      <td>290</td>\n",
       "      <td>1120</td>\n",
       "      <td>67.0</td>\n",
       "      <td>0.0</td>\n",
       "    </tr>\n",
       "  </tbody>\n",
       "</table>\n",
       "<p>1 rows × 57 columns</p>\n",
       "</div>"
      ],
      "text/plain": [
       "        Provider      BeneID    ClaimID ClaimStartDt  ClaimEndDt  \\\n",
       "135391  PRV57750  BENE150236  CLM675578   2009-11-10  2009-11-10   \n",
       "\n",
       "        InscClaimAmtReimbursed AttendingPhysician OperatingPhysician  \\\n",
       "135391                     200          PHY323525          PHY323525   \n",
       "\n",
       "       OtherPhysician ClmDiagnosisCode_1  ... ChronicCond_IschemicHeart  \\\n",
       "135391      PHY323525               4788  ...                         1   \n",
       "\n",
       "       ChronicCond_Osteoporasis ChronicCond_rheumatoidarthritis  \\\n",
       "135391                        0                               0   \n",
       "\n",
       "       ChronicCond_stroke IPAnnualReimbursementAmt IPAnnualDeductibleAmt  \\\n",
       "135391                  0                        0                     0   \n",
       "\n",
       "       OPAnnualReimbursementAmt OPAnnualDeductibleAmt   Age  WhetherDead  \n",
       "135391                      290                  1120  67.0          0.0  \n",
       "\n",
       "[1 rows x 57 columns]"
      ]
     },
     "execution_count": 53,
     "metadata": {},
     "output_type": "execute_result"
    }
   ],
   "source": [
    "# Lets check the last record of Test_ProviderWithPatientDetailsdata\n",
    "\n",
    "Test_ProviderWithPatientDetailsdata.iloc[[135391]]"
   ]
  },
  {
   "cell_type": "code",
   "execution_count": 54,
   "metadata": {},
   "outputs": [
    {
     "data": {
      "text/html": [
       "<div>\n",
       "<style scoped>\n",
       "    .dataframe tbody tr th:only-of-type {\n",
       "        vertical-align: middle;\n",
       "    }\n",
       "\n",
       "    .dataframe tbody tr th {\n",
       "        vertical-align: top;\n",
       "    }\n",
       "\n",
       "    .dataframe thead th {\n",
       "        text-align: right;\n",
       "    }\n",
       "</style>\n",
       "<table border=\"1\" class=\"dataframe\">\n",
       "  <thead>\n",
       "    <tr style=\"text-align: right;\">\n",
       "      <th></th>\n",
       "      <th>Provider</th>\n",
       "      <th>PotentialFraud</th>\n",
       "      <th>BeneID</th>\n",
       "      <th>ClaimID</th>\n",
       "      <th>ClaimStartDt</th>\n",
       "      <th>ClaimEndDt</th>\n",
       "      <th>InscClaimAmtReimbursed</th>\n",
       "      <th>AttendingPhysician</th>\n",
       "      <th>OperatingPhysician</th>\n",
       "      <th>OtherPhysician</th>\n",
       "      <th>...</th>\n",
       "      <th>ChronicCond_IschemicHeart</th>\n",
       "      <th>ChronicCond_Osteoporasis</th>\n",
       "      <th>ChronicCond_rheumatoidarthritis</th>\n",
       "      <th>ChronicCond_stroke</th>\n",
       "      <th>IPAnnualReimbursementAmt</th>\n",
       "      <th>IPAnnualDeductibleAmt</th>\n",
       "      <th>OPAnnualReimbursementAmt</th>\n",
       "      <th>OPAnnualDeductibleAmt</th>\n",
       "      <th>Age</th>\n",
       "      <th>WhetherDead</th>\n",
       "    </tr>\n",
       "  </thead>\n",
       "  <tbody>\n",
       "    <tr>\n",
       "      <th>558210</th>\n",
       "      <td>PRV57763</td>\n",
       "      <td>No</td>\n",
       "      <td>BENE158531</td>\n",
       "      <td>CLM701529</td>\n",
       "      <td>2009-11-26</td>\n",
       "      <td>2009-11-26</td>\n",
       "      <td>40</td>\n",
       "      <td>PHY321072</td>\n",
       "      <td>NaN</td>\n",
       "      <td>PHY321072</td>\n",
       "      <td>...</td>\n",
       "      <td>1</td>\n",
       "      <td>0</td>\n",
       "      <td>0</td>\n",
       "      <td>0</td>\n",
       "      <td>0</td>\n",
       "      <td>0</td>\n",
       "      <td>3700</td>\n",
       "      <td>240</td>\n",
       "      <td>58.0</td>\n",
       "      <td>0.0</td>\n",
       "    </tr>\n",
       "  </tbody>\n",
       "</table>\n",
       "<p>1 rows × 58 columns</p>\n",
       "</div>"
      ],
      "text/plain": [
       "        Provider PotentialFraud      BeneID    ClaimID ClaimStartDt  \\\n",
       "558210  PRV57763             No  BENE158531  CLM701529   2009-11-26   \n",
       "\n",
       "        ClaimEndDt  InscClaimAmtReimbursed AttendingPhysician  \\\n",
       "558210  2009-11-26                      40          PHY321072   \n",
       "\n",
       "       OperatingPhysician OtherPhysician  ... ChronicCond_IschemicHeart  \\\n",
       "558210                NaN      PHY321072  ...                         1   \n",
       "\n",
       "       ChronicCond_Osteoporasis ChronicCond_rheumatoidarthritis  \\\n",
       "558210                        0                               0   \n",
       "\n",
       "       ChronicCond_stroke IPAnnualReimbursementAmt IPAnnualDeductibleAmt  \\\n",
       "558210                  0                        0                     0   \n",
       "\n",
       "       OPAnnualReimbursementAmt OPAnnualDeductibleAmt   Age WhetherDead  \n",
       "558210                     3700                   240  58.0         0.0  \n",
       "\n",
       "[1 rows x 58 columns]"
      ]
     },
     "execution_count": 54,
     "metadata": {},
     "output_type": "execute_result"
    }
   ],
   "source": [
    "# Lets check the last record of Train_ProviderWithPatientDetailsdata\n",
    "\n",
    "Train_ProviderWithPatientDetailsdata.iloc[[558210]]"
   ]
  },
  {
   "cell_type": "code",
   "execution_count": 55,
   "metadata": {},
   "outputs": [],
   "source": [
    "#Appending Train data to Test data will help you get good average scores of new features in Test data,as we see not all levels of variables are present in test data compared to train data.So our approach here will be-to append train data to test data ,derive new average features and take only test data to evaluate results."
   ]
  },
  {
   "cell_type": "code",
   "execution_count": 56,
   "metadata": {},
   "outputs": [],
   "source": [
    "## Lets create a copy of test data first and merge test with train to get better feature averages\n",
    "\n",
    "Test_ProviderWithPatientDetailsdata_copy=Test_ProviderWithPatientDetailsdata"
   ]
  },
  {
   "cell_type": "code",
   "execution_count": 57,
   "metadata": {},
   "outputs": [
    {
     "name": "stdout",
     "output_type": "stream",
     "text": [
      "Shape of Test Copy :- (135392, 57)\n"
     ]
    }
   ],
   "source": [
    "#Lets Check shape of copy\n",
    "\n",
    "print('Shape of Test Copy :-',Test_ProviderWithPatientDetailsdata_copy.shape)"
   ]
  },
  {
   "cell_type": "code",
   "execution_count": 58,
   "metadata": {},
   "outputs": [],
   "source": [
    "### We will concat two datasets using columns of Test data only as we dont see target column in Test data.\n",
    "\n",
    "col_merge=Test_ProviderWithPatientDetailsdata.columns"
   ]
  },
  {
   "cell_type": "code",
   "execution_count": 59,
   "metadata": {},
   "outputs": [],
   "source": [
    "## Lets add both test and train datasets\n",
    "\n",
    "Test_ProviderWithPatientDetailsdata=pd.concat([Test_ProviderWithPatientDetailsdata,\n",
    "                                               Train_ProviderWithPatientDetailsdata[col_merge]])"
   ]
  },
  {
   "cell_type": "code",
   "execution_count": 60,
   "metadata": {},
   "outputs": [
    {
     "name": "stdout",
     "output_type": "stream",
     "text": [
      "Shape of Test After Concatenation (693603, 57)\n",
      "Expected rows after addition 693603\n"
     ]
    }
   ],
   "source": [
    "### Lets verify shape after concatenating\n",
    "\n",
    "print(\"Shape of Test After Concatenation\",Test_ProviderWithPatientDetailsdata.shape)\n",
    "\n",
    "print(\"Expected rows after addition\",135392+558211)"
   ]
  },
  {
   "cell_type": "code",
   "execution_count": 61,
   "metadata": {},
   "outputs": [
    {
     "data": {
      "text/html": [
       "<div>\n",
       "<style scoped>\n",
       "    .dataframe tbody tr th:only-of-type {\n",
       "        vertical-align: middle;\n",
       "    }\n",
       "\n",
       "    .dataframe tbody tr th {\n",
       "        vertical-align: top;\n",
       "    }\n",
       "\n",
       "    .dataframe thead th {\n",
       "        text-align: right;\n",
       "    }\n",
       "</style>\n",
       "<table border=\"1\" class=\"dataframe\">\n",
       "  <thead>\n",
       "    <tr style=\"text-align: right;\">\n",
       "      <th></th>\n",
       "      <th>Provider</th>\n",
       "      <th>BeneID</th>\n",
       "      <th>ClaimID</th>\n",
       "      <th>ClaimStartDt</th>\n",
       "      <th>ClaimEndDt</th>\n",
       "      <th>InscClaimAmtReimbursed</th>\n",
       "      <th>AttendingPhysician</th>\n",
       "      <th>OperatingPhysician</th>\n",
       "      <th>OtherPhysician</th>\n",
       "      <th>ClmDiagnosisCode_1</th>\n",
       "      <th>...</th>\n",
       "      <th>ChronicCond_IschemicHeart</th>\n",
       "      <th>ChronicCond_Osteoporasis</th>\n",
       "      <th>ChronicCond_rheumatoidarthritis</th>\n",
       "      <th>ChronicCond_stroke</th>\n",
       "      <th>IPAnnualReimbursementAmt</th>\n",
       "      <th>IPAnnualDeductibleAmt</th>\n",
       "      <th>OPAnnualReimbursementAmt</th>\n",
       "      <th>OPAnnualDeductibleAmt</th>\n",
       "      <th>Age</th>\n",
       "      <th>WhetherDead</th>\n",
       "    </tr>\n",
       "  </thead>\n",
       "  <tbody>\n",
       "    <tr>\n",
       "      <th>0</th>\n",
       "      <td>PRV51001</td>\n",
       "      <td>BENE11727</td>\n",
       "      <td>CLM733300</td>\n",
       "      <td>2009-12-17</td>\n",
       "      <td>2009-12-17</td>\n",
       "      <td>20</td>\n",
       "      <td>PHY383007</td>\n",
       "      <td>NaN</td>\n",
       "      <td>PHY383007</td>\n",
       "      <td>5953</td>\n",
       "      <td>...</td>\n",
       "      <td>1</td>\n",
       "      <td>0</td>\n",
       "      <td>0</td>\n",
       "      <td>0</td>\n",
       "      <td>0</td>\n",
       "      <td>0</td>\n",
       "      <td>300</td>\n",
       "      <td>110</td>\n",
       "      <td>80.0</td>\n",
       "      <td>0.0</td>\n",
       "    </tr>\n",
       "  </tbody>\n",
       "</table>\n",
       "<p>1 rows × 57 columns</p>\n",
       "</div>"
      ],
      "text/plain": [
       "   Provider     BeneID    ClaimID ClaimStartDt  ClaimEndDt  \\\n",
       "0  PRV51001  BENE11727  CLM733300   2009-12-17  2009-12-17   \n",
       "\n",
       "   InscClaimAmtReimbursed AttendingPhysician OperatingPhysician  \\\n",
       "0                      20          PHY383007                NaN   \n",
       "\n",
       "  OtherPhysician ClmDiagnosisCode_1  ... ChronicCond_IschemicHeart  \\\n",
       "0      PHY383007               5953  ...                         1   \n",
       "\n",
       "  ChronicCond_Osteoporasis ChronicCond_rheumatoidarthritis ChronicCond_stroke  \\\n",
       "0                        0                               0                  0   \n",
       "\n",
       "  IPAnnualReimbursementAmt IPAnnualDeductibleAmt OPAnnualReimbursementAmt  \\\n",
       "0                        0                     0                      300   \n",
       "\n",
       "  OPAnnualDeductibleAmt   Age  WhetherDead  \n",
       "0                   110  80.0          0.0  \n",
       "\n",
       "[1 rows x 57 columns]"
      ]
     },
     "execution_count": 61,
     "metadata": {},
     "output_type": "execute_result"
    }
   ],
   "source": [
    "### Lets check record number 135392 as this will be record from train datasets.\n",
    "Test_ProviderWithPatientDetailsdata.iloc[[135392]]"
   ]
  },
  {
   "cell_type": "code",
   "execution_count": 62,
   "metadata": {},
   "outputs": [],
   "source": [
    "##As we verified that our first record is appended to test data correctly,we are all set to derive Average features grouped according to columns of datasets.\n",
    "\n",
    "##Other than basic explorations and visualizations, we can use certain methods to identify clues of fraud and abuse. One such simple method is 'Grouping based on Similarity'. \n",
    "#In this method, we basically group all the records by the ProcedureCodes, DiagnosisCodes,Provider.\n",
    "\n",
    "##For example, if we have a dataset with Procedure codes only for X Procedure, we will then group and check average Amounts involved at each levels of Procedure and analyse the behaviour**"
   ]
  },
  {
   "cell_type": "code",
   "execution_count": 63,
   "metadata": {},
   "outputs": [],
   "source": [
    "#Average Features based on grouping variables. Average features grouped by Provider\n",
    "\n",
    "#The transform function retains the same number of items as the original dataset after performing the transformation. \n",
    "#We’ll be leaning on a super-easy one-line step using groupby followed by a transform:\n",
    "#df[\"User_Mean\"] = df.groupby('User_ID')[\"Purchase\"].transform('mean')\n",
    "#The time taken by the transform function to perform the above operation is comparatively less over a large dataframe.\n",
    "#That’s a sigificant advantage as comapred to the first approach we used."
   ]
  },
  {
   "cell_type": "code",
   "execution_count": 64,
   "metadata": {},
   "outputs": [],
   "source": [
    "Train_ProviderWithPatientDetailsdata[\"PerProviderAvg_InscClaimAmtReimbursed\"]=Train_ProviderWithPatientDetailsdata.groupby('Provider')['InscClaimAmtReimbursed'].transform('mean')\n",
    "Train_ProviderWithPatientDetailsdata[\"PerProviderAvg_DeductibleAmtPaid\"]=Train_ProviderWithPatientDetailsdata.groupby('Provider')['DeductibleAmtPaid'].transform('mean')\n",
    "Train_ProviderWithPatientDetailsdata[\"PerProviderAvg_IPAnnualReimbursementAmt\"]=Train_ProviderWithPatientDetailsdata.groupby('Provider')['IPAnnualReimbursementAmt'].transform('mean')\n",
    "Train_ProviderWithPatientDetailsdata[\"PerProviderAvg_IPAnnualDeductibleAmt\"]=Train_ProviderWithPatientDetailsdata.groupby('Provider')['IPAnnualDeductibleAmt'].transform('mean')\n",
    "Train_ProviderWithPatientDetailsdata[\"PerProviderAvg_OPAnnualReimbursementAmt\"]=Train_ProviderWithPatientDetailsdata.groupby('Provider')['OPAnnualReimbursementAmt'].transform('mean')\n",
    "Train_ProviderWithPatientDetailsdata[\"PerProviderAvg_OPAnnualDeductibleAmt\"]=Train_ProviderWithPatientDetailsdata.groupby('Provider')['OPAnnualDeductibleAmt'].transform('mean')\n",
    "Train_ProviderWithPatientDetailsdata[\"PerProviderAvg_Age\"]=Train_ProviderWithPatientDetailsdata.groupby('Provider')['Age'].transform('mean')\n",
    "Train_ProviderWithPatientDetailsdata[\"PerProviderAvg_NoOfMonths_PartACov\"]=Train_ProviderWithPatientDetailsdata.groupby('Provider')['NoOfMonths_PartACov'].transform('mean')\n",
    "Train_ProviderWithPatientDetailsdata[\"PerProviderAvg_NoOfMonths_PartBCov\"]=Train_ProviderWithPatientDetailsdata.groupby('Provider')['NoOfMonths_PartBCov'].transform('mean')\n",
    "Train_ProviderWithPatientDetailsdata[\"PerProviderAvg_AdmitForDays\"]=Train_ProviderWithPatientDetailsdata.groupby('Provider')['AdmitForDays'].transform('mean')\n",
    "\n",
    "\n",
    "Test_ProviderWithPatientDetailsdata[\"PerProviderAvg_InscClaimAmtReimbursed\"]=Test_ProviderWithPatientDetailsdata.groupby('Provider')['InscClaimAmtReimbursed'].transform('mean')\n",
    "Test_ProviderWithPatientDetailsdata[\"PerProviderAvg_DeductibleAmtPaid\"]=Test_ProviderWithPatientDetailsdata.groupby('Provider')['DeductibleAmtPaid'].transform('mean')\n",
    "Test_ProviderWithPatientDetailsdata[\"PerProviderAvg_IPAnnualReimbursementAmt\"]=Test_ProviderWithPatientDetailsdata.groupby('Provider')['IPAnnualReimbursementAmt'].transform('mean')\n",
    "Test_ProviderWithPatientDetailsdata[\"PerProviderAvg_IPAnnualDeductibleAmt\"]=Test_ProviderWithPatientDetailsdata.groupby('Provider')['IPAnnualDeductibleAmt'].transform('mean')\n",
    "Test_ProviderWithPatientDetailsdata[\"PerProviderAvg_OPAnnualReimbursementAmt\"]=Test_ProviderWithPatientDetailsdata.groupby('Provider')['OPAnnualReimbursementAmt'].transform('mean')\n",
    "Test_ProviderWithPatientDetailsdata[\"PerProviderAvg_OPAnnualDeductibleAmt\"]=Test_ProviderWithPatientDetailsdata.groupby('Provider')['OPAnnualDeductibleAmt'].transform('mean')\n",
    "Test_ProviderWithPatientDetailsdata[\"PerProviderAvg_Age\"]=Test_ProviderWithPatientDetailsdata.groupby('Provider')['Age'].transform('mean')\n",
    "Test_ProviderWithPatientDetailsdata[\"PerProviderAvg_NoOfMonths_PartACov\"]=Test_ProviderWithPatientDetailsdata.groupby('Provider')['NoOfMonths_PartACov'].transform('mean')\n",
    "Test_ProviderWithPatientDetailsdata[\"PerProviderAvg_NoOfMonths_PartBCov\"]=Test_ProviderWithPatientDetailsdata.groupby('Provider')['NoOfMonths_PartBCov'].transform('mean')\n",
    "Test_ProviderWithPatientDetailsdata[\"PerProviderAvg_AdmitForDays\"]=Test_ProviderWithPatientDetailsdata.groupby('Provider')['AdmitForDays'].transform('mean')"
   ]
  },
  {
   "cell_type": "code",
   "execution_count": 65,
   "metadata": {},
   "outputs": [
    {
     "name": "stdout",
     "output_type": "stream",
     "text": [
      "Train (558211, 68)\n",
      "Test  (693603, 67)\n"
     ]
    },
    {
     "data": {
      "text/html": [
       "<div>\n",
       "<style scoped>\n",
       "    .dataframe tbody tr th:only-of-type {\n",
       "        vertical-align: middle;\n",
       "    }\n",
       "\n",
       "    .dataframe tbody tr th {\n",
       "        vertical-align: top;\n",
       "    }\n",
       "\n",
       "    .dataframe thead th {\n",
       "        text-align: right;\n",
       "    }\n",
       "</style>\n",
       "<table border=\"1\" class=\"dataframe\">\n",
       "  <thead>\n",
       "    <tr style=\"text-align: right;\">\n",
       "      <th></th>\n",
       "      <th>PerProviderAvg_InscClaimAmtReimbursed</th>\n",
       "      <th>PerProviderAvg_DeductibleAmtPaid</th>\n",
       "      <th>PerProviderAvg_IPAnnualReimbursementAmt</th>\n",
       "      <th>PerProviderAvg_IPAnnualDeductibleAmt</th>\n",
       "      <th>PerProviderAvg_OPAnnualReimbursementAmt</th>\n",
       "      <th>PerProviderAvg_OPAnnualDeductibleAmt</th>\n",
       "      <th>PerProviderAvg_Age</th>\n",
       "      <th>PerProviderAvg_NoOfMonths_PartACov</th>\n",
       "      <th>PerProviderAvg_NoOfMonths_PartBCov</th>\n",
       "      <th>PerProviderAvg_AdmitForDays</th>\n",
       "    </tr>\n",
       "  </thead>\n",
       "  <tbody>\n",
       "    <tr>\n",
       "      <th>0</th>\n",
       "      <td>262.390244</td>\n",
       "      <td>1.853659</td>\n",
       "      <td>5180.926829</td>\n",
       "      <td>548.253659</td>\n",
       "      <td>2345.073171</td>\n",
       "      <td>677.95122</td>\n",
       "      <td>72.365854</td>\n",
       "      <td>11.82439</td>\n",
       "      <td>12.0</td>\n",
       "      <td>NaN</td>\n",
       "    </tr>\n",
       "    <tr>\n",
       "      <th>1</th>\n",
       "      <td>262.390244</td>\n",
       "      <td>1.853659</td>\n",
       "      <td>5180.926829</td>\n",
       "      <td>548.253659</td>\n",
       "      <td>2345.073171</td>\n",
       "      <td>677.95122</td>\n",
       "      <td>72.365854</td>\n",
       "      <td>11.82439</td>\n",
       "      <td>12.0</td>\n",
       "      <td>NaN</td>\n",
       "    </tr>\n",
       "    <tr>\n",
       "      <th>2</th>\n",
       "      <td>262.390244</td>\n",
       "      <td>1.853659</td>\n",
       "      <td>5180.926829</td>\n",
       "      <td>548.253659</td>\n",
       "      <td>2345.073171</td>\n",
       "      <td>677.95122</td>\n",
       "      <td>72.365854</td>\n",
       "      <td>11.82439</td>\n",
       "      <td>12.0</td>\n",
       "      <td>NaN</td>\n",
       "    </tr>\n",
       "    <tr>\n",
       "      <th>3</th>\n",
       "      <td>262.390244</td>\n",
       "      <td>1.853659</td>\n",
       "      <td>5180.926829</td>\n",
       "      <td>548.253659</td>\n",
       "      <td>2345.073171</td>\n",
       "      <td>677.95122</td>\n",
       "      <td>72.365854</td>\n",
       "      <td>11.82439</td>\n",
       "      <td>12.0</td>\n",
       "      <td>NaN</td>\n",
       "    </tr>\n",
       "  </tbody>\n",
       "</table>\n",
       "</div>"
      ],
      "text/plain": [
       "   PerProviderAvg_InscClaimAmtReimbursed  PerProviderAvg_DeductibleAmtPaid  \\\n",
       "0                             262.390244                          1.853659   \n",
       "1                             262.390244                          1.853659   \n",
       "2                             262.390244                          1.853659   \n",
       "3                             262.390244                          1.853659   \n",
       "\n",
       "   PerProviderAvg_IPAnnualReimbursementAmt  \\\n",
       "0                              5180.926829   \n",
       "1                              5180.926829   \n",
       "2                              5180.926829   \n",
       "3                              5180.926829   \n",
       "\n",
       "   PerProviderAvg_IPAnnualDeductibleAmt  \\\n",
       "0                            548.253659   \n",
       "1                            548.253659   \n",
       "2                            548.253659   \n",
       "3                            548.253659   \n",
       "\n",
       "   PerProviderAvg_OPAnnualReimbursementAmt  \\\n",
       "0                              2345.073171   \n",
       "1                              2345.073171   \n",
       "2                              2345.073171   \n",
       "3                              2345.073171   \n",
       "\n",
       "   PerProviderAvg_OPAnnualDeductibleAmt  PerProviderAvg_Age  \\\n",
       "0                             677.95122           72.365854   \n",
       "1                             677.95122           72.365854   \n",
       "2                             677.95122           72.365854   \n",
       "3                             677.95122           72.365854   \n",
       "\n",
       "   PerProviderAvg_NoOfMonths_PartACov  PerProviderAvg_NoOfMonths_PartBCov  \\\n",
       "0                            11.82439                                12.0   \n",
       "1                            11.82439                                12.0   \n",
       "2                            11.82439                                12.0   \n",
       "3                            11.82439                                12.0   \n",
       "\n",
       "   PerProviderAvg_AdmitForDays  \n",
       "0                          NaN  \n",
       "1                          NaN  \n",
       "2                          NaN  \n",
       "3                          NaN  "
      ]
     },
     "execution_count": 65,
     "metadata": {},
     "output_type": "execute_result"
    }
   ],
   "source": [
    "#lets check shape\n",
    "\n",
    "print('Train',Train_ProviderWithPatientDetailsdata.shape)\n",
    "Train_ProviderWithPatientDetailsdata.iloc[:,-10:].head(2)\n",
    "\n",
    "print(\"Test \",Test_ProviderWithPatientDetailsdata.shape)\n",
    "Test_ProviderWithPatientDetailsdata.iloc[:,-10:].head(4)"
   ]
  },
  {
   "cell_type": "code",
   "execution_count": 66,
   "metadata": {},
   "outputs": [],
   "source": [
    "#Average features grouped by BeneID"
   ]
  },
  {
   "cell_type": "code",
   "execution_count": 67,
   "metadata": {},
   "outputs": [],
   "source": [
    "## Grouping based on BeneID explains amounts involved per beneficiary.Reason to derive this feature is that one beneficiary \n",
    "## can go to multiple providers and can be involved in fraud cases\n",
    "Train_ProviderWithPatientDetailsdata[\"PerBeneIDAvg_InscClaimAmtReimbursed\"]=Train_ProviderWithPatientDetailsdata.groupby('BeneID')['InscClaimAmtReimbursed'].transform('mean')\n",
    "Train_ProviderWithPatientDetailsdata[\"PerBeneIDAvg_DeductibleAmtPaid\"]=Train_ProviderWithPatientDetailsdata.groupby('BeneID')['DeductibleAmtPaid'].transform('mean')\n",
    "Train_ProviderWithPatientDetailsdata[\"PerBeneIDAvg_IPAnnualReimbursementAmt\"]=Train_ProviderWithPatientDetailsdata.groupby('BeneID')['IPAnnualReimbursementAmt'].transform('mean')\n",
    "Train_ProviderWithPatientDetailsdata[\"PerBeneIDAvg_IPAnnualDeductibleAmt\"]=Train_ProviderWithPatientDetailsdata.groupby('BeneID')['IPAnnualDeductibleAmt'].transform('mean')\n",
    "Train_ProviderWithPatientDetailsdata[\"PerBeneIDAvg_OPAnnualReimbursementAmt\"]=Train_ProviderWithPatientDetailsdata.groupby('BeneID')['OPAnnualReimbursementAmt'].transform('mean')\n",
    "Train_ProviderWithPatientDetailsdata[\"PerBeneIDAvg_OPAnnualDeductibleAmt\"]=Train_ProviderWithPatientDetailsdata.groupby('BeneID')['OPAnnualDeductibleAmt'].transform('mean')\n",
    "Train_ProviderWithPatientDetailsdata[\"PerBeneIDAvg_AdmitForDays\"]=Train_ProviderWithPatientDetailsdata.groupby('BeneID')['AdmitForDays'].transform('mean')\n",
    "\n",
    "\n",
    "Test_ProviderWithPatientDetailsdata[\"PerBeneIDAvg_InscClaimAmtReimbursed\"]=Test_ProviderWithPatientDetailsdata.groupby('BeneID')['InscClaimAmtReimbursed'].transform('mean')\n",
    "Test_ProviderWithPatientDetailsdata[\"PerBeneIDAvg_DeductibleAmtPaid\"]=Test_ProviderWithPatientDetailsdata.groupby('BeneID')['DeductibleAmtPaid'].transform('mean')\n",
    "Test_ProviderWithPatientDetailsdata[\"PerBeneIDAvg_IPAnnualReimbursementAmt\"]=Test_ProviderWithPatientDetailsdata.groupby('BeneID')['IPAnnualReimbursementAmt'].transform('mean')\n",
    "Test_ProviderWithPatientDetailsdata[\"PerBeneIDAvg_IPAnnualDeductibleAmt\"]=Test_ProviderWithPatientDetailsdata.groupby('BeneID')['IPAnnualDeductibleAmt'].transform('mean')\n",
    "Test_ProviderWithPatientDetailsdata[\"PerBeneIDAvg_OPAnnualReimbursementAmt\"]=Test_ProviderWithPatientDetailsdata.groupby('BeneID')['OPAnnualReimbursementAmt'].transform('mean')\n",
    "Test_ProviderWithPatientDetailsdata[\"PerBeneIDAvg_OPAnnualDeductibleAmt\"]=Test_ProviderWithPatientDetailsdata.groupby('BeneID')['OPAnnualDeductibleAmt'].transform('mean')\n",
    "Test_ProviderWithPatientDetailsdata[\"PerBeneIDAvg_AdmitForDays\"]=Test_ProviderWithPatientDetailsdata.groupby('BeneID')['AdmitForDays'].transform('mean')"
   ]
  },
  {
   "cell_type": "code",
   "execution_count": 68,
   "metadata": {},
   "outputs": [],
   "source": [
    "#Average features grouped by OtherPhysician"
   ]
  },
  {
   "cell_type": "code",
   "execution_count": 69,
   "metadata": {},
   "outputs": [],
   "source": [
    "### Average features grouped by OtherPhysician.\n",
    "\n",
    "Train_ProviderWithPatientDetailsdata[\"PerOtherPhysicianAvg_InscClaimAmtReimbursed\"]=Train_ProviderWithPatientDetailsdata.groupby('OtherPhysician')['InscClaimAmtReimbursed'].transform('mean')\n",
    "Train_ProviderWithPatientDetailsdata[\"PerOtherPhysicianAvg_DeductibleAmtPaid\"]=Train_ProviderWithPatientDetailsdata.groupby('OtherPhysician')['DeductibleAmtPaid'].transform('mean')\n",
    "Train_ProviderWithPatientDetailsdata[\"PerOtherPhysicianAvg_IPAnnualReimbursementAmt\"]=Train_ProviderWithPatientDetailsdata.groupby('OtherPhysician')['IPAnnualReimbursementAmt'].transform('mean')\n",
    "Train_ProviderWithPatientDetailsdata[\"PerOtherPhysicianAvg_IPAnnualDeductibleAmt\"]=Train_ProviderWithPatientDetailsdata.groupby('OtherPhysician')['IPAnnualDeductibleAmt'].transform('mean')\n",
    "Train_ProviderWithPatientDetailsdata[\"PerOtherPhysicianAvg_OPAnnualReimbursementAmt\"]=Train_ProviderWithPatientDetailsdata.groupby('OtherPhysician')['OPAnnualReimbursementAmt'].transform('mean')\n",
    "Train_ProviderWithPatientDetailsdata[\"PerOtherPhysicianAvg_OPAnnualDeductibleAmt\"]=Train_ProviderWithPatientDetailsdata.groupby('OtherPhysician')['OPAnnualDeductibleAmt'].transform('mean')\n",
    "Train_ProviderWithPatientDetailsdata[\"PerOtherPhysicianAvg_AdmitForDays\"]=Train_ProviderWithPatientDetailsdata.groupby('OtherPhysician')['AdmitForDays'].transform('mean')\n",
    "\n",
    "Test_ProviderWithPatientDetailsdata[\"PerOtherPhysicianAvg_InscClaimAmtReimbursed\"]=Test_ProviderWithPatientDetailsdata.groupby('OtherPhysician')['InscClaimAmtReimbursed'].transform('mean')\n",
    "Test_ProviderWithPatientDetailsdata[\"PerOtherPhysicianAvg_DeductibleAmtPaid\"]=Test_ProviderWithPatientDetailsdata.groupby('OtherPhysician')['DeductibleAmtPaid'].transform('mean')\n",
    "Test_ProviderWithPatientDetailsdata[\"PerOtherPhysicianAvg_IPAnnualReimbursementAmt\"]=Test_ProviderWithPatientDetailsdata.groupby('OtherPhysician')['IPAnnualReimbursementAmt'].transform('mean')\n",
    "Test_ProviderWithPatientDetailsdata[\"PerOtherPhysicianAvg_IPAnnualDeductibleAmt\"]=Test_ProviderWithPatientDetailsdata.groupby('OtherPhysician')['IPAnnualDeductibleAmt'].transform('mean')\n",
    "Test_ProviderWithPatientDetailsdata[\"PerOtherPhysicianAvg_OPAnnualReimbursementAmt\"]=Test_ProviderWithPatientDetailsdata.groupby('OtherPhysician')['OPAnnualReimbursementAmt'].transform('mean')\n",
    "Test_ProviderWithPatientDetailsdata[\"PerOtherPhysicianAvg_OPAnnualDeductibleAmt\"]=Test_ProviderWithPatientDetailsdata.groupby('OtherPhysician')['OPAnnualDeductibleAmt'].transform('mean')\n",
    "Test_ProviderWithPatientDetailsdata[\"PerOtherPhysicianAvg_AdmitForDays\"]=Test_ProviderWithPatientDetailsdata.groupby('OtherPhysician')['AdmitForDays'].transform('mean')"
   ]
  },
  {
   "cell_type": "code",
   "execution_count": 70,
   "metadata": {},
   "outputs": [],
   "source": [
    "#Average features grouped by OperatingPhysician"
   ]
  },
  {
   "cell_type": "code",
   "execution_count": 71,
   "metadata": {},
   "outputs": [],
   "source": [
    "##Average features grouped by OperatingPhysician\n",
    "\n",
    "Train_ProviderWithPatientDetailsdata[\"PerOperatingPhysicianAvg_InscClaimAmtReimbursed\"]=Train_ProviderWithPatientDetailsdata.groupby('OperatingPhysician')['InscClaimAmtReimbursed'].transform('mean')\n",
    "Train_ProviderWithPatientDetailsdata[\"PerOperatingPhysicianAvg_DeductibleAmtPaid\"]=Train_ProviderWithPatientDetailsdata.groupby('OperatingPhysician')['DeductibleAmtPaid'].transform('mean')\n",
    "Train_ProviderWithPatientDetailsdata[\"PerOperatingPhysicianAvg_IPAnnualReimbursementAmt\"]=Train_ProviderWithPatientDetailsdata.groupby('OperatingPhysician')['IPAnnualReimbursementAmt'].transform('mean')\n",
    "Train_ProviderWithPatientDetailsdata[\"PerOperatingPhysicianAvg_IPAnnualDeductibleAmt\"]=Train_ProviderWithPatientDetailsdata.groupby('OperatingPhysician')['IPAnnualDeductibleAmt'].transform('mean')\n",
    "Train_ProviderWithPatientDetailsdata[\"PerOperatingPhysicianAvg_OPAnnualReimbursementAmt\"]=Train_ProviderWithPatientDetailsdata.groupby('OperatingPhysician')['OPAnnualReimbursementAmt'].transform('mean')\n",
    "Train_ProviderWithPatientDetailsdata[\"PerOperatingPhysicianAvg_OPAnnualDeductibleAmt\"]=Train_ProviderWithPatientDetailsdata.groupby('OperatingPhysician')['OPAnnualDeductibleAmt'].transform('mean')\n",
    "Train_ProviderWithPatientDetailsdata[\"PerOperatingPhysicianAvg_AdmitForDays\"]=Train_ProviderWithPatientDetailsdata.groupby('OperatingPhysician')['AdmitForDays'].transform('mean')\n",
    "\n",
    "Test_ProviderWithPatientDetailsdata[\"PerOperatingPhysicianAvg_InscClaimAmtReimbursed\"]=Test_ProviderWithPatientDetailsdata.groupby('OperatingPhysician')['InscClaimAmtReimbursed'].transform('mean')\n",
    "Test_ProviderWithPatientDetailsdata[\"PerOperatingPhysicianAvg_DeductibleAmtPaid\"]=Test_ProviderWithPatientDetailsdata.groupby('OperatingPhysician')['DeductibleAmtPaid'].transform('mean')\n",
    "Test_ProviderWithPatientDetailsdata[\"PerOperatingPhysicianAvg_IPAnnualReimbursementAmt\"]=Test_ProviderWithPatientDetailsdata.groupby('OperatingPhysician')['IPAnnualReimbursementAmt'].transform('mean')\n",
    "Test_ProviderWithPatientDetailsdata[\"PerOperatingPhysicianAvg_IPAnnualDeductibleAmt\"]=Test_ProviderWithPatientDetailsdata.groupby('OperatingPhysician')['IPAnnualDeductibleAmt'].transform('mean')\n",
    "Test_ProviderWithPatientDetailsdata[\"PerOperatingPhysicianAvg_OPAnnualReimbursementAmt\"]=Test_ProviderWithPatientDetailsdata.groupby('OperatingPhysician')['OPAnnualReimbursementAmt'].transform('mean')\n",
    "Test_ProviderWithPatientDetailsdata[\"PerOperatingPhysicianAvg_OPAnnualDeductibleAmt\"]=Test_ProviderWithPatientDetailsdata.groupby('OperatingPhysician')['OPAnnualDeductibleAmt'].transform('mean')\n",
    "Test_ProviderWithPatientDetailsdata[\"PerOperatingPhysicianAvg_AdmitForDays\"]=Test_ProviderWithPatientDetailsdata.groupby('OperatingPhysician')['AdmitForDays'].transform('mean')\n"
   ]
  },
  {
   "cell_type": "code",
   "execution_count": 72,
   "metadata": {},
   "outputs": [],
   "source": [
    "#Average features grouped by AttendingPhysician"
   ]
  },
  {
   "cell_type": "code",
   "execution_count": 73,
   "metadata": {},
   "outputs": [],
   "source": [
    "### Average features grouped by AttendingPhysician   \n",
    "\n",
    "Train_ProviderWithPatientDetailsdata[\"PerAttendingPhysicianAvg_InscClaimAmtReimbursed\"]=Train_ProviderWithPatientDetailsdata.groupby('AttendingPhysician')['InscClaimAmtReimbursed'].transform('mean')\n",
    "Train_ProviderWithPatientDetailsdata[\"PerAttendingPhysicianAvg_DeductibleAmtPaid\"]=Train_ProviderWithPatientDetailsdata.groupby('AttendingPhysician')['DeductibleAmtPaid'].transform('mean')\n",
    "Train_ProviderWithPatientDetailsdata[\"PerAttendingPhysicianAvg_IPAnnualReimbursementAmt\"]=Train_ProviderWithPatientDetailsdata.groupby('AttendingPhysician')['IPAnnualReimbursementAmt'].transform('mean')\n",
    "Train_ProviderWithPatientDetailsdata[\"PerAttendingPhysicianAvg_IPAnnualDeductibleAmt\"]=Train_ProviderWithPatientDetailsdata.groupby('AttendingPhysician')['IPAnnualDeductibleAmt'].transform('mean')\n",
    "Train_ProviderWithPatientDetailsdata[\"PerAttendingPhysicianAvg_OPAnnualReimbursementAmt\"]=Train_ProviderWithPatientDetailsdata.groupby('AttendingPhysician')['OPAnnualReimbursementAmt'].transform('mean')\n",
    "Train_ProviderWithPatientDetailsdata[\"PerAttendingPhysicianAvg_OPAnnualDeductibleAmt\"]=Train_ProviderWithPatientDetailsdata.groupby('AttendingPhysician')['OPAnnualDeductibleAmt'].transform('mean')\n",
    "Train_ProviderWithPatientDetailsdata[\"PerAttendingPhysicianAvg_AdmitForDays\"]=Train_ProviderWithPatientDetailsdata.groupby('AttendingPhysician')['AdmitForDays'].transform('mean')\n",
    "\n",
    "\n",
    "Test_ProviderWithPatientDetailsdata[\"PerAttendingPhysicianAvg_InscClaimAmtReimbursed\"]=Test_ProviderWithPatientDetailsdata.groupby('AttendingPhysician')['InscClaimAmtReimbursed'].transform('mean')\n",
    "Test_ProviderWithPatientDetailsdata[\"PerAttendingPhysicianAvg_DeductibleAmtPaid\"]=Test_ProviderWithPatientDetailsdata.groupby('AttendingPhysician')['DeductibleAmtPaid'].transform('mean')\n",
    "Test_ProviderWithPatientDetailsdata[\"PerAttendingPhysicianAvg_IPAnnualReimbursementAmt\"]=Test_ProviderWithPatientDetailsdata.groupby('AttendingPhysician')['IPAnnualReimbursementAmt'].transform('mean')\n",
    "Test_ProviderWithPatientDetailsdata[\"PerAttendingPhysicianAvg_IPAnnualDeductibleAmt\"]=Test_ProviderWithPatientDetailsdata.groupby('AttendingPhysician')['IPAnnualDeductibleAmt'].transform('mean')\n",
    "Test_ProviderWithPatientDetailsdata[\"PerAttendingPhysicianAvg_OPAnnualReimbursementAmt\"]=Test_ProviderWithPatientDetailsdata.groupby('AttendingPhysician')['OPAnnualReimbursementAmt'].transform('mean')\n",
    "Test_ProviderWithPatientDetailsdata[\"PerAttendingPhysicianAvg_OPAnnualDeductibleAmt\"]=Test_ProviderWithPatientDetailsdata.groupby('AttendingPhysician')['OPAnnualDeductibleAmt'].transform('mean')\n",
    "Test_ProviderWithPatientDetailsdata[\"PerAttendingPhysicianAvg_AdmitForDays\"]=Test_ProviderWithPatientDetailsdata.groupby('AttendingPhysician')['AdmitForDays'].transform('mean')"
   ]
  },
  {
   "cell_type": "code",
   "execution_count": 74,
   "metadata": {},
   "outputs": [],
   "source": [
    "#Average features grouped by DiagnosisGroupCode"
   ]
  },
  {
   "cell_type": "code",
   "execution_count": 75,
   "metadata": {},
   "outputs": [],
   "source": [
    "###  Average features grouped by DiagnosisGroupCode  \n",
    "\n",
    "Train_ProviderWithPatientDetailsdata[\"PerDiagnosisGroupCodeAvg_InscClaimAmtReimbursed\"]=Train_ProviderWithPatientDetailsdata.groupby('DiagnosisGroupCode')['InscClaimAmtReimbursed'].transform('mean')\n",
    "Train_ProviderWithPatientDetailsdata[\"PerDiagnosisGroupCodeAvg_DeductibleAmtPaid\"]=Train_ProviderWithPatientDetailsdata.groupby('DiagnosisGroupCode')['DeductibleAmtPaid'].transform('mean')\n",
    "Train_ProviderWithPatientDetailsdata[\"PerDiagnosisGroupCodeAvg_IPAnnualReimbursementAmt\"]=Train_ProviderWithPatientDetailsdata.groupby('DiagnosisGroupCode')['IPAnnualReimbursementAmt'].transform('mean')\n",
    "Train_ProviderWithPatientDetailsdata[\"PerDiagnosisGroupCodeAvg_IPAnnualDeductibleAmt\"]=Train_ProviderWithPatientDetailsdata.groupby('DiagnosisGroupCode')['IPAnnualDeductibleAmt'].transform('mean')\n",
    "Train_ProviderWithPatientDetailsdata[\"PerDiagnosisGroupCodeAvg_OPAnnualReimbursementAmt\"]=Train_ProviderWithPatientDetailsdata.groupby('DiagnosisGroupCode')['OPAnnualReimbursementAmt'].transform('mean')\n",
    "Train_ProviderWithPatientDetailsdata[\"PerDiagnosisGroupCodeAvg_OPAnnualDeductibleAmt\"]=Train_ProviderWithPatientDetailsdata.groupby('DiagnosisGroupCode')['OPAnnualDeductibleAmt'].transform('mean')\n",
    "Train_ProviderWithPatientDetailsdata[\"PerDiagnosisGroupCodeAvg_AdmitForDays\"]=Train_ProviderWithPatientDetailsdata.groupby('DiagnosisGroupCode')['AdmitForDays'].transform('mean')\n",
    "\n",
    "Test_ProviderWithPatientDetailsdata[\"PerDiagnosisGroupCodeAvg_InscClaimAmtReimbursed\"]=Test_ProviderWithPatientDetailsdata.groupby('DiagnosisGroupCode')['InscClaimAmtReimbursed'].transform('mean')\n",
    "Test_ProviderWithPatientDetailsdata[\"PerDiagnosisGroupCodeAvg_DeductibleAmtPaid\"]=Test_ProviderWithPatientDetailsdata.groupby('DiagnosisGroupCode')['DeductibleAmtPaid'].transform('mean')\n",
    "Test_ProviderWithPatientDetailsdata[\"PerDiagnosisGroupCodeAvg_IPAnnualReimbursementAmt\"]=Test_ProviderWithPatientDetailsdata.groupby('DiagnosisGroupCode')['IPAnnualReimbursementAmt'].transform('mean')\n",
    "Test_ProviderWithPatientDetailsdata[\"PerDiagnosisGroupCodeAvg_IPAnnualDeductibleAmt\"]=Test_ProviderWithPatientDetailsdata.groupby('DiagnosisGroupCode')['IPAnnualDeductibleAmt'].transform('mean')\n",
    "Test_ProviderWithPatientDetailsdata[\"PerDiagnosisGroupCodeAvg_OPAnnualReimbursementAmt\"]=Test_ProviderWithPatientDetailsdata.groupby('DiagnosisGroupCode')['OPAnnualReimbursementAmt'].transform('mean')\n",
    "Test_ProviderWithPatientDetailsdata[\"PerDiagnosisGroupCodeAvg_OPAnnualDeductibleAmt\"]=Test_ProviderWithPatientDetailsdata.groupby('DiagnosisGroupCode')['OPAnnualDeductibleAmt'].transform('mean')\n",
    "Test_ProviderWithPatientDetailsdata[\"PerDiagnosisGroupCodeAvg_AdmitForDays\"]=Test_ProviderWithPatientDetailsdata.groupby('DiagnosisGroupCode')['AdmitForDays'].transform('mean')"
   ]
  },
  {
   "cell_type": "code",
   "execution_count": 76,
   "metadata": {},
   "outputs": [],
   "source": [
    "#Average features grouped by ClmAdmitDiagnosisCode"
   ]
  },
  {
   "cell_type": "code",
   "execution_count": 77,
   "metadata": {},
   "outputs": [],
   "source": [
    "### Average features grouped by ClmAdmitDiagnosisCode \n",
    "\n",
    "Train_ProviderWithPatientDetailsdata[\"PerClmAdmitDiagnosisCodeAvg_InscClaimAmtReimbursed\"]=Train_ProviderWithPatientDetailsdata.groupby('ClmAdmitDiagnosisCode')['InscClaimAmtReimbursed'].transform('mean')\n",
    "Train_ProviderWithPatientDetailsdata[\"PerClmAdmitDiagnosisCodeAvg_DeductibleAmtPaid\"]=Train_ProviderWithPatientDetailsdata.groupby('ClmAdmitDiagnosisCode')['DeductibleAmtPaid'].transform('mean')\n",
    "Train_ProviderWithPatientDetailsdata[\"PerClmAdmitDiagnosisCodeAvg_IPAnnualReimbursementAmt\"]=Train_ProviderWithPatientDetailsdata.groupby('ClmAdmitDiagnosisCode')['IPAnnualReimbursementAmt'].transform('mean')\n",
    "Train_ProviderWithPatientDetailsdata[\"PerClmAdmitDiagnosisCodeAvg_IPAnnualDeductibleAmt\"]=Train_ProviderWithPatientDetailsdata.groupby('ClmAdmitDiagnosisCode')['IPAnnualDeductibleAmt'].transform('mean')\n",
    "Train_ProviderWithPatientDetailsdata[\"PerClmAdmitDiagnosisCodeAvg_OPAnnualReimbursementAmt\"]=Train_ProviderWithPatientDetailsdata.groupby('ClmAdmitDiagnosisCode')['OPAnnualReimbursementAmt'].transform('mean')\n",
    "Train_ProviderWithPatientDetailsdata[\"PerClmAdmitDiagnosisCodeAvg_OPAnnualDeductibleAmt\"]=Train_ProviderWithPatientDetailsdata.groupby('ClmAdmitDiagnosisCode')['OPAnnualDeductibleAmt'].transform('mean')\n",
    "Train_ProviderWithPatientDetailsdata[\"PerClmAdmitDiagnosisCodeAvg_AdmitForDays\"]=Train_ProviderWithPatientDetailsdata.groupby('ClmAdmitDiagnosisCode')['AdmitForDays'].transform('mean')\n",
    "\n",
    "Test_ProviderWithPatientDetailsdata[\"PerClmAdmitDiagnosisCodeAvg_InscClaimAmtReimbursed\"]=Test_ProviderWithPatientDetailsdata.groupby('ClmAdmitDiagnosisCode')['InscClaimAmtReimbursed'].transform('mean')\n",
    "Test_ProviderWithPatientDetailsdata[\"PerClmAdmitDiagnosisCodeAvg_DeductibleAmtPaid\"]=Test_ProviderWithPatientDetailsdata.groupby('ClmAdmitDiagnosisCode')['DeductibleAmtPaid'].transform('mean')\n",
    "Test_ProviderWithPatientDetailsdata[\"PerClmAdmitDiagnosisCodeAvg_IPAnnualReimbursementAmt\"]=Test_ProviderWithPatientDetailsdata.groupby('ClmAdmitDiagnosisCode')['IPAnnualReimbursementAmt'].transform('mean')\n",
    "Test_ProviderWithPatientDetailsdata[\"PerClmAdmitDiagnosisCodeAvg_IPAnnualDeductibleAmt\"]=Test_ProviderWithPatientDetailsdata.groupby('ClmAdmitDiagnosisCode')['IPAnnualDeductibleAmt'].transform('mean')\n",
    "Test_ProviderWithPatientDetailsdata[\"PerClmAdmitDiagnosisCodeAvg_OPAnnualReimbursementAmt\"]=Test_ProviderWithPatientDetailsdata.groupby('ClmAdmitDiagnosisCode')['OPAnnualReimbursementAmt'].transform('mean')\n",
    "Test_ProviderWithPatientDetailsdata[\"PerClmAdmitDiagnosisCodeAvg_OPAnnualDeductibleAmt\"]=Test_ProviderWithPatientDetailsdata.groupby('ClmAdmitDiagnosisCode')['OPAnnualDeductibleAmt'].transform('mean')\n",
    "Test_ProviderWithPatientDetailsdata[\"PerClmAdmitDiagnosisCodeAvg_AdmitForDays\"]=Test_ProviderWithPatientDetailsdata.groupby('ClmAdmitDiagnosisCode')['AdmitForDays'].transform('mean')"
   ]
  },
  {
   "cell_type": "code",
   "execution_count": 78,
   "metadata": {},
   "outputs": [],
   "source": [
    "#Average features grouped by ClmProcedureCode_1"
   ]
  },
  {
   "cell_type": "code",
   "execution_count": 79,
   "metadata": {},
   "outputs": [],
   "source": [
    "### Average features grouped by ClmProcedureCode_1 \n",
    "\n",
    "Train_ProviderWithPatientDetailsdata[\"PerClmProcedureCode_1Avg_InscClaimAmtReimbursed\"]=Train_ProviderWithPatientDetailsdata.groupby('ClmProcedureCode_1')['InscClaimAmtReimbursed'].transform('mean')\n",
    "Train_ProviderWithPatientDetailsdata[\"PerClmProcedureCode_1Avg_DeductibleAmtPaid\"]=Train_ProviderWithPatientDetailsdata.groupby('ClmProcedureCode_1')['DeductibleAmtPaid'].transform('mean')\n",
    "Train_ProviderWithPatientDetailsdata[\"PerClmProcedureCode_1Avg_IPAnnualReimbursementAmt\"]=Train_ProviderWithPatientDetailsdata.groupby('ClmProcedureCode_1')['IPAnnualReimbursementAmt'].transform('mean')\n",
    "Train_ProviderWithPatientDetailsdata[\"PerClmProcedureCode_1Avg_IPAnnualDeductibleAmt\"]=Train_ProviderWithPatientDetailsdata.groupby('ClmProcedureCode_1')['IPAnnualDeductibleAmt'].transform('mean')\n",
    "Train_ProviderWithPatientDetailsdata[\"PerClmProcedureCode_1Avg_OPAnnualReimbursementAmt\"]=Train_ProviderWithPatientDetailsdata.groupby('ClmProcedureCode_1')['OPAnnualReimbursementAmt'].transform('mean')\n",
    "Train_ProviderWithPatientDetailsdata[\"PerClmProcedureCode_1Avg_OPAnnualDeductibleAmt\"]=Train_ProviderWithPatientDetailsdata.groupby('ClmProcedureCode_1')['OPAnnualDeductibleAmt'].transform('mean')\n",
    "Train_ProviderWithPatientDetailsdata[\"PerClmProcedureCode_1Avg_AdmitForDays\"]=Train_ProviderWithPatientDetailsdata.groupby('ClmProcedureCode_1')['AdmitForDays'].transform('mean')\n",
    "\n",
    "\n",
    "Test_ProviderWithPatientDetailsdata[\"PerClmProcedureCode_1Avg_InscClaimAmtReimbursed\"]=Test_ProviderWithPatientDetailsdata.groupby('ClmProcedureCode_1')['InscClaimAmtReimbursed'].transform('mean')\n",
    "Test_ProviderWithPatientDetailsdata[\"PerClmProcedureCode_1Avg_DeductibleAmtPaid\"]=Test_ProviderWithPatientDetailsdata.groupby('ClmProcedureCode_1')['DeductibleAmtPaid'].transform('mean')\n",
    "Test_ProviderWithPatientDetailsdata[\"PerClmProcedureCode_1Avg_IPAnnualReimbursementAmt\"]=Test_ProviderWithPatientDetailsdata.groupby('ClmProcedureCode_1')['IPAnnualReimbursementAmt'].transform('mean')\n",
    "Test_ProviderWithPatientDetailsdata[\"PerClmProcedureCode_1Avg_IPAnnualDeductibleAmt\"]=Test_ProviderWithPatientDetailsdata.groupby('ClmProcedureCode_1')['IPAnnualDeductibleAmt'].transform('mean')\n",
    "Test_ProviderWithPatientDetailsdata[\"PerClmProcedureCode_1Avg_OPAnnualReimbursementAmt\"]=Test_ProviderWithPatientDetailsdata.groupby('ClmProcedureCode_1')['OPAnnualReimbursementAmt'].transform('mean')\n",
    "Test_ProviderWithPatientDetailsdata[\"PerClmProcedureCode_1Avg_OPAnnualDeductibleAmt\"]=Test_ProviderWithPatientDetailsdata.groupby('ClmProcedureCode_1')['OPAnnualDeductibleAmt'].transform('mean')\n",
    "Test_ProviderWithPatientDetailsdata[\"PerClmProcedureCode_1Avg_AdmitForDays\"]=Test_ProviderWithPatientDetailsdata.groupby('ClmProcedureCode_1')['AdmitForDays'].transform('mean')"
   ]
  },
  {
   "cell_type": "code",
   "execution_count": 80,
   "metadata": {},
   "outputs": [],
   "source": [
    "#Average features grouped by ClmProcedureCode_2"
   ]
  },
  {
   "cell_type": "code",
   "execution_count": 81,
   "metadata": {},
   "outputs": [],
   "source": [
    "### Average features grouped by ClmProcedureCode_2\n",
    "\n",
    "Train_ProviderWithPatientDetailsdata[\"PerClmProcedureCode_2Avg_InscClaimAmtReimbursed\"]=Train_ProviderWithPatientDetailsdata.groupby('ClmProcedureCode_2')['InscClaimAmtReimbursed'].transform('mean')\n",
    "Train_ProviderWithPatientDetailsdata[\"PerClmProcedureCode_2Avg_DeductibleAmtPaid\"]=Train_ProviderWithPatientDetailsdata.groupby('ClmProcedureCode_2')['DeductibleAmtPaid'].transform('mean')\n",
    "Train_ProviderWithPatientDetailsdata[\"PerClmProcedureCode_2Avg_IPAnnualReimbursementAmt\"]=Train_ProviderWithPatientDetailsdata.groupby('ClmProcedureCode_2')['IPAnnualReimbursementAmt'].transform('mean')\n",
    "Train_ProviderWithPatientDetailsdata[\"PerClmProcedureCode_2Avg_IPAnnualDeductibleAmt\"]=Train_ProviderWithPatientDetailsdata.groupby('ClmProcedureCode_2')['IPAnnualDeductibleAmt'].transform('mean')\n",
    "Train_ProviderWithPatientDetailsdata[\"PerClmProcedureCode_2Avg_OPAnnualReimbursementAmt\"]=Train_ProviderWithPatientDetailsdata.groupby('ClmProcedureCode_2')['OPAnnualReimbursementAmt'].transform('mean')\n",
    "Train_ProviderWithPatientDetailsdata[\"PerClmProcedureCode_2Avg_OPAnnualDeductibleAmt\"]=Train_ProviderWithPatientDetailsdata.groupby('ClmProcedureCode_2')['OPAnnualDeductibleAmt'].transform('mean')\n",
    "Train_ProviderWithPatientDetailsdata[\"PerClmProcedureCode_2Avg_AdmitForDays\"]=Train_ProviderWithPatientDetailsdata.groupby('ClmProcedureCode_2')['AdmitForDays'].transform('mean')\n",
    "\n",
    "\n",
    "Test_ProviderWithPatientDetailsdata[\"PerClmProcedureCode_2Avg_InscClaimAmtReimbursed\"]=Test_ProviderWithPatientDetailsdata.groupby('ClmProcedureCode_2')['InscClaimAmtReimbursed'].transform('mean')\n",
    "Test_ProviderWithPatientDetailsdata[\"PerClmProcedureCode_2Avg_DeductibleAmtPaid\"]=Test_ProviderWithPatientDetailsdata.groupby('ClmProcedureCode_2')['DeductibleAmtPaid'].transform('mean')\n",
    "Test_ProviderWithPatientDetailsdata[\"PerClmProcedureCode_2Avg_IPAnnualReimbursementAmt\"]=Test_ProviderWithPatientDetailsdata.groupby('ClmProcedureCode_2')['IPAnnualReimbursementAmt'].transform('mean')\n",
    "Test_ProviderWithPatientDetailsdata[\"PerClmProcedureCode_2Avg_IPAnnualDeductibleAmt\"]=Test_ProviderWithPatientDetailsdata.groupby('ClmProcedureCode_2')['IPAnnualDeductibleAmt'].transform('mean')\n",
    "Test_ProviderWithPatientDetailsdata[\"PerClmProcedureCode_2Avg_OPAnnualReimbursementAmt\"]=Test_ProviderWithPatientDetailsdata.groupby('ClmProcedureCode_2')['OPAnnualReimbursementAmt'].transform('mean')\n",
    "Test_ProviderWithPatientDetailsdata[\"PerClmProcedureCode_2Avg_OPAnnualDeductibleAmt\"]=Test_ProviderWithPatientDetailsdata.groupby('ClmProcedureCode_2')['OPAnnualDeductibleAmt'].transform('mean')\n",
    "Test_ProviderWithPatientDetailsdata[\"PerClmProcedureCode_2Avg_AdmitForDays\"]=Test_ProviderWithPatientDetailsdata.groupby('ClmProcedureCode_2')['AdmitForDays'].transform('mean')"
   ]
  },
  {
   "cell_type": "code",
   "execution_count": 82,
   "metadata": {},
   "outputs": [],
   "source": [
    "#Average features grouped by ClmProcedureCode_3"
   ]
  },
  {
   "cell_type": "code",
   "execution_count": 83,
   "metadata": {},
   "outputs": [],
   "source": [
    "Train_ProviderWithPatientDetailsdata[\"PerClmProcedureCode_3Avg_InscClaimAmtReimbursed\"]=Train_ProviderWithPatientDetailsdata.groupby('ClmProcedureCode_3')['InscClaimAmtReimbursed'].transform('mean')\n",
    "Train_ProviderWithPatientDetailsdata[\"PerClmProcedureCode_3Avg_DeductibleAmtPaid\"]=Train_ProviderWithPatientDetailsdata.groupby('ClmProcedureCode_3')['DeductibleAmtPaid'].transform('mean')\n",
    "Train_ProviderWithPatientDetailsdata[\"PerClmProcedureCode_3Avg_IPAnnualReimbursementAmt\"]=Train_ProviderWithPatientDetailsdata.groupby('ClmProcedureCode_3')['IPAnnualReimbursementAmt'].transform('mean')\n",
    "Train_ProviderWithPatientDetailsdata[\"PerClmProcedureCode_3Avg_IPAnnualDeductibleAmt\"]=Train_ProviderWithPatientDetailsdata.groupby('ClmProcedureCode_3')['IPAnnualDeductibleAmt'].transform('mean')\n",
    "Train_ProviderWithPatientDetailsdata[\"PerClmProcedureCode_3Avg_OPAnnualReimbursementAmt\"]=Train_ProviderWithPatientDetailsdata.groupby('ClmProcedureCode_3')['OPAnnualReimbursementAmt'].transform('mean')\n",
    "Train_ProviderWithPatientDetailsdata[\"PerClmProcedureCode_3Avg_OPAnnualDeductibleAmt\"]=Train_ProviderWithPatientDetailsdata.groupby('ClmProcedureCode_3')['OPAnnualDeductibleAmt'].transform('mean')\n",
    "Train_ProviderWithPatientDetailsdata[\"PerClmProcedureCode_3Avg_AdmitForDays\"]=Train_ProviderWithPatientDetailsdata.groupby('ClmProcedureCode_3')['AdmitForDays'].transform('mean')\n",
    "\n",
    "\n",
    "Test_ProviderWithPatientDetailsdata[\"PerClmProcedureCode_3Avg_InscClaimAmtReimbursed\"]=Test_ProviderWithPatientDetailsdata.groupby('ClmProcedureCode_3')['InscClaimAmtReimbursed'].transform('mean')\n",
    "Test_ProviderWithPatientDetailsdata[\"PerClmProcedureCode_3Avg_DeductibleAmtPaid\"]=Test_ProviderWithPatientDetailsdata.groupby('ClmProcedureCode_3')['DeductibleAmtPaid'].transform('mean')\n",
    "Test_ProviderWithPatientDetailsdata[\"PerClmProcedureCode_3Avg_IPAnnualReimbursementAmt\"]=Test_ProviderWithPatientDetailsdata.groupby('ClmProcedureCode_3')['IPAnnualReimbursementAmt'].transform('mean')\n",
    "Test_ProviderWithPatientDetailsdata[\"PerClmProcedureCode_3Avg_IPAnnualDeductibleAmt\"]=Test_ProviderWithPatientDetailsdata.groupby('ClmProcedureCode_3')['IPAnnualDeductibleAmt'].transform('mean')\n",
    "Test_ProviderWithPatientDetailsdata[\"PerClmProcedureCode_3Avg_OPAnnualReimbursementAmt\"]=Test_ProviderWithPatientDetailsdata.groupby('ClmProcedureCode_3')['OPAnnualReimbursementAmt'].transform('mean')\n",
    "Test_ProviderWithPatientDetailsdata[\"PerClmProcedureCode_3Avg_OPAnnualDeductibleAmt\"]=Test_ProviderWithPatientDetailsdata.groupby('ClmProcedureCode_3')['OPAnnualDeductibleAmt'].transform('mean')\n",
    "Test_ProviderWithPatientDetailsdata[\"PerClmProcedureCode_3Avg_AdmitForDays\"]=Test_ProviderWithPatientDetailsdata.groupby('ClmProcedureCode_3')['AdmitForDays'].transform('mean')"
   ]
  },
  {
   "cell_type": "code",
   "execution_count": 84,
   "metadata": {},
   "outputs": [],
   "source": [
    "#Average features grouped by ClmDiagnosisCode_1"
   ]
  },
  {
   "cell_type": "code",
   "execution_count": 85,
   "metadata": {},
   "outputs": [],
   "source": [
    "### Average features grouped by ClmDiagnosisCode_1 \n",
    "\n",
    "Train_ProviderWithPatientDetailsdata[\"PerClmDiagnosisCode_1Avg_InscClaimAmtReimbursed\"]=Train_ProviderWithPatientDetailsdata.groupby('ClmDiagnosisCode_1')['InscClaimAmtReimbursed'].transform('mean')\n",
    "Train_ProviderWithPatientDetailsdata[\"PerClmDiagnosisCode_1Avg_DeductibleAmtPaid\"]=Train_ProviderWithPatientDetailsdata.groupby('ClmDiagnosisCode_1')['DeductibleAmtPaid'].transform('mean')\n",
    "Train_ProviderWithPatientDetailsdata[\"PerClmDiagnosisCode_1Avg_IPAnnualReimbursementAmt\"]=Train_ProviderWithPatientDetailsdata.groupby('ClmDiagnosisCode_1')['IPAnnualReimbursementAmt'].transform('mean')\n",
    "Train_ProviderWithPatientDetailsdata[\"PerClmDiagnosisCode_1Avg_IPAnnualDeductibleAmt\"]=Train_ProviderWithPatientDetailsdata.groupby('ClmDiagnosisCode_1')['IPAnnualDeductibleAmt'].transform('mean')\n",
    "Train_ProviderWithPatientDetailsdata[\"PerClmDiagnosisCode_1Avg_OPAnnualReimbursementAmt\"]=Train_ProviderWithPatientDetailsdata.groupby('ClmDiagnosisCode_1')['OPAnnualReimbursementAmt'].transform('mean')\n",
    "Train_ProviderWithPatientDetailsdata[\"PerClmDiagnosisCode_1Avg_OPAnnualDeductibleAmt\"]=Train_ProviderWithPatientDetailsdata.groupby('ClmDiagnosisCode_1')['OPAnnualDeductibleAmt'].transform('mean')\n",
    "Train_ProviderWithPatientDetailsdata[\"PerClmDiagnosisCode_1Avg_AdmitForDays\"]=Train_ProviderWithPatientDetailsdata.groupby('ClmDiagnosisCode_1')['AdmitForDays'].transform('mean')\n",
    "\n",
    "\n",
    "Test_ProviderWithPatientDetailsdata[\"PerClmDiagnosisCode_1Avg_InscClaimAmtReimbursed\"]=Test_ProviderWithPatientDetailsdata.groupby('ClmDiagnosisCode_1')['InscClaimAmtReimbursed'].transform('mean')\n",
    "Test_ProviderWithPatientDetailsdata[\"PerClmDiagnosisCode_1Avg_DeductibleAmtPaid\"]=Test_ProviderWithPatientDetailsdata.groupby('ClmDiagnosisCode_1')['DeductibleAmtPaid'].transform('mean')\n",
    "Test_ProviderWithPatientDetailsdata[\"PerClmDiagnosisCode_1Avg_IPAnnualReimbursementAmt\"]=Test_ProviderWithPatientDetailsdata.groupby('ClmDiagnosisCode_1')['IPAnnualReimbursementAmt'].transform('mean')\n",
    "Test_ProviderWithPatientDetailsdata[\"PerClmDiagnosisCode_1Avg_IPAnnualDeductibleAmt\"]=Test_ProviderWithPatientDetailsdata.groupby('ClmDiagnosisCode_1')['IPAnnualDeductibleAmt'].transform('mean')\n",
    "Test_ProviderWithPatientDetailsdata[\"PerClmDiagnosisCode_1Avg_OPAnnualReimbursementAmt\"]=Test_ProviderWithPatientDetailsdata.groupby('ClmDiagnosisCode_1')['OPAnnualReimbursementAmt'].transform('mean')\n",
    "Test_ProviderWithPatientDetailsdata[\"PerClmDiagnosisCode_1Avg_OPAnnualDeductibleAmt\"]=Test_ProviderWithPatientDetailsdata.groupby('ClmDiagnosisCode_1')['OPAnnualDeductibleAmt'].transform('mean')\n",
    "Test_ProviderWithPatientDetailsdata[\"PerClmDiagnosisCode_1Avg_AdmitForDays\"]=Test_ProviderWithPatientDetailsdata.groupby('ClmDiagnosisCode_1')['AdmitForDays'].transform('mean')\n"
   ]
  },
  {
   "cell_type": "code",
   "execution_count": 86,
   "metadata": {},
   "outputs": [],
   "source": [
    "#Average features grouped by ClmDiagnosisCode_2"
   ]
  },
  {
   "cell_type": "code",
   "execution_count": 87,
   "metadata": {},
   "outputs": [],
   "source": [
    "###  Average features grouped by ClmDiagnosisCode_2\n",
    "\n",
    "Train_ProviderWithPatientDetailsdata[\"PerClmDiagnosisCode_2Avg_InscClaimAmtReimbursed\"]=Train_ProviderWithPatientDetailsdata.groupby('ClmDiagnosisCode_2')['InscClaimAmtReimbursed'].transform('mean')\n",
    "Train_ProviderWithPatientDetailsdata[\"PerClmDiagnosisCode_2Avg_DeductibleAmtPaid\"]=Train_ProviderWithPatientDetailsdata.groupby('ClmDiagnosisCode_2')['DeductibleAmtPaid'].transform('mean')\n",
    "Train_ProviderWithPatientDetailsdata[\"PerClmDiagnosisCode_2Avg_IPAnnualReimbursementAmt\"]=Train_ProviderWithPatientDetailsdata.groupby('ClmDiagnosisCode_2')['IPAnnualReimbursementAmt'].transform('mean')\n",
    "Train_ProviderWithPatientDetailsdata[\"PerClmDiagnosisCode_2Avg_IPAnnualDeductibleAmt\"]=Train_ProviderWithPatientDetailsdata.groupby('ClmDiagnosisCode_2')['IPAnnualDeductibleAmt'].transform('mean')\n",
    "Train_ProviderWithPatientDetailsdata[\"PerClmDiagnosisCode_2Avg_OPAnnualReimbursementAmt\"]=Train_ProviderWithPatientDetailsdata.groupby('ClmDiagnosisCode_2')['OPAnnualReimbursementAmt'].transform('mean')\n",
    "Train_ProviderWithPatientDetailsdata[\"PerClmDiagnosisCode_2Avg_OPAnnualDeductibleAmt\"]=Train_ProviderWithPatientDetailsdata.groupby('ClmDiagnosisCode_2')['OPAnnualDeductibleAmt'].transform('mean')\n",
    "Train_ProviderWithPatientDetailsdata[\"PerClmDiagnosisCode_2Avg_AdmitForDays\"]=Train_ProviderWithPatientDetailsdata.groupby('ClmDiagnosisCode_2')['AdmitForDays'].transform('mean')\n",
    "\n",
    "\n",
    "Test_ProviderWithPatientDetailsdata[\"PerClmDiagnosisCode_2Avg_InscClaimAmtReimbursed\"]=Test_ProviderWithPatientDetailsdata.groupby('ClmDiagnosisCode_2')['InscClaimAmtReimbursed'].transform('mean')\n",
    "Test_ProviderWithPatientDetailsdata[\"PerClmDiagnosisCode_2Avg_DeductibleAmtPaid\"]=Test_ProviderWithPatientDetailsdata.groupby('ClmDiagnosisCode_2')['DeductibleAmtPaid'].transform('mean')\n",
    "Test_ProviderWithPatientDetailsdata[\"PerClmDiagnosisCode_2Avg_IPAnnualReimbursementAmt\"]=Test_ProviderWithPatientDetailsdata.groupby('ClmDiagnosisCode_2')['IPAnnualReimbursementAmt'].transform('mean')\n",
    "Test_ProviderWithPatientDetailsdata[\"PerClmDiagnosisCode_2Avg_IPAnnualDeductibleAmt\"]=Test_ProviderWithPatientDetailsdata.groupby('ClmDiagnosisCode_2')['IPAnnualDeductibleAmt'].transform('mean')\n",
    "Test_ProviderWithPatientDetailsdata[\"PerClmDiagnosisCode_2Avg_OPAnnualReimbursementAmt\"]=Test_ProviderWithPatientDetailsdata.groupby('ClmDiagnosisCode_2')['OPAnnualReimbursementAmt'].transform('mean')\n",
    "Test_ProviderWithPatientDetailsdata[\"PerClmDiagnosisCode_2Avg_OPAnnualDeductibleAmt\"]=Test_ProviderWithPatientDetailsdata.groupby('ClmDiagnosisCode_2')['OPAnnualDeductibleAmt'].transform('mean')\n",
    "Test_ProviderWithPatientDetailsdata[\"PerClmDiagnosisCode_2Avg_AdmitForDays\"]=Test_ProviderWithPatientDetailsdata.groupby('ClmDiagnosisCode_2')['AdmitForDays'].transform('mean')"
   ]
  },
  {
   "cell_type": "code",
   "execution_count": 88,
   "metadata": {},
   "outputs": [],
   "source": [
    "#Average features grouped by ClmDiagnosisCode_3"
   ]
  },
  {
   "cell_type": "code",
   "execution_count": 89,
   "metadata": {},
   "outputs": [],
   "source": [
    "###  Average features grouped by ClmDiagnosisCode_3\n",
    "\n",
    "Train_ProviderWithPatientDetailsdata[\"PerClmDiagnosisCode_3Avg_InscClaimAmtReimbursed\"]=Train_ProviderWithPatientDetailsdata.groupby('ClmDiagnosisCode_3')['InscClaimAmtReimbursed'].transform('mean')\n",
    "Train_ProviderWithPatientDetailsdata[\"PerClmDiagnosisCode_3Avg_DeductibleAmtPaid\"]=Train_ProviderWithPatientDetailsdata.groupby('ClmDiagnosisCode_3')['DeductibleAmtPaid'].transform('mean')\n",
    "Train_ProviderWithPatientDetailsdata[\"PerClmDiagnosisCode_3Avg_IPAnnualReimbursementAmt\"]=Train_ProviderWithPatientDetailsdata.groupby('ClmDiagnosisCode_3')['IPAnnualReimbursementAmt'].transform('mean')\n",
    "Train_ProviderWithPatientDetailsdata[\"PerClmDiagnosisCode_3Avg_IPAnnualDeductibleAmt\"]=Train_ProviderWithPatientDetailsdata.groupby('ClmDiagnosisCode_3')['IPAnnualDeductibleAmt'].transform('mean')\n",
    "Train_ProviderWithPatientDetailsdata[\"PerClmDiagnosisCode_3Avg_OPAnnualReimbursementAmt\"]=Train_ProviderWithPatientDetailsdata.groupby('ClmDiagnosisCode_3')['OPAnnualReimbursementAmt'].transform('mean')\n",
    "Train_ProviderWithPatientDetailsdata[\"PerClmDiagnosisCode_3Avg_OPAnnualDeductibleAmt\"]=Train_ProviderWithPatientDetailsdata.groupby('ClmDiagnosisCode_3')['OPAnnualDeductibleAmt'].transform('mean')\n",
    "Train_ProviderWithPatientDetailsdata[\"PerClmDiagnosisCode_3Avg_AdmitForDays\"]=Train_ProviderWithPatientDetailsdata.groupby('ClmDiagnosisCode_3')['AdmitForDays'].transform('mean')\n",
    "\n",
    "\n",
    "Test_ProviderWithPatientDetailsdata[\"PerClmDiagnosisCode_3Avg_InscClaimAmtReimbursed\"]=Test_ProviderWithPatientDetailsdata.groupby('ClmDiagnosisCode_3')['InscClaimAmtReimbursed'].transform('mean')\n",
    "Test_ProviderWithPatientDetailsdata[\"PerClmDiagnosisCode_3Avg_DeductibleAmtPaid\"]=Test_ProviderWithPatientDetailsdata.groupby('ClmDiagnosisCode_3')['DeductibleAmtPaid'].transform('mean')\n",
    "Test_ProviderWithPatientDetailsdata[\"PerClmDiagnosisCode_3Avg_IPAnnualReimbursementAmt\"]=Test_ProviderWithPatientDetailsdata.groupby('ClmDiagnosisCode_3')['IPAnnualReimbursementAmt'].transform('mean')\n",
    "Test_ProviderWithPatientDetailsdata[\"PerClmDiagnosisCode_3Avg_IPAnnualDeductibleAmt\"]=Test_ProviderWithPatientDetailsdata.groupby('ClmDiagnosisCode_3')['IPAnnualDeductibleAmt'].transform('mean')\n",
    "Test_ProviderWithPatientDetailsdata[\"PerClmDiagnosisCode_3Avg_OPAnnualReimbursementAmt\"]=Test_ProviderWithPatientDetailsdata.groupby('ClmDiagnosisCode_3')['OPAnnualReimbursementAmt'].transform('mean')\n",
    "Test_ProviderWithPatientDetailsdata[\"PerClmDiagnosisCode_3Avg_OPAnnualDeductibleAmt\"]=Test_ProviderWithPatientDetailsdata.groupby('ClmDiagnosisCode_3')['OPAnnualDeductibleAmt'].transform('mean')\n",
    "Test_ProviderWithPatientDetailsdata[\"PerClmDiagnosisCode_3Avg_AdmitForDays\"]=Test_ProviderWithPatientDetailsdata.groupby('ClmDiagnosisCode_3')['AdmitForDays'].transform('mean')"
   ]
  },
  {
   "cell_type": "code",
   "execution_count": 90,
   "metadata": {},
   "outputs": [],
   "source": [
    "#Average features grouped by ClmDiagnosisCode_4"
   ]
  },
  {
   "cell_type": "code",
   "execution_count": 91,
   "metadata": {},
   "outputs": [],
   "source": [
    "###  Average features grouped by ClmDiagnosisCode_4\n",
    "\n",
    "Train_ProviderWithPatientDetailsdata[\"PerClmDiagnosisCode_4Avg_InscClaimAmtReimbursed\"]=Train_ProviderWithPatientDetailsdata.groupby('ClmDiagnosisCode_4')['InscClaimAmtReimbursed'].transform('mean')\n",
    "Train_ProviderWithPatientDetailsdata[\"PerClmDiagnosisCode_4Avg_DeductibleAmtPaid\"]=Train_ProviderWithPatientDetailsdata.groupby('ClmDiagnosisCode_4')['DeductibleAmtPaid'].transform('mean')\n",
    "Train_ProviderWithPatientDetailsdata[\"PerClmDiagnosisCode_4Avg_IPAnnualReimbursementAmt\"]=Train_ProviderWithPatientDetailsdata.groupby('ClmDiagnosisCode_4')['IPAnnualReimbursementAmt'].transform('mean')\n",
    "Train_ProviderWithPatientDetailsdata[\"PerClmDiagnosisCode_4Avg_IPAnnualDeductibleAmt\"]=Train_ProviderWithPatientDetailsdata.groupby('ClmDiagnosisCode_4')['IPAnnualDeductibleAmt'].transform('mean')\n",
    "Train_ProviderWithPatientDetailsdata[\"PerClmDiagnosisCode_4Avg_OPAnnualReimbursementAmt\"]=Train_ProviderWithPatientDetailsdata.groupby('ClmDiagnosisCode_4')['OPAnnualReimbursementAmt'].transform('mean')\n",
    "Train_ProviderWithPatientDetailsdata[\"PerClmDiagnosisCode_4Avg_OPAnnualDeductibleAmt\"]=Train_ProviderWithPatientDetailsdata.groupby('ClmDiagnosisCode_4')['OPAnnualDeductibleAmt'].transform('mean')\n",
    "Train_ProviderWithPatientDetailsdata[\"PerClmDiagnosisCode_4Avg_AdmitForDays\"]=Train_ProviderWithPatientDetailsdata.groupby('ClmDiagnosisCode_4')['AdmitForDays'].transform('mean')\n",
    "\n",
    "\n",
    "Test_ProviderWithPatientDetailsdata[\"PerClmDiagnosisCode_4Avg_InscClaimAmtReimbursed\"]=Test_ProviderWithPatientDetailsdata.groupby('ClmDiagnosisCode_4')['InscClaimAmtReimbursed'].transform('mean')\n",
    "Test_ProviderWithPatientDetailsdata[\"PerClmDiagnosisCode_4Avg_DeductibleAmtPaid\"]=Test_ProviderWithPatientDetailsdata.groupby('ClmDiagnosisCode_4')['DeductibleAmtPaid'].transform('mean')\n",
    "Test_ProviderWithPatientDetailsdata[\"PerClmDiagnosisCode_4Avg_IPAnnualReimbursementAmt\"]=Test_ProviderWithPatientDetailsdata.groupby('ClmDiagnosisCode_4')['IPAnnualReimbursementAmt'].transform('mean')\n",
    "Test_ProviderWithPatientDetailsdata[\"PerClmDiagnosisCode_4Avg_IPAnnualDeductibleAmt\"]=Test_ProviderWithPatientDetailsdata.groupby('ClmDiagnosisCode_4')['IPAnnualDeductibleAmt'].transform('mean')\n",
    "Test_ProviderWithPatientDetailsdata[\"PerClmDiagnosisCode_4Avg_OPAnnualReimbursementAmt\"]=Test_ProviderWithPatientDetailsdata.groupby('ClmDiagnosisCode_4')['OPAnnualReimbursementAmt'].transform('mean')\n",
    "Test_ProviderWithPatientDetailsdata[\"PerClmDiagnosisCode_4Avg_OPAnnualDeductibleAmt\"]=Test_ProviderWithPatientDetailsdata.groupby('ClmDiagnosisCode_4')['OPAnnualDeductibleAmt'].transform('mean')\n",
    "Test_ProviderWithPatientDetailsdata[\"PerClmDiagnosisCode_4Avg_AdmitForDays\"]=Test_ProviderWithPatientDetailsdata.groupby('ClmDiagnosisCode_4')['AdmitForDays'].transform('mean')"
   ]
  },
  {
   "cell_type": "code",
   "execution_count": 92,
   "metadata": {},
   "outputs": [],
   "source": [
    "#Claims are filed by Provider,so fraud can be organized crime.So we will check ClmCounts filed by Providers and when pairs like Provider +BeneID, Provider+Attending Physician, Provider+ClmAdmitDiagnosisCode, Provider+ClmProcedureCode_1,Provider+ClmDiagnosisCode_1 are together."
   ]
  },
  {
   "cell_type": "code",
   "execution_count": 93,
   "metadata": {},
   "outputs": [],
   "source": [
    "#Average Feature based on grouping based on combinations of different variables."
   ]
  },
  {
   "cell_type": "code",
   "execution_count": 94,
   "metadata": {},
   "outputs": [],
   "source": [
    "### Average Feature based on grouping based on combinations of different variables\n",
    "\n",
    "Train_ProviderWithPatientDetailsdata[\"ClmCount_Provider\"]=Train_ProviderWithPatientDetailsdata.groupby(['Provider'])['ClaimID'].transform('count')\n",
    "Train_ProviderWithPatientDetailsdata[\"ClmCount_Provider_BeneID\"]=Train_ProviderWithPatientDetailsdata.groupby(['Provider','BeneID'])['ClaimID'].transform('count')\n",
    "Train_ProviderWithPatientDetailsdata[\"ClmCount_Provider_AttendingPhysician\"]=Train_ProviderWithPatientDetailsdata.groupby(['Provider','AttendingPhysician'])['ClaimID'].transform('count')\n",
    "Train_ProviderWithPatientDetailsdata[\"ClmCount_Provider_OtherPhysician\"]=Train_ProviderWithPatientDetailsdata.groupby(['Provider','OtherPhysician'])['ClaimID'].transform('count')\n",
    "Train_ProviderWithPatientDetailsdata[\"ClmCount_Provider_OperatingPhysician\"]=Train_ProviderWithPatientDetailsdata.groupby(['Provider','OperatingPhysician'])['ClaimID'].transform('count')\n",
    "Train_ProviderWithPatientDetailsdata[\"ClmCount_Provider_ClmAdmitDiagnosisCode\"]=Train_ProviderWithPatientDetailsdata.groupby(['Provider','ClmAdmitDiagnosisCode'])['ClaimID'].transform('count')\n",
    "Train_ProviderWithPatientDetailsdata[\"ClmCount_Provider_ClmProcedureCode_1\"]=Train_ProviderWithPatientDetailsdata.groupby(['Provider','ClmProcedureCode_1'])['ClaimID'].transform('count')\n",
    "Train_ProviderWithPatientDetailsdata[\"ClmCount_Provider_ClmProcedureCode_2\"]=Train_ProviderWithPatientDetailsdata.groupby(['Provider','ClmProcedureCode_2'])['ClaimID'].transform('count')\n",
    "Train_ProviderWithPatientDetailsdata[\"ClmCount_Provider_ClmProcedureCode_3\"]=Train_ProviderWithPatientDetailsdata.groupby(['Provider','ClmProcedureCode_3'])['ClaimID'].transform('count')\n",
    "Train_ProviderWithPatientDetailsdata[\"ClmCount_Provider_ClmProcedureCode_4\"]=Train_ProviderWithPatientDetailsdata.groupby(['Provider','ClmProcedureCode_4'])['ClaimID'].transform('count')\n",
    "Train_ProviderWithPatientDetailsdata[\"ClmCount_Provider_ClmProcedureCode_5\"]=Train_ProviderWithPatientDetailsdata.groupby(['Provider','ClmProcedureCode_5'])['ClaimID'].transform('count')\n",
    "Train_ProviderWithPatientDetailsdata[\"ClmCount_Provider_ClmDiagnosisCode_1\"]=Train_ProviderWithPatientDetailsdata.groupby(['Provider','ClmDiagnosisCode_1'])['ClaimID'].transform('count')\n",
    "Train_ProviderWithPatientDetailsdata[\"ClmCount_Provider_ClmDiagnosisCode_2\"]=Train_ProviderWithPatientDetailsdata.groupby(['Provider','ClmDiagnosisCode_2'])['ClaimID'].transform('count')\n",
    "Train_ProviderWithPatientDetailsdata[\"ClmCount_Provider_ClmDiagnosisCode_3\"]=Train_ProviderWithPatientDetailsdata.groupby(['Provider','ClmDiagnosisCode_3'])['ClaimID'].transform('count')\n",
    "Train_ProviderWithPatientDetailsdata[\"ClmCount_Provider_ClmDiagnosisCode_4\"]=Train_ProviderWithPatientDetailsdata.groupby(['Provider','ClmDiagnosisCode_4'])['ClaimID'].transform('count')\n",
    "Train_ProviderWithPatientDetailsdata[\"ClmCount_Provider_ClmDiagnosisCode_5\"]=Train_ProviderWithPatientDetailsdata.groupby(['Provider','ClmDiagnosisCode_5'])['ClaimID'].transform('count')\n",
    "Train_ProviderWithPatientDetailsdata[\"ClmCount_Provider_ClmDiagnosisCode_6\"]=Train_ProviderWithPatientDetailsdata.groupby(['Provider','ClmDiagnosisCode_6'])['ClaimID'].transform('count')\n",
    "Train_ProviderWithPatientDetailsdata[\"ClmCount_Provider_ClmDiagnosisCode_7\"]=Train_ProviderWithPatientDetailsdata.groupby(['Provider','ClmDiagnosisCode_7'])['ClaimID'].transform('count')\n",
    "Train_ProviderWithPatientDetailsdata[\"ClmCount_Provider_ClmDiagnosisCode_8\"]=Train_ProviderWithPatientDetailsdata.groupby(['Provider','ClmDiagnosisCode_8'])['ClaimID'].transform('count')\n",
    "Train_ProviderWithPatientDetailsdata[\"ClmCount_Provider_ClmDiagnosisCode_9\"]=Train_ProviderWithPatientDetailsdata.groupby(['Provider','ClmDiagnosisCode_9'])['ClaimID'].transform('count')\n",
    "Train_ProviderWithPatientDetailsdata[\"ClmCount_Provider_DiagnosisGroupCode\"]=Train_ProviderWithPatientDetailsdata.groupby(['Provider','DiagnosisGroupCode'])['ClaimID'].transform('count')\n",
    "\n",
    "Train_ProviderWithPatientDetailsdata[\"ClmCount_Provider_BeneID_AttendingPhysician\"]=Train_ProviderWithPatientDetailsdata.groupby(['Provider','BeneID','AttendingPhysician'])['ClaimID'].transform('count')\n",
    "Train_ProviderWithPatientDetailsdata[\"ClmCount_Provider_BeneID_OtherPhysician\"]=Train_ProviderWithPatientDetailsdata.groupby(['Provider','BeneID','OtherPhysician'])['ClaimID'].transform('count')\n",
    "Train_ProviderWithPatientDetailsdata[\"ClmCount_Provider_BeneID_AttendingPhysician_ClmProcedureCode_1\"]=Train_ProviderWithPatientDetailsdata.groupby(['Provider','BeneID','AttendingPhysician','ClmProcedureCode_1'])['ClaimID'].transform('count')\n",
    "Train_ProviderWithPatientDetailsdata[\"ClmCount_Provider_BeneID_AttendingPhysician_ClmDiagnosisCode_1\"]=Train_ProviderWithPatientDetailsdata.groupby(['Provider','BeneID','AttendingPhysician','ClmDiagnosisCode_1'])['ClaimID'].transform('count')\n",
    "Train_ProviderWithPatientDetailsdata[\"ClmCount_Provider_BeneID_OperatingPhysician\"]=Train_ProviderWithPatientDetailsdata.groupby(['Provider','BeneID','OperatingPhysician'])['ClaimID'].transform('count')\n",
    "Train_ProviderWithPatientDetailsdata[\"ClmCount_Provider_BeneID_ClmProcedureCode_1\"]=Train_ProviderWithPatientDetailsdata.groupby(['Provider','BeneID','ClmProcedureCode_1'])['ClaimID'].transform('count')\n",
    "Train_ProviderWithPatientDetailsdata[\"ClmCount_Provider_BeneID_ClmDiagnosisCode_1\"]=Train_ProviderWithPatientDetailsdata.groupby(['Provider','BeneID','ClmDiagnosisCode_1'])['ClaimID'].transform('count')\n",
    "Train_ProviderWithPatientDetailsdata[\"ClmCount_Provider_BeneID_ClmDiagnosisCode_1_ClmProcedureCode_1\"]=Train_ProviderWithPatientDetailsdata.groupby(['Provider','BeneID','ClmDiagnosisCode_1','ClmProcedureCode_1'])['ClaimID'].transform('count')\n",
    "\n",
    "\n",
    "Test_ProviderWithPatientDetailsdata[\"ClmCount_Provider\"]=Test_ProviderWithPatientDetailsdata.groupby(['Provider'])['ClaimID'].transform('count')\n",
    "Test_ProviderWithPatientDetailsdata[\"ClmCount_Provider_BeneID\"]=Test_ProviderWithPatientDetailsdata.groupby(['Provider','BeneID'])['ClaimID'].transform('count')\n",
    "Test_ProviderWithPatientDetailsdata[\"ClmCount_Provider_AttendingPhysician\"]=Test_ProviderWithPatientDetailsdata.groupby(['Provider','AttendingPhysician'])['ClaimID'].transform('count')\n",
    "Test_ProviderWithPatientDetailsdata[\"ClmCount_Provider_OtherPhysician\"]=Test_ProviderWithPatientDetailsdata.groupby(['Provider','OtherPhysician'])['ClaimID'].transform('count')\n",
    "Test_ProviderWithPatientDetailsdata[\"ClmCount_Provider_OperatingPhysician\"]=Test_ProviderWithPatientDetailsdata.groupby(['Provider','OperatingPhysician'])['ClaimID'].transform('count')\n",
    "Test_ProviderWithPatientDetailsdata[\"ClmCount_Provider_ClmAdmitDiagnosisCode\"]=Test_ProviderWithPatientDetailsdata.groupby(['Provider','ClmAdmitDiagnosisCode'])['ClaimID'].transform('count')\n",
    "Test_ProviderWithPatientDetailsdata[\"ClmCount_Provider_ClmProcedureCode_1\"]=Test_ProviderWithPatientDetailsdata.groupby(['Provider','ClmProcedureCode_1'])['ClaimID'].transform('count')\n",
    "Test_ProviderWithPatientDetailsdata[\"ClmCount_Provider_ClmProcedureCode_2\"]=Test_ProviderWithPatientDetailsdata.groupby(['Provider','ClmProcedureCode_2'])['ClaimID'].transform('count')\n",
    "Test_ProviderWithPatientDetailsdata[\"ClmCount_Provider_ClmProcedureCode_3\"]=Test_ProviderWithPatientDetailsdata.groupby(['Provider','ClmProcedureCode_3'])['ClaimID'].transform('count')\n",
    "Test_ProviderWithPatientDetailsdata[\"ClmCount_Provider_ClmProcedureCode_4\"]=Test_ProviderWithPatientDetailsdata.groupby(['Provider','ClmProcedureCode_4'])['ClaimID'].transform('count')\n",
    "Test_ProviderWithPatientDetailsdata[\"ClmCount_Provider_ClmProcedureCode_5\"]=Test_ProviderWithPatientDetailsdata.groupby(['Provider','ClmProcedureCode_5'])['ClaimID'].transform('count')\n",
    "Test_ProviderWithPatientDetailsdata[\"ClmCount_Provider_ClmDiagnosisCode_1\"]=Test_ProviderWithPatientDetailsdata.groupby(['Provider','ClmDiagnosisCode_1'])['ClaimID'].transform('count')\n",
    "Test_ProviderWithPatientDetailsdata[\"ClmCount_Provider_ClmDiagnosisCode_2\"]=Test_ProviderWithPatientDetailsdata.groupby(['Provider','ClmDiagnosisCode_2'])['ClaimID'].transform('count')\n",
    "Test_ProviderWithPatientDetailsdata[\"ClmCount_Provider_ClmDiagnosisCode_3\"]=Test_ProviderWithPatientDetailsdata.groupby(['Provider','ClmDiagnosisCode_3'])['ClaimID'].transform('count')\n",
    "Test_ProviderWithPatientDetailsdata[\"ClmCount_Provider_ClmDiagnosisCode_4\"]=Test_ProviderWithPatientDetailsdata.groupby(['Provider','ClmDiagnosisCode_4'])['ClaimID'].transform('count')\n",
    "Test_ProviderWithPatientDetailsdata[\"ClmCount_Provider_ClmDiagnosisCode_5\"]=Test_ProviderWithPatientDetailsdata.groupby(['Provider','ClmDiagnosisCode_5'])['ClaimID'].transform('count')\n",
    "Test_ProviderWithPatientDetailsdata[\"ClmCount_Provider_ClmDiagnosisCode_6\"]=Test_ProviderWithPatientDetailsdata.groupby(['Provider','ClmDiagnosisCode_6'])['ClaimID'].transform('count')\n",
    "Test_ProviderWithPatientDetailsdata[\"ClmCount_Provider_ClmDiagnosisCode_7\"]=Test_ProviderWithPatientDetailsdata.groupby(['Provider','ClmDiagnosisCode_7'])['ClaimID'].transform('count')\n",
    "Test_ProviderWithPatientDetailsdata[\"ClmCount_Provider_ClmDiagnosisCode_8\"]=Test_ProviderWithPatientDetailsdata.groupby(['Provider','ClmDiagnosisCode_8'])['ClaimID'].transform('count')\n",
    "Test_ProviderWithPatientDetailsdata[\"ClmCount_Provider_ClmDiagnosisCode_9\"]=Test_ProviderWithPatientDetailsdata.groupby(['Provider','ClmDiagnosisCode_9'])['ClaimID'].transform('count')\n",
    "Test_ProviderWithPatientDetailsdata[\"ClmCount_Provider_DiagnosisGroupCode\"]=Test_ProviderWithPatientDetailsdata.groupby(['Provider','DiagnosisGroupCode'])['ClaimID'].transform('count')\n",
    "\n",
    "Test_ProviderWithPatientDetailsdata[\"ClmCount_Provider_BeneID_AttendingPhysician\"]=Test_ProviderWithPatientDetailsdata.groupby(['Provider','BeneID','AttendingPhysician'])['ClaimID'].transform('count')\n",
    "Test_ProviderWithPatientDetailsdata[\"ClmCount_Provider_BeneID_OtherPhysician\"]=Test_ProviderWithPatientDetailsdata.groupby(['Provider','BeneID','OtherPhysician'])['ClaimID'].transform('count')\n",
    "Test_ProviderWithPatientDetailsdata[\"ClmCount_Provider_BeneID_AttendingPhysician_ClmProcedureCode_1\"]=Test_ProviderWithPatientDetailsdata.groupby(['Provider','BeneID','AttendingPhysician','ClmProcedureCode_1'])['ClaimID'].transform('count')\n",
    "Test_ProviderWithPatientDetailsdata[\"ClmCount_Provider_BeneID_AttendingPhysician_ClmDiagnosisCode_1\"]=Test_ProviderWithPatientDetailsdata.groupby(['Provider','BeneID','AttendingPhysician','ClmDiagnosisCode_1'])['ClaimID'].transform('count')\n",
    "Test_ProviderWithPatientDetailsdata[\"ClmCount_Provider_BeneID_OperatingPhysician\"]=Test_ProviderWithPatientDetailsdata.groupby(['Provider','BeneID','OperatingPhysician'])['ClaimID'].transform('count')\n",
    "Test_ProviderWithPatientDetailsdata[\"ClmCount_Provider_BeneID_ClmProcedureCode_1\"]=Test_ProviderWithPatientDetailsdata.groupby(['Provider','BeneID','ClmProcedureCode_1'])['ClaimID'].transform('count')\n",
    "Test_ProviderWithPatientDetailsdata[\"ClmCount_Provider_BeneID_ClmDiagnosisCode_1\"]=Test_ProviderWithPatientDetailsdata.groupby(['Provider','BeneID','ClmDiagnosisCode_1'])['ClaimID'].transform('count')\n",
    "Test_ProviderWithPatientDetailsdata[\"ClmCount_Provider_BeneID_ClmDiagnosisCode_1_ClmProcedureCode_1\"]=Test_ProviderWithPatientDetailsdata.groupby(['Provider','BeneID','ClmDiagnosisCode_1','ClmProcedureCode_1'])['ClaimID'].transform('count')"
   ]
  },
  {
   "cell_type": "code",
   "execution_count": 95,
   "metadata": {},
   "outputs": [
    {
     "name": "stdout",
     "output_type": "stream",
     "text": [
      "Train_ProviderWithPatientDetailsdata shape- (558211, 188)\n",
      "Test_ProviderWithPatientDetailsdata shape- (693603, 187)\n"
     ]
    }
   ],
   "source": [
    "## Lets Check Shape after creating new features.\n",
    "\n",
    "print('Train_ProviderWithPatientDetailsdata shape-',Train_ProviderWithPatientDetailsdata.shape)\n",
    "print('Test_ProviderWithPatientDetailsdata shape-',Test_ProviderWithPatientDetailsdata.shape)"
   ]
  },
  {
   "cell_type": "code",
   "execution_count": 96,
   "metadata": {},
   "outputs": [
    {
     "data": {
      "text/plain": [
       "array(['59', '78', 'V4', '29', '03', '51', 'na', '71', 'V1', '27', '42',\n",
       "       'V7', '24', '41', '56', '79', '04', '35', '85', 'V5', '72', '44',\n",
       "       '45', '18', '60', '50', '57', '40', '16', '25', '68', '15', '82',\n",
       "       '28', '61', '47', '99', '20', '70', '33', '31', '49', '88', '48',\n",
       "       '53', '43', '91', '55', '00', '58', '73', '46', '19', '17', 'V0',\n",
       "       '34', 'V6', '62', 'V8', '11', '36', '83', 'E8', '02', '32', '52',\n",
       "       '38', '23', '84', '37', 'V2', '87', '30', '90', '21', '12', '92',\n",
       "       '39', '63', '69', '64', '81', '89', '95', '80', '22', '07', '06',\n",
       "       '93', '94', '54', '26', '05', '13', '74', '14', '98', '08', '97',\n",
       "       '75', '66', 'E9', '09', '96', '10', '77', '86', '65', '67', '01',\n",
       "       '76'], dtype=object)"
      ]
     },
     "execution_count": 96,
     "metadata": {},
     "output_type": "execute_result"
    }
   ],
   "source": [
    "## Lets Check unique values of ICD Diagnosis Codes\n",
    "#astype-series to string\n",
    "\n",
    "diagnosiscode_2chars=Train_ProviderWithPatientDetailsdata['ClmDiagnosisCode_1'].astype(str).str[0:2]\n",
    "\n",
    "diagnosiscode_2chars.unique()"
   ]
  },
  {
   "cell_type": "code",
   "execution_count": 97,
   "metadata": {},
   "outputs": [
    {
     "data": {
      "text/plain": [
       "array(['00', '01', '02', '03', '04', '05', '06', '07', '08', '09', '10',\n",
       "       '11', '12', '13', '14', '15', '16', '17', '18', '19', '20', '21',\n",
       "       '22', '23', '24', '25', '26', '27', '28', '29', '30', '31', '32',\n",
       "       '33', '34', '35', '36', '37', '38', '39', '40', '41', '42', '43',\n",
       "       '44', '45', '46', '47', '48', '49', '50', '51', '52', '53', '54',\n",
       "       '55', '56', '57', '58', '59', '60', '61', '62', '63', '64', '65',\n",
       "       '66', '67', '68', '69', '70', '71', '72', '73', '74', '75', '76',\n",
       "       '77', '78', '79', '80', '81', '82', '83', '84', '85', '86', '87',\n",
       "       '88', '89', '90', '91', '92', '93', '94', '95', '96', '97', '98',\n",
       "       '99', 'E8', 'E9', 'V0', 'V1', 'V2', 'V4', 'V5', 'V6', 'V7', 'V8',\n",
       "       'na'], dtype=object)"
      ]
     },
     "execution_count": 97,
     "metadata": {},
     "output_type": "execute_result"
    }
   ],
   "source": [
    "x=diagnosiscode_2chars.sort_values(ascending=True)\n",
    "x.unique()\n",
    "#x.value_counts()[:10]"
   ]
  },
  {
   "cell_type": "code",
   "execution_count": 98,
   "metadata": {},
   "outputs": [],
   "source": [
    "#Above Data Shows that if we take only first 2 characters of diagnosis code for the purpose of grouping them ,\n",
    "#we might end up creating large sparse matrix ,as each 'code' column will generate 120+ dummy columns.\n",
    "#This will increase computational time and loose explicability.\n",
    "#Sparse matrix is a matrix which contains very few non-zero elements.\n",
    "#When a sparse matrix is represented with a 2-dimensional array, we waste a lot of space to represent that matrix.\n",
    "#For example, consider a matrix of size 100 X 100 containing only 10 non-zero elements."
   ]
  },
  {
   "cell_type": "code",
   "execution_count": 99,
   "metadata": {},
   "outputs": [],
   "source": [
    "##Data Preprocessing\n",
    "\n",
    "#Impute Numeric columns with 0's."
   ]
  },
  {
   "cell_type": "code",
   "execution_count": 100,
   "metadata": {},
   "outputs": [
    {
     "name": "stdout",
     "output_type": "stream",
     "text": [
      "Test_ProviderWithPatientDetailsdata shape: (693603, 187)\n"
     ]
    }
   ],
   "source": [
    "##### Lets impute numeric columns with 0\n",
    "#pandas dataframe.select_dtypes() function return a subset of the DataFrame’s columns based on the column dtypes.\n",
    "#The parameters of this function can be set to include all the columns having some specific data type \n",
    "#or it could be set to exclude all those columns which has some specific data types.\n",
    "#Syntax : DataFrame.select_dtypes(include=None, exclude=None)\n",
    "\n",
    "cols1 = Train_ProviderWithPatientDetailsdata.select_dtypes([np.number]).columns\n",
    "cols2 = Train_ProviderWithPatientDetailsdata.select_dtypes(exclude = [np.number]).columns\n",
    "\n",
    "Train_ProviderWithPatientDetailsdata[cols1] = Train_ProviderWithPatientDetailsdata[cols1].fillna(value=0)\n",
    "Test_ProviderWithPatientDetailsdata[cols1]=Test_ProviderWithPatientDetailsdata[cols1].fillna(value=0)\n",
    "print('Test_ProviderWithPatientDetailsdata shape:',Test_ProviderWithPatientDetailsdata.shape)"
   ]
  },
  {
   "cell_type": "code",
   "execution_count": 101,
   "metadata": {},
   "outputs": [],
   "source": [
    "#Feature Selection"
   ]
  },
  {
   "cell_type": "code",
   "execution_count": 102,
   "metadata": {},
   "outputs": [],
   "source": [
    "# Lets remove unnecessary columns ,as we grouped based on these columns and derived maximum infromation from them.\n",
    "\n",
    "cols=Train_ProviderWithPatientDetailsdata.columns\n",
    "cols[:58]\n",
    "\n",
    "remove_these_columns=['BeneID', 'ClaimID', 'ClaimStartDt','ClaimEndDt','AttendingPhysician',\n",
    "       'OperatingPhysician', 'OtherPhysician', 'ClmDiagnosisCode_1',\n",
    "       'ClmDiagnosisCode_2', 'ClmDiagnosisCode_3', 'ClmDiagnosisCode_4',\n",
    "       'ClmDiagnosisCode_5', 'ClmDiagnosisCode_6', 'ClmDiagnosisCode_7',\n",
    "       'ClmDiagnosisCode_8', 'ClmDiagnosisCode_9', 'ClmDiagnosisCode_10',\n",
    "       'ClmProcedureCode_1', 'ClmProcedureCode_2', 'ClmProcedureCode_3',\n",
    "       'ClmProcedureCode_4', 'ClmProcedureCode_5', 'ClmProcedureCode_6',\n",
    "       'ClmAdmitDiagnosisCode', 'AdmissionDt',\n",
    "       'DischargeDt', 'DiagnosisGroupCode','DOB', 'DOD',\n",
    "        'State', 'County']\n",
    "\n",
    "Train_category_removed=Train_ProviderWithPatientDetailsdata.drop(axis=1,columns=remove_these_columns)\n",
    "Test_category_removed=Test_ProviderWithPatientDetailsdata.drop(axis=1,columns=remove_these_columns)\n",
    "#cols[:58]"
   ]
  },
  {
   "cell_type": "code",
   "execution_count": 103,
   "metadata": {},
   "outputs": [
    {
     "name": "stdout",
     "output_type": "stream",
     "text": [
      "Train Shape : (558211, 157)\n",
      "Test Shape :  (693603, 156)\n",
      "Train Missing Values 0\n",
      "Test Missing Values 0\n"
     ]
    }
   ],
   "source": [
    "## Lets Check shape and missing values\n",
    "\n",
    "print('Train Shape :',Train_category_removed.shape)\n",
    "print('Test Shape : ',Test_category_removed.shape)\n",
    "print(\"Train Missing Values\",Train_category_removed.isnull().sum().sum())\n",
    "print(\"Test Missing Values\",Test_category_removed.isnull().sum().sum())"
   ]
  },
  {
   "cell_type": "code",
   "execution_count": 104,
   "metadata": {},
   "outputs": [],
   "source": [
    "#Type Conversion"
   ]
  },
  {
   "cell_type": "code",
   "execution_count": 105,
   "metadata": {},
   "outputs": [],
   "source": [
    "## Lets Convert types of gender and race to categorical.\n",
    "\n",
    "Train_category_removed.Gender=Train_category_removed.Gender.astype('category')\n",
    "Test_category_removed.Gender=Test_category_removed.Gender.astype('category')\n",
    "\n",
    "Train_category_removed.Race=Train_category_removed.Race.astype('category')\n",
    "Test_category_removed.Race=Test_category_removed.Race.astype('category')"
   ]
  },
  {
   "cell_type": "code",
   "execution_count": 106,
   "metadata": {},
   "outputs": [],
   "source": [
    "#Dummification"
   ]
  },
  {
   "cell_type": "code",
   "execution_count": 107,
   "metadata": {},
   "outputs": [],
   "source": [
    "# Lets create dummies for categorrical columns.\n",
    "#The get_dummies() function is used to convert categorical variable into dummy/indicator variables.\n",
    "#drop-first: Whether to get k-1 dummies out of k categorical levels by removing the first level(column).\n",
    "\n",
    "Train_category_removed=pd.get_dummies(Train_category_removed,columns=['Gender','Race'],drop_first=True)\n",
    "Test_category_removed=pd.get_dummies(Test_category_removed,columns=['Gender','Race'],drop_first=True)"
   ]
  },
  {
   "cell_type": "code",
   "execution_count": 108,
   "metadata": {},
   "outputs": [
    {
     "data": {
      "text/html": [
       "<div>\n",
       "<style scoped>\n",
       "    .dataframe tbody tr th:only-of-type {\n",
       "        vertical-align: middle;\n",
       "    }\n",
       "\n",
       "    .dataframe tbody tr th {\n",
       "        vertical-align: top;\n",
       "    }\n",
       "\n",
       "    .dataframe thead th {\n",
       "        text-align: right;\n",
       "    }\n",
       "</style>\n",
       "<table border=\"1\" class=\"dataframe\">\n",
       "  <thead>\n",
       "    <tr style=\"text-align: right;\">\n",
       "      <th></th>\n",
       "      <th>Provider</th>\n",
       "      <th>PotentialFraud</th>\n",
       "      <th>InscClaimAmtReimbursed</th>\n",
       "      <th>DeductibleAmtPaid</th>\n",
       "      <th>AdmitForDays</th>\n",
       "      <th>RenalDiseaseIndicator</th>\n",
       "      <th>NoOfMonths_PartACov</th>\n",
       "      <th>NoOfMonths_PartBCov</th>\n",
       "      <th>ChronicCond_Alzheimer</th>\n",
       "      <th>ChronicCond_Heartfailure</th>\n",
       "      <th>...</th>\n",
       "      <th>ClmCount_Provider_BeneID_AttendingPhysician_ClmProcedureCode_1</th>\n",
       "      <th>ClmCount_Provider_BeneID_AttendingPhysician_ClmDiagnosisCode_1</th>\n",
       "      <th>ClmCount_Provider_BeneID_OperatingPhysician</th>\n",
       "      <th>ClmCount_Provider_BeneID_ClmProcedureCode_1</th>\n",
       "      <th>ClmCount_Provider_BeneID_ClmDiagnosisCode_1</th>\n",
       "      <th>ClmCount_Provider_BeneID_ClmDiagnosisCode_1_ClmProcedureCode_1</th>\n",
       "      <th>Gender_2</th>\n",
       "      <th>Race_2</th>\n",
       "      <th>Race_3</th>\n",
       "      <th>Race_5</th>\n",
       "    </tr>\n",
       "  </thead>\n",
       "  <tbody>\n",
       "    <tr>\n",
       "      <th>0</th>\n",
       "      <td>PRV51001</td>\n",
       "      <td>No</td>\n",
       "      <td>20</td>\n",
       "      <td>0.0</td>\n",
       "      <td>0.0</td>\n",
       "      <td>1</td>\n",
       "      <td>12</td>\n",
       "      <td>12</td>\n",
       "      <td>1</td>\n",
       "      <td>1</td>\n",
       "      <td>...</td>\n",
       "      <td>0.0</td>\n",
       "      <td>1.0</td>\n",
       "      <td>0.0</td>\n",
       "      <td>0.0</td>\n",
       "      <td>1.0</td>\n",
       "      <td>0.0</td>\n",
       "      <td>0</td>\n",
       "      <td>0</td>\n",
       "      <td>0</td>\n",
       "      <td>0</td>\n",
       "    </tr>\n",
       "    <tr>\n",
       "      <th>1</th>\n",
       "      <td>PRV51001</td>\n",
       "      <td>No</td>\n",
       "      <td>700</td>\n",
       "      <td>0.0</td>\n",
       "      <td>0.0</td>\n",
       "      <td>0</td>\n",
       "      <td>12</td>\n",
       "      <td>12</td>\n",
       "      <td>1</td>\n",
       "      <td>0</td>\n",
       "      <td>...</td>\n",
       "      <td>0.0</td>\n",
       "      <td>1.0</td>\n",
       "      <td>0.0</td>\n",
       "      <td>0.0</td>\n",
       "      <td>1.0</td>\n",
       "      <td>0.0</td>\n",
       "      <td>0</td>\n",
       "      <td>0</td>\n",
       "      <td>0</td>\n",
       "      <td>0</td>\n",
       "    </tr>\n",
       "    <tr>\n",
       "      <th>2</th>\n",
       "      <td>PRV51001</td>\n",
       "      <td>No</td>\n",
       "      <td>900</td>\n",
       "      <td>0.0</td>\n",
       "      <td>0.0</td>\n",
       "      <td>0</td>\n",
       "      <td>12</td>\n",
       "      <td>12</td>\n",
       "      <td>0</td>\n",
       "      <td>0</td>\n",
       "      <td>...</td>\n",
       "      <td>0.0</td>\n",
       "      <td>1.0</td>\n",
       "      <td>0.0</td>\n",
       "      <td>0.0</td>\n",
       "      <td>1.0</td>\n",
       "      <td>0.0</td>\n",
       "      <td>1</td>\n",
       "      <td>0</td>\n",
       "      <td>0</td>\n",
       "      <td>0</td>\n",
       "    </tr>\n",
       "    <tr>\n",
       "      <th>3</th>\n",
       "      <td>PRV51001</td>\n",
       "      <td>No</td>\n",
       "      <td>500</td>\n",
       "      <td>0.0</td>\n",
       "      <td>0.0</td>\n",
       "      <td>0</td>\n",
       "      <td>12</td>\n",
       "      <td>12</td>\n",
       "      <td>1</td>\n",
       "      <td>1</td>\n",
       "      <td>...</td>\n",
       "      <td>0.0</td>\n",
       "      <td>1.0</td>\n",
       "      <td>1.0</td>\n",
       "      <td>0.0</td>\n",
       "      <td>1.0</td>\n",
       "      <td>0.0</td>\n",
       "      <td>0</td>\n",
       "      <td>0</td>\n",
       "      <td>0</td>\n",
       "      <td>0</td>\n",
       "    </tr>\n",
       "    <tr>\n",
       "      <th>4</th>\n",
       "      <td>PRV51001</td>\n",
       "      <td>No</td>\n",
       "      <td>36000</td>\n",
       "      <td>1068.0</td>\n",
       "      <td>5.0</td>\n",
       "      <td>0</td>\n",
       "      <td>12</td>\n",
       "      <td>12</td>\n",
       "      <td>0</td>\n",
       "      <td>1</td>\n",
       "      <td>...</td>\n",
       "      <td>0.0</td>\n",
       "      <td>1.0</td>\n",
       "      <td>0.0</td>\n",
       "      <td>0.0</td>\n",
       "      <td>1.0</td>\n",
       "      <td>0.0</td>\n",
       "      <td>0</td>\n",
       "      <td>0</td>\n",
       "      <td>0</td>\n",
       "      <td>0</td>\n",
       "    </tr>\n",
       "  </tbody>\n",
       "</table>\n",
       "<p>5 rows × 159 columns</p>\n",
       "</div>"
      ],
      "text/plain": [
       "   Provider PotentialFraud  InscClaimAmtReimbursed  DeductibleAmtPaid  \\\n",
       "0  PRV51001             No                      20                0.0   \n",
       "1  PRV51001             No                     700                0.0   \n",
       "2  PRV51001             No                     900                0.0   \n",
       "3  PRV51001             No                     500                0.0   \n",
       "4  PRV51001             No                   36000             1068.0   \n",
       "\n",
       "   AdmitForDays RenalDiseaseIndicator  NoOfMonths_PartACov  \\\n",
       "0           0.0                     1                   12   \n",
       "1           0.0                     0                   12   \n",
       "2           0.0                     0                   12   \n",
       "3           0.0                     0                   12   \n",
       "4           5.0                     0                   12   \n",
       "\n",
       "   NoOfMonths_PartBCov  ChronicCond_Alzheimer  ChronicCond_Heartfailure  ...  \\\n",
       "0                   12                      1                         1  ...   \n",
       "1                   12                      1                         0  ...   \n",
       "2                   12                      0                         0  ...   \n",
       "3                   12                      1                         1  ...   \n",
       "4                   12                      0                         1  ...   \n",
       "\n",
       "   ClmCount_Provider_BeneID_AttendingPhysician_ClmProcedureCode_1  \\\n",
       "0                                                0.0                \n",
       "1                                                0.0                \n",
       "2                                                0.0                \n",
       "3                                                0.0                \n",
       "4                                                0.0                \n",
       "\n",
       "   ClmCount_Provider_BeneID_AttendingPhysician_ClmDiagnosisCode_1  \\\n",
       "0                                                1.0                \n",
       "1                                                1.0                \n",
       "2                                                1.0                \n",
       "3                                                1.0                \n",
       "4                                                1.0                \n",
       "\n",
       "   ClmCount_Provider_BeneID_OperatingPhysician  \\\n",
       "0                                          0.0   \n",
       "1                                          0.0   \n",
       "2                                          0.0   \n",
       "3                                          1.0   \n",
       "4                                          0.0   \n",
       "\n",
       "   ClmCount_Provider_BeneID_ClmProcedureCode_1  \\\n",
       "0                                          0.0   \n",
       "1                                          0.0   \n",
       "2                                          0.0   \n",
       "3                                          0.0   \n",
       "4                                          0.0   \n",
       "\n",
       "   ClmCount_Provider_BeneID_ClmDiagnosisCode_1  \\\n",
       "0                                          1.0   \n",
       "1                                          1.0   \n",
       "2                                          1.0   \n",
       "3                                          1.0   \n",
       "4                                          1.0   \n",
       "\n",
       "   ClmCount_Provider_BeneID_ClmDiagnosisCode_1_ClmProcedureCode_1  Gender_2  \\\n",
       "0                                                0.0                      0   \n",
       "1                                                0.0                      0   \n",
       "2                                                0.0                      1   \n",
       "3                                                0.0                      0   \n",
       "4                                                0.0                      0   \n",
       "\n",
       "   Race_2  Race_3  Race_5  \n",
       "0       0       0       0  \n",
       "1       0       0       0  \n",
       "2       0       0       0  \n",
       "3       0       0       0  \n",
       "4       0       0       0  \n",
       "\n",
       "[5 rows x 159 columns]"
      ]
     },
     "execution_count": 108,
     "metadata": {},
     "output_type": "execute_result"
    }
   ],
   "source": [
    "\n",
    "Test_category_removed.iloc[135391:135393]\n",
    "Train_category_removed.head(5)"
   ]
  },
  {
   "cell_type": "code",
   "execution_count": 109,
   "metadata": {},
   "outputs": [],
   "source": [
    "#Convert Target values to 1 and 0,wher '1' means Yes and '0' means No"
   ]
  },
  {
   "cell_type": "code",
   "execution_count": 110,
   "metadata": {},
   "outputs": [
    {
     "data": {
      "text/html": [
       "<div>\n",
       "<style scoped>\n",
       "    .dataframe tbody tr th:only-of-type {\n",
       "        vertical-align: middle;\n",
       "    }\n",
       "\n",
       "    .dataframe tbody tr th {\n",
       "        vertical-align: top;\n",
       "    }\n",
       "\n",
       "    .dataframe thead th {\n",
       "        text-align: right;\n",
       "    }\n",
       "</style>\n",
       "<table border=\"1\" class=\"dataframe\">\n",
       "  <thead>\n",
       "    <tr style=\"text-align: right;\">\n",
       "      <th></th>\n",
       "      <th>Provider</th>\n",
       "      <th>PotentialFraud</th>\n",
       "      <th>InscClaimAmtReimbursed</th>\n",
       "      <th>DeductibleAmtPaid</th>\n",
       "      <th>AdmitForDays</th>\n",
       "      <th>RenalDiseaseIndicator</th>\n",
       "      <th>NoOfMonths_PartACov</th>\n",
       "      <th>NoOfMonths_PartBCov</th>\n",
       "      <th>ChronicCond_Alzheimer</th>\n",
       "      <th>ChronicCond_Heartfailure</th>\n",
       "      <th>...</th>\n",
       "      <th>ClmCount_Provider_BeneID_AttendingPhysician_ClmProcedureCode_1</th>\n",
       "      <th>ClmCount_Provider_BeneID_AttendingPhysician_ClmDiagnosisCode_1</th>\n",
       "      <th>ClmCount_Provider_BeneID_OperatingPhysician</th>\n",
       "      <th>ClmCount_Provider_BeneID_ClmProcedureCode_1</th>\n",
       "      <th>ClmCount_Provider_BeneID_ClmDiagnosisCode_1</th>\n",
       "      <th>ClmCount_Provider_BeneID_ClmDiagnosisCode_1_ClmProcedureCode_1</th>\n",
       "      <th>Gender_2</th>\n",
       "      <th>Race_2</th>\n",
       "      <th>Race_3</th>\n",
       "      <th>Race_5</th>\n",
       "    </tr>\n",
       "  </thead>\n",
       "  <tbody>\n",
       "    <tr>\n",
       "      <th>0</th>\n",
       "      <td>PRV51001</td>\n",
       "      <td>0</td>\n",
       "      <td>20</td>\n",
       "      <td>0.0</td>\n",
       "      <td>0.0</td>\n",
       "      <td>1</td>\n",
       "      <td>12</td>\n",
       "      <td>12</td>\n",
       "      <td>1</td>\n",
       "      <td>1</td>\n",
       "      <td>...</td>\n",
       "      <td>0.0</td>\n",
       "      <td>1.0</td>\n",
       "      <td>0.0</td>\n",
       "      <td>0.0</td>\n",
       "      <td>1.0</td>\n",
       "      <td>0.0</td>\n",
       "      <td>0</td>\n",
       "      <td>0</td>\n",
       "      <td>0</td>\n",
       "      <td>0</td>\n",
       "    </tr>\n",
       "    <tr>\n",
       "      <th>1</th>\n",
       "      <td>PRV51001</td>\n",
       "      <td>0</td>\n",
       "      <td>700</td>\n",
       "      <td>0.0</td>\n",
       "      <td>0.0</td>\n",
       "      <td>0</td>\n",
       "      <td>12</td>\n",
       "      <td>12</td>\n",
       "      <td>1</td>\n",
       "      <td>0</td>\n",
       "      <td>...</td>\n",
       "      <td>0.0</td>\n",
       "      <td>1.0</td>\n",
       "      <td>0.0</td>\n",
       "      <td>0.0</td>\n",
       "      <td>1.0</td>\n",
       "      <td>0.0</td>\n",
       "      <td>0</td>\n",
       "      <td>0</td>\n",
       "      <td>0</td>\n",
       "      <td>0</td>\n",
       "    </tr>\n",
       "    <tr>\n",
       "      <th>2</th>\n",
       "      <td>PRV51001</td>\n",
       "      <td>0</td>\n",
       "      <td>900</td>\n",
       "      <td>0.0</td>\n",
       "      <td>0.0</td>\n",
       "      <td>0</td>\n",
       "      <td>12</td>\n",
       "      <td>12</td>\n",
       "      <td>0</td>\n",
       "      <td>0</td>\n",
       "      <td>...</td>\n",
       "      <td>0.0</td>\n",
       "      <td>1.0</td>\n",
       "      <td>0.0</td>\n",
       "      <td>0.0</td>\n",
       "      <td>1.0</td>\n",
       "      <td>0.0</td>\n",
       "      <td>1</td>\n",
       "      <td>0</td>\n",
       "      <td>0</td>\n",
       "      <td>0</td>\n",
       "    </tr>\n",
       "    <tr>\n",
       "      <th>3</th>\n",
       "      <td>PRV51001</td>\n",
       "      <td>0</td>\n",
       "      <td>500</td>\n",
       "      <td>0.0</td>\n",
       "      <td>0.0</td>\n",
       "      <td>0</td>\n",
       "      <td>12</td>\n",
       "      <td>12</td>\n",
       "      <td>1</td>\n",
       "      <td>1</td>\n",
       "      <td>...</td>\n",
       "      <td>0.0</td>\n",
       "      <td>1.0</td>\n",
       "      <td>1.0</td>\n",
       "      <td>0.0</td>\n",
       "      <td>1.0</td>\n",
       "      <td>0.0</td>\n",
       "      <td>0</td>\n",
       "      <td>0</td>\n",
       "      <td>0</td>\n",
       "      <td>0</td>\n",
       "    </tr>\n",
       "    <tr>\n",
       "      <th>4</th>\n",
       "      <td>PRV51001</td>\n",
       "      <td>0</td>\n",
       "      <td>36000</td>\n",
       "      <td>1068.0</td>\n",
       "      <td>5.0</td>\n",
       "      <td>0</td>\n",
       "      <td>12</td>\n",
       "      <td>12</td>\n",
       "      <td>0</td>\n",
       "      <td>1</td>\n",
       "      <td>...</td>\n",
       "      <td>0.0</td>\n",
       "      <td>1.0</td>\n",
       "      <td>0.0</td>\n",
       "      <td>0.0</td>\n",
       "      <td>1.0</td>\n",
       "      <td>0.0</td>\n",
       "      <td>0</td>\n",
       "      <td>0</td>\n",
       "      <td>0</td>\n",
       "      <td>0</td>\n",
       "    </tr>\n",
       "  </tbody>\n",
       "</table>\n",
       "<p>5 rows × 159 columns</p>\n",
       "</div>"
      ],
      "text/plain": [
       "   Provider  PotentialFraud  InscClaimAmtReimbursed  DeductibleAmtPaid  \\\n",
       "0  PRV51001               0                      20                0.0   \n",
       "1  PRV51001               0                     700                0.0   \n",
       "2  PRV51001               0                     900                0.0   \n",
       "3  PRV51001               0                     500                0.0   \n",
       "4  PRV51001               0                   36000             1068.0   \n",
       "\n",
       "   AdmitForDays RenalDiseaseIndicator  NoOfMonths_PartACov  \\\n",
       "0           0.0                     1                   12   \n",
       "1           0.0                     0                   12   \n",
       "2           0.0                     0                   12   \n",
       "3           0.0                     0                   12   \n",
       "4           5.0                     0                   12   \n",
       "\n",
       "   NoOfMonths_PartBCov  ChronicCond_Alzheimer  ChronicCond_Heartfailure  ...  \\\n",
       "0                   12                      1                         1  ...   \n",
       "1                   12                      1                         0  ...   \n",
       "2                   12                      0                         0  ...   \n",
       "3                   12                      1                         1  ...   \n",
       "4                   12                      0                         1  ...   \n",
       "\n",
       "   ClmCount_Provider_BeneID_AttendingPhysician_ClmProcedureCode_1  \\\n",
       "0                                                0.0                \n",
       "1                                                0.0                \n",
       "2                                                0.0                \n",
       "3                                                0.0                \n",
       "4                                                0.0                \n",
       "\n",
       "   ClmCount_Provider_BeneID_AttendingPhysician_ClmDiagnosisCode_1  \\\n",
       "0                                                1.0                \n",
       "1                                                1.0                \n",
       "2                                                1.0                \n",
       "3                                                1.0                \n",
       "4                                                1.0                \n",
       "\n",
       "   ClmCount_Provider_BeneID_OperatingPhysician  \\\n",
       "0                                          0.0   \n",
       "1                                          0.0   \n",
       "2                                          0.0   \n",
       "3                                          1.0   \n",
       "4                                          0.0   \n",
       "\n",
       "   ClmCount_Provider_BeneID_ClmProcedureCode_1  \\\n",
       "0                                          0.0   \n",
       "1                                          0.0   \n",
       "2                                          0.0   \n",
       "3                                          0.0   \n",
       "4                                          0.0   \n",
       "\n",
       "   ClmCount_Provider_BeneID_ClmDiagnosisCode_1  \\\n",
       "0                                          1.0   \n",
       "1                                          1.0   \n",
       "2                                          1.0   \n",
       "3                                          1.0   \n",
       "4                                          1.0   \n",
       "\n",
       "   ClmCount_Provider_BeneID_ClmDiagnosisCode_1_ClmProcedureCode_1  Gender_2  \\\n",
       "0                                                0.0                      0   \n",
       "1                                                0.0                      0   \n",
       "2                                                0.0                      1   \n",
       "3                                                0.0                      0   \n",
       "4                                                0.0                      0   \n",
       "\n",
       "   Race_2  Race_3  Race_5  \n",
       "0       0       0       0  \n",
       "1       0       0       0  \n",
       "2       0       0       0  \n",
       "3       0       0       0  \n",
       "4       0       0       0  \n",
       "\n",
       "[5 rows x 159 columns]"
      ]
     },
     "execution_count": 110,
     "metadata": {},
     "output_type": "execute_result"
    }
   ],
   "source": [
    "Train_category_removed.PotentialFraud.replace(['Yes','No'],['1','0'],inplace=True)\n",
    "Train_category_removed.head()\n",
    "Train_category_removed.PotentialFraud=Train_category_removed.PotentialFraud.astype('int64')\n",
    "Train_category_removed.PotentialFraud.dtypes\n",
    "Train_category_removed.PotentialFraud.min()\n",
    "Train_category_removed.head()"
   ]
  },
  {
   "cell_type": "code",
   "execution_count": 111,
   "metadata": {},
   "outputs": [
    {
     "data": {
      "text/plain": [
       "1"
      ]
     },
     "execution_count": 111,
     "metadata": {},
     "output_type": "execute_result"
    }
   ],
   "source": [
    "Train_category_removed.PotentialFraud.max()"
   ]
  },
  {
   "cell_type": "code",
   "execution_count": 112,
   "metadata": {},
   "outputs": [],
   "source": [
    "#Select only Test related data from merged data"
   ]
  },
  {
   "cell_type": "code",
   "execution_count": 113,
   "metadata": {},
   "outputs": [
    {
     "name": "stdout",
     "output_type": "stream",
     "text": [
      "Test Shape before removing (693603, 158)\n"
     ]
    }
   ],
   "source": [
    "print('Test Shape before removing',Test_category_removed.shape)"
   ]
  },
  {
   "cell_type": "code",
   "execution_count": 114,
   "metadata": {},
   "outputs": [],
   "source": [
    "Test_category_removed=Test_category_removed.iloc[:135392]   ##Remove train data from appended test data"
   ]
  },
  {
   "cell_type": "code",
   "execution_count": 115,
   "metadata": {},
   "outputs": [
    {
     "data": {
      "text/html": [
       "<div>\n",
       "<style scoped>\n",
       "    .dataframe tbody tr th:only-of-type {\n",
       "        vertical-align: middle;\n",
       "    }\n",
       "\n",
       "    .dataframe tbody tr th {\n",
       "        vertical-align: top;\n",
       "    }\n",
       "\n",
       "    .dataframe thead th {\n",
       "        text-align: right;\n",
       "    }\n",
       "</style>\n",
       "<table border=\"1\" class=\"dataframe\">\n",
       "  <thead>\n",
       "    <tr style=\"text-align: right;\">\n",
       "      <th></th>\n",
       "      <th>Provider</th>\n",
       "      <th>InscClaimAmtReimbursed</th>\n",
       "      <th>DeductibleAmtPaid</th>\n",
       "      <th>AdmitForDays</th>\n",
       "      <th>RenalDiseaseIndicator</th>\n",
       "      <th>NoOfMonths_PartACov</th>\n",
       "      <th>NoOfMonths_PartBCov</th>\n",
       "      <th>ChronicCond_Alzheimer</th>\n",
       "      <th>ChronicCond_Heartfailure</th>\n",
       "      <th>ChronicCond_KidneyDisease</th>\n",
       "      <th>...</th>\n",
       "      <th>ClmCount_Provider_BeneID_AttendingPhysician_ClmProcedureCode_1</th>\n",
       "      <th>ClmCount_Provider_BeneID_AttendingPhysician_ClmDiagnosisCode_1</th>\n",
       "      <th>ClmCount_Provider_BeneID_OperatingPhysician</th>\n",
       "      <th>ClmCount_Provider_BeneID_ClmProcedureCode_1</th>\n",
       "      <th>ClmCount_Provider_BeneID_ClmDiagnosisCode_1</th>\n",
       "      <th>ClmCount_Provider_BeneID_ClmDiagnosisCode_1_ClmProcedureCode_1</th>\n",
       "      <th>Gender_2</th>\n",
       "      <th>Race_2</th>\n",
       "      <th>Race_3</th>\n",
       "      <th>Race_5</th>\n",
       "    </tr>\n",
       "  </thead>\n",
       "  <tbody>\n",
       "    <tr>\n",
       "      <th>135387</th>\n",
       "      <td>PRV57750</td>\n",
       "      <td>1300</td>\n",
       "      <td>0.0</td>\n",
       "      <td>0.0</td>\n",
       "      <td>0</td>\n",
       "      <td>12</td>\n",
       "      <td>12</td>\n",
       "      <td>0</td>\n",
       "      <td>1</td>\n",
       "      <td>0</td>\n",
       "      <td>...</td>\n",
       "      <td>0.0</td>\n",
       "      <td>1.0</td>\n",
       "      <td>0.0</td>\n",
       "      <td>0.0</td>\n",
       "      <td>1.0</td>\n",
       "      <td>0.0</td>\n",
       "      <td>1</td>\n",
       "      <td>0</td>\n",
       "      <td>0</td>\n",
       "      <td>0</td>\n",
       "    </tr>\n",
       "    <tr>\n",
       "      <th>135388</th>\n",
       "      <td>PRV57750</td>\n",
       "      <td>10</td>\n",
       "      <td>0.0</td>\n",
       "      <td>0.0</td>\n",
       "      <td>0</td>\n",
       "      <td>12</td>\n",
       "      <td>12</td>\n",
       "      <td>0</td>\n",
       "      <td>0</td>\n",
       "      <td>0</td>\n",
       "      <td>...</td>\n",
       "      <td>0.0</td>\n",
       "      <td>1.0</td>\n",
       "      <td>0.0</td>\n",
       "      <td>0.0</td>\n",
       "      <td>1.0</td>\n",
       "      <td>0.0</td>\n",
       "      <td>1</td>\n",
       "      <td>0</td>\n",
       "      <td>0</td>\n",
       "      <td>0</td>\n",
       "    </tr>\n",
       "    <tr>\n",
       "      <th>135389</th>\n",
       "      <td>PRV57750</td>\n",
       "      <td>200</td>\n",
       "      <td>0.0</td>\n",
       "      <td>0.0</td>\n",
       "      <td>0</td>\n",
       "      <td>12</td>\n",
       "      <td>12</td>\n",
       "      <td>0</td>\n",
       "      <td>0</td>\n",
       "      <td>0</td>\n",
       "      <td>...</td>\n",
       "      <td>0.0</td>\n",
       "      <td>1.0</td>\n",
       "      <td>0.0</td>\n",
       "      <td>0.0</td>\n",
       "      <td>1.0</td>\n",
       "      <td>0.0</td>\n",
       "      <td>1</td>\n",
       "      <td>1</td>\n",
       "      <td>0</td>\n",
       "      <td>0</td>\n",
       "    </tr>\n",
       "    <tr>\n",
       "      <th>135390</th>\n",
       "      <td>PRV57750</td>\n",
       "      <td>2300</td>\n",
       "      <td>0.0</td>\n",
       "      <td>0.0</td>\n",
       "      <td>0</td>\n",
       "      <td>12</td>\n",
       "      <td>12</td>\n",
       "      <td>1</td>\n",
       "      <td>0</td>\n",
       "      <td>1</td>\n",
       "      <td>...</td>\n",
       "      <td>0.0</td>\n",
       "      <td>1.0</td>\n",
       "      <td>1.0</td>\n",
       "      <td>0.0</td>\n",
       "      <td>1.0</td>\n",
       "      <td>0.0</td>\n",
       "      <td>1</td>\n",
       "      <td>0</td>\n",
       "      <td>0</td>\n",
       "      <td>0</td>\n",
       "    </tr>\n",
       "    <tr>\n",
       "      <th>135391</th>\n",
       "      <td>PRV57750</td>\n",
       "      <td>200</td>\n",
       "      <td>0.0</td>\n",
       "      <td>0.0</td>\n",
       "      <td>0</td>\n",
       "      <td>12</td>\n",
       "      <td>12</td>\n",
       "      <td>0</td>\n",
       "      <td>1</td>\n",
       "      <td>0</td>\n",
       "      <td>...</td>\n",
       "      <td>0.0</td>\n",
       "      <td>1.0</td>\n",
       "      <td>1.0</td>\n",
       "      <td>0.0</td>\n",
       "      <td>1.0</td>\n",
       "      <td>0.0</td>\n",
       "      <td>1</td>\n",
       "      <td>0</td>\n",
       "      <td>1</td>\n",
       "      <td>0</td>\n",
       "    </tr>\n",
       "  </tbody>\n",
       "</table>\n",
       "<p>5 rows × 158 columns</p>\n",
       "</div>"
      ],
      "text/plain": [
       "        Provider  InscClaimAmtReimbursed  DeductibleAmtPaid  AdmitForDays  \\\n",
       "135387  PRV57750                    1300                0.0           0.0   \n",
       "135388  PRV57750                      10                0.0           0.0   \n",
       "135389  PRV57750                     200                0.0           0.0   \n",
       "135390  PRV57750                    2300                0.0           0.0   \n",
       "135391  PRV57750                     200                0.0           0.0   \n",
       "\n",
       "       RenalDiseaseIndicator  NoOfMonths_PartACov  NoOfMonths_PartBCov  \\\n",
       "135387                     0                   12                   12   \n",
       "135388                     0                   12                   12   \n",
       "135389                     0                   12                   12   \n",
       "135390                     0                   12                   12   \n",
       "135391                     0                   12                   12   \n",
       "\n",
       "        ChronicCond_Alzheimer  ChronicCond_Heartfailure  \\\n",
       "135387                      0                         1   \n",
       "135388                      0                         0   \n",
       "135389                      0                         0   \n",
       "135390                      1                         0   \n",
       "135391                      0                         1   \n",
       "\n",
       "        ChronicCond_KidneyDisease  ...  \\\n",
       "135387                          0  ...   \n",
       "135388                          0  ...   \n",
       "135389                          0  ...   \n",
       "135390                          1  ...   \n",
       "135391                          0  ...   \n",
       "\n",
       "        ClmCount_Provider_BeneID_AttendingPhysician_ClmProcedureCode_1  \\\n",
       "135387                                                0.0                \n",
       "135388                                                0.0                \n",
       "135389                                                0.0                \n",
       "135390                                                0.0                \n",
       "135391                                                0.0                \n",
       "\n",
       "        ClmCount_Provider_BeneID_AttendingPhysician_ClmDiagnosisCode_1  \\\n",
       "135387                                                1.0                \n",
       "135388                                                1.0                \n",
       "135389                                                1.0                \n",
       "135390                                                1.0                \n",
       "135391                                                1.0                \n",
       "\n",
       "        ClmCount_Provider_BeneID_OperatingPhysician  \\\n",
       "135387                                          0.0   \n",
       "135388                                          0.0   \n",
       "135389                                          0.0   \n",
       "135390                                          1.0   \n",
       "135391                                          1.0   \n",
       "\n",
       "        ClmCount_Provider_BeneID_ClmProcedureCode_1  \\\n",
       "135387                                          0.0   \n",
       "135388                                          0.0   \n",
       "135389                                          0.0   \n",
       "135390                                          0.0   \n",
       "135391                                          0.0   \n",
       "\n",
       "        ClmCount_Provider_BeneID_ClmDiagnosisCode_1  \\\n",
       "135387                                          1.0   \n",
       "135388                                          1.0   \n",
       "135389                                          1.0   \n",
       "135390                                          1.0   \n",
       "135391                                          1.0   \n",
       "\n",
       "        ClmCount_Provider_BeneID_ClmDiagnosisCode_1_ClmProcedureCode_1  \\\n",
       "135387                                                0.0                \n",
       "135388                                                0.0                \n",
       "135389                                                0.0                \n",
       "135390                                                0.0                \n",
       "135391                                                0.0                \n",
       "\n",
       "        Gender_2  Race_2  Race_3  Race_5  \n",
       "135387         1       0       0       0  \n",
       "135388         1       0       0       0  \n",
       "135389         1       1       0       0  \n",
       "135390         1       0       0       0  \n",
       "135391         1       0       1       0  \n",
       "\n",
       "[5 rows x 158 columns]"
      ]
     },
     "execution_count": 115,
     "metadata": {},
     "output_type": "execute_result"
    }
   ],
   "source": [
    "Test_category_removed.tail()   # Check last 5 records."
   ]
  },
  {
   "cell_type": "code",
   "execution_count": 116,
   "metadata": {},
   "outputs": [
    {
     "name": "stdout",
     "output_type": "stream",
     "text": [
      "Test Shape before removing (135392, 158)\n"
     ]
    }
   ],
   "source": [
    "print('Test Shape before removing',Test_category_removed.shape)"
   ]
  },
  {
   "cell_type": "code",
   "execution_count": 117,
   "metadata": {},
   "outputs": [],
   "source": [
    "#Data Aggregation to the Providers level"
   ]
  },
  {
   "cell_type": "code",
   "execution_count": 118,
   "metadata": {},
   "outputs": [],
   "source": [
    "### Lets aggregate claims data to unique providers.\n",
    "#as_index : For aggregated output, return object with group labels as the index. \n",
    "#Only relevant for DataFrame input. as_index=False is effectively “SQL-style” grouped output\n",
    "Train_category_removed_groupedbyProv_PF=Train_category_removed.groupby(['Provider','PotentialFraud'],as_index=False).agg('sum')\n",
    "Test_category_removed_groupedbyProv_PF=Test_category_removed.groupby(['Provider'],as_index=False).agg('sum')"
   ]
  },
  {
   "cell_type": "code",
   "execution_count": 119,
   "metadata": {},
   "outputs": [
    {
     "name": "stdout",
     "output_type": "stream",
     "text": [
      "Providers in Train: (5410, 158)\n",
      "Providers in Test : (1353, 157)\n"
     ]
    },
    {
     "data": {
      "text/plain": [
       "(135392, 158)"
      ]
     },
     "execution_count": 119,
     "metadata": {},
     "output_type": "execute_result"
    }
   ],
   "source": [
    "print('Providers in Train:' ,Train_category_removed_groupedbyProv_PF.shape)\n",
    "print('Providers in Test :',Test_category_removed_groupedbyProv_PF.shape)\n",
    "Train_category_removed_groupedbyProv_PF.shape\n",
    "Test_category_removed_groupedbyProv_PF.shape\n",
    "Train_category_removed.shape\n",
    "Test_category_removed.shape"
   ]
  },
  {
   "cell_type": "code",
   "execution_count": 120,
   "metadata": {},
   "outputs": [
    {
     "data": {
      "text/html": [
       "<div>\n",
       "<style scoped>\n",
       "    .dataframe tbody tr th:only-of-type {\n",
       "        vertical-align: middle;\n",
       "    }\n",
       "\n",
       "    .dataframe tbody tr th {\n",
       "        vertical-align: top;\n",
       "    }\n",
       "\n",
       "    .dataframe thead th {\n",
       "        text-align: right;\n",
       "    }\n",
       "</style>\n",
       "<table border=\"1\" class=\"dataframe\">\n",
       "  <thead>\n",
       "    <tr style=\"text-align: right;\">\n",
       "      <th></th>\n",
       "      <th>Provider</th>\n",
       "      <th>InscClaimAmtReimbursed</th>\n",
       "      <th>DeductibleAmtPaid</th>\n",
       "      <th>AdmitForDays</th>\n",
       "      <th>NoOfMonths_PartACov</th>\n",
       "      <th>NoOfMonths_PartBCov</th>\n",
       "      <th>ChronicCond_Alzheimer</th>\n",
       "      <th>ChronicCond_Heartfailure</th>\n",
       "      <th>ChronicCond_KidneyDisease</th>\n",
       "      <th>ChronicCond_Cancer</th>\n",
       "      <th>...</th>\n",
       "      <th>ClmCount_Provider_BeneID_AttendingPhysician_ClmProcedureCode_1</th>\n",
       "      <th>ClmCount_Provider_BeneID_AttendingPhysician_ClmDiagnosisCode_1</th>\n",
       "      <th>ClmCount_Provider_BeneID_OperatingPhysician</th>\n",
       "      <th>ClmCount_Provider_BeneID_ClmProcedureCode_1</th>\n",
       "      <th>ClmCount_Provider_BeneID_ClmDiagnosisCode_1</th>\n",
       "      <th>ClmCount_Provider_BeneID_ClmDiagnosisCode_1_ClmProcedureCode_1</th>\n",
       "      <th>Gender_2</th>\n",
       "      <th>Race_2</th>\n",
       "      <th>Race_3</th>\n",
       "      <th>Race_5</th>\n",
       "    </tr>\n",
       "  </thead>\n",
       "  <tbody>\n",
       "    <tr>\n",
       "      <th>0</th>\n",
       "      <td>PRV51002</td>\n",
       "      <td>53790</td>\n",
       "      <td>380.0</td>\n",
       "      <td>0.0</td>\n",
       "      <td>2424</td>\n",
       "      <td>2460</td>\n",
       "      <td>79</td>\n",
       "      <td>108</td>\n",
       "      <td>72</td>\n",
       "      <td>25</td>\n",
       "      <td>...</td>\n",
       "      <td>0.0</td>\n",
       "      <td>202.0</td>\n",
       "      <td>30.0</td>\n",
       "      <td>0.0</td>\n",
       "      <td>204.0</td>\n",
       "      <td>0.0</td>\n",
       "      <td>134.0</td>\n",
       "      <td>30.0</td>\n",
       "      <td>2.0</td>\n",
       "      <td>4.0</td>\n",
       "    </tr>\n",
       "    <tr>\n",
       "      <th>1</th>\n",
       "      <td>PRV51006</td>\n",
       "      <td>30720</td>\n",
       "      <td>0.0</td>\n",
       "      <td>0.0</td>\n",
       "      <td>1224</td>\n",
       "      <td>1224</td>\n",
       "      <td>35</td>\n",
       "      <td>69</td>\n",
       "      <td>50</td>\n",
       "      <td>15</td>\n",
       "      <td>...</td>\n",
       "      <td>0.0</td>\n",
       "      <td>99.0</td>\n",
       "      <td>26.0</td>\n",
       "      <td>0.0</td>\n",
       "      <td>99.0</td>\n",
       "      <td>0.0</td>\n",
       "      <td>59.0</td>\n",
       "      <td>26.0</td>\n",
       "      <td>0.0</td>\n",
       "      <td>0.0</td>\n",
       "    </tr>\n",
       "    <tr>\n",
       "      <th>2</th>\n",
       "      <td>PRV51009</td>\n",
       "      <td>27230</td>\n",
       "      <td>1238.0</td>\n",
       "      <td>8.0</td>\n",
       "      <td>468</td>\n",
       "      <td>468</td>\n",
       "      <td>8</td>\n",
       "      <td>17</td>\n",
       "      <td>19</td>\n",
       "      <td>1</td>\n",
       "      <td>...</td>\n",
       "      <td>2.0</td>\n",
       "      <td>40.0</td>\n",
       "      <td>24.0</td>\n",
       "      <td>2.0</td>\n",
       "      <td>41.0</td>\n",
       "      <td>2.0</td>\n",
       "      <td>23.0</td>\n",
       "      <td>6.0</td>\n",
       "      <td>0.0</td>\n",
       "      <td>0.0</td>\n",
       "    </tr>\n",
       "  </tbody>\n",
       "</table>\n",
       "<p>3 rows × 157 columns</p>\n",
       "</div>"
      ],
      "text/plain": [
       "   Provider  InscClaimAmtReimbursed  DeductibleAmtPaid  AdmitForDays  \\\n",
       "0  PRV51002                   53790              380.0           0.0   \n",
       "1  PRV51006                   30720                0.0           0.0   \n",
       "2  PRV51009                   27230             1238.0           8.0   \n",
       "\n",
       "   NoOfMonths_PartACov  NoOfMonths_PartBCov  ChronicCond_Alzheimer  \\\n",
       "0                 2424                 2460                     79   \n",
       "1                 1224                 1224                     35   \n",
       "2                  468                  468                      8   \n",
       "\n",
       "   ChronicCond_Heartfailure  ChronicCond_KidneyDisease  ChronicCond_Cancer  \\\n",
       "0                       108                         72                  25   \n",
       "1                        69                         50                  15   \n",
       "2                        17                         19                   1   \n",
       "\n",
       "   ...  ClmCount_Provider_BeneID_AttendingPhysician_ClmProcedureCode_1  \\\n",
       "0  ...                                                0.0                \n",
       "1  ...                                                0.0                \n",
       "2  ...                                                2.0                \n",
       "\n",
       "   ClmCount_Provider_BeneID_AttendingPhysician_ClmDiagnosisCode_1  \\\n",
       "0                                              202.0                \n",
       "1                                               99.0                \n",
       "2                                               40.0                \n",
       "\n",
       "   ClmCount_Provider_BeneID_OperatingPhysician  \\\n",
       "0                                         30.0   \n",
       "1                                         26.0   \n",
       "2                                         24.0   \n",
       "\n",
       "   ClmCount_Provider_BeneID_ClmProcedureCode_1  \\\n",
       "0                                          0.0   \n",
       "1                                          0.0   \n",
       "2                                          2.0   \n",
       "\n",
       "   ClmCount_Provider_BeneID_ClmDiagnosisCode_1  \\\n",
       "0                                        204.0   \n",
       "1                                         99.0   \n",
       "2                                         41.0   \n",
       "\n",
       "   ClmCount_Provider_BeneID_ClmDiagnosisCode_1_ClmProcedureCode_1  Gender_2  \\\n",
       "0                                                0.0                  134.0   \n",
       "1                                                0.0                   59.0   \n",
       "2                                                2.0                   23.0   \n",
       "\n",
       "   Race_2  Race_3  Race_5  \n",
       "0    30.0     2.0     4.0  \n",
       "1    26.0     0.0     0.0  \n",
       "2     6.0     0.0     0.0  \n",
       "\n",
       "[3 rows x 157 columns]"
      ]
     },
     "execution_count": 120,
     "metadata": {},
     "output_type": "execute_result"
    }
   ],
   "source": [
    "Train_category_removed_groupedbyProv_PF.head(3)\n",
    "Test_category_removed_groupedbyProv_PF.head(3)"
   ]
  },
  {
   "cell_type": "code",
   "execution_count": 121,
   "metadata": {},
   "outputs": [],
   "source": [
    "#Train Validation split"
   ]
  },
  {
   "cell_type": "code",
   "execution_count": 122,
   "metadata": {},
   "outputs": [
    {
     "name": "stdout",
     "output_type": "stream",
     "text": [
      "Train shape: (5410, 158)\n"
     ]
    }
   ],
   "source": [
    "print('Train shape:',Train_category_removed_groupedbyProv_PF.shape)"
   ]
  },
  {
   "cell_type": "code",
   "execution_count": 123,
   "metadata": {},
   "outputs": [
    {
     "data": {
      "text/html": [
       "<div>\n",
       "<style scoped>\n",
       "    .dataframe tbody tr th:only-of-type {\n",
       "        vertical-align: middle;\n",
       "    }\n",
       "\n",
       "    .dataframe tbody tr th {\n",
       "        vertical-align: top;\n",
       "    }\n",
       "\n",
       "    .dataframe thead th {\n",
       "        text-align: right;\n",
       "    }\n",
       "</style>\n",
       "<table border=\"1\" class=\"dataframe\">\n",
       "  <thead>\n",
       "    <tr style=\"text-align: right;\">\n",
       "      <th></th>\n",
       "      <th>Provider</th>\n",
       "      <th>PotentialFraud</th>\n",
       "      <th>InscClaimAmtReimbursed</th>\n",
       "      <th>DeductibleAmtPaid</th>\n",
       "      <th>AdmitForDays</th>\n",
       "      <th>NoOfMonths_PartACov</th>\n",
       "      <th>NoOfMonths_PartBCov</th>\n",
       "      <th>ChronicCond_Alzheimer</th>\n",
       "      <th>ChronicCond_Heartfailure</th>\n",
       "      <th>ChronicCond_KidneyDisease</th>\n",
       "      <th>...</th>\n",
       "      <th>ClmCount_Provider_BeneID_AttendingPhysician_ClmProcedureCode_1</th>\n",
       "      <th>ClmCount_Provider_BeneID_AttendingPhysician_ClmDiagnosisCode_1</th>\n",
       "      <th>ClmCount_Provider_BeneID_OperatingPhysician</th>\n",
       "      <th>ClmCount_Provider_BeneID_ClmProcedureCode_1</th>\n",
       "      <th>ClmCount_Provider_BeneID_ClmDiagnosisCode_1</th>\n",
       "      <th>ClmCount_Provider_BeneID_ClmDiagnosisCode_1_ClmProcedureCode_1</th>\n",
       "      <th>Gender_2</th>\n",
       "      <th>Race_2</th>\n",
       "      <th>Race_3</th>\n",
       "      <th>Race_5</th>\n",
       "    </tr>\n",
       "  </thead>\n",
       "  <tbody>\n",
       "    <tr>\n",
       "      <th>0</th>\n",
       "      <td>PRV51001</td>\n",
       "      <td>0</td>\n",
       "      <td>104640</td>\n",
       "      <td>5340.0</td>\n",
       "      <td>30.0</td>\n",
       "      <td>300</td>\n",
       "      <td>300</td>\n",
       "      <td>15</td>\n",
       "      <td>19</td>\n",
       "      <td>17</td>\n",
       "      <td>...</td>\n",
       "      <td>2.0</td>\n",
       "      <td>24.0</td>\n",
       "      <td>5.0</td>\n",
       "      <td>2.0</td>\n",
       "      <td>24.0</td>\n",
       "      <td>2.0</td>\n",
       "      <td>16.0</td>\n",
       "      <td>4.0</td>\n",
       "      <td>0.0</td>\n",
       "      <td>0.0</td>\n",
       "    </tr>\n",
       "    <tr>\n",
       "      <th>1</th>\n",
       "      <td>PRV51003</td>\n",
       "      <td>1</td>\n",
       "      <td>605670</td>\n",
       "      <td>66286.0</td>\n",
       "      <td>382.0</td>\n",
       "      <td>1560</td>\n",
       "      <td>1567</td>\n",
       "      <td>56</td>\n",
       "      <td>80</td>\n",
       "      <td>64</td>\n",
       "      <td>...</td>\n",
       "      <td>39.0</td>\n",
       "      <td>132.0</td>\n",
       "      <td>45.0</td>\n",
       "      <td>39.0</td>\n",
       "      <td>132.0</td>\n",
       "      <td>39.0</td>\n",
       "      <td>78.0</td>\n",
       "      <td>24.0</td>\n",
       "      <td>0.0</td>\n",
       "      <td>1.0</td>\n",
       "    </tr>\n",
       "    <tr>\n",
       "      <th>2</th>\n",
       "      <td>PRV51004</td>\n",
       "      <td>0</td>\n",
       "      <td>52170</td>\n",
       "      <td>310.0</td>\n",
       "      <td>0.0</td>\n",
       "      <td>1768</td>\n",
       "      <td>1782</td>\n",
       "      <td>64</td>\n",
       "      <td>88</td>\n",
       "      <td>50</td>\n",
       "      <td>...</td>\n",
       "      <td>0.0</td>\n",
       "      <td>143.0</td>\n",
       "      <td>27.0</td>\n",
       "      <td>0.0</td>\n",
       "      <td>143.0</td>\n",
       "      <td>0.0</td>\n",
       "      <td>103.0</td>\n",
       "      <td>24.0</td>\n",
       "      <td>5.0</td>\n",
       "      <td>0.0</td>\n",
       "    </tr>\n",
       "  </tbody>\n",
       "</table>\n",
       "<p>3 rows × 158 columns</p>\n",
       "</div>"
      ],
      "text/plain": [
       "   Provider  PotentialFraud  InscClaimAmtReimbursed  DeductibleAmtPaid  \\\n",
       "0  PRV51001               0                  104640             5340.0   \n",
       "1  PRV51003               1                  605670            66286.0   \n",
       "2  PRV51004               0                   52170              310.0   \n",
       "\n",
       "   AdmitForDays  NoOfMonths_PartACov  NoOfMonths_PartBCov  \\\n",
       "0          30.0                  300                  300   \n",
       "1         382.0                 1560                 1567   \n",
       "2           0.0                 1768                 1782   \n",
       "\n",
       "   ChronicCond_Alzheimer  ChronicCond_Heartfailure  ChronicCond_KidneyDisease  \\\n",
       "0                     15                        19                         17   \n",
       "1                     56                        80                         64   \n",
       "2                     64                        88                         50   \n",
       "\n",
       "   ...  ClmCount_Provider_BeneID_AttendingPhysician_ClmProcedureCode_1  \\\n",
       "0  ...                                                2.0                \n",
       "1  ...                                               39.0                \n",
       "2  ...                                                0.0                \n",
       "\n",
       "   ClmCount_Provider_BeneID_AttendingPhysician_ClmDiagnosisCode_1  \\\n",
       "0                                               24.0                \n",
       "1                                              132.0                \n",
       "2                                              143.0                \n",
       "\n",
       "   ClmCount_Provider_BeneID_OperatingPhysician  \\\n",
       "0                                          5.0   \n",
       "1                                         45.0   \n",
       "2                                         27.0   \n",
       "\n",
       "   ClmCount_Provider_BeneID_ClmProcedureCode_1  \\\n",
       "0                                          2.0   \n",
       "1                                         39.0   \n",
       "2                                          0.0   \n",
       "\n",
       "   ClmCount_Provider_BeneID_ClmDiagnosisCode_1  \\\n",
       "0                                         24.0   \n",
       "1                                        132.0   \n",
       "2                                        143.0   \n",
       "\n",
       "   ClmCount_Provider_BeneID_ClmDiagnosisCode_1_ClmProcedureCode_1  Gender_2  \\\n",
       "0                                                2.0                   16.0   \n",
       "1                                               39.0                   78.0   \n",
       "2                                                0.0                  103.0   \n",
       "\n",
       "   Race_2  Race_3  Race_5  \n",
       "0     4.0     0.0     0.0  \n",
       "1    24.0     0.0     1.0  \n",
       "2    24.0     5.0     0.0  \n",
       "\n",
       "[3 rows x 158 columns]"
      ]
     },
     "execution_count": 123,
     "metadata": {},
     "output_type": "execute_result"
    }
   ],
   "source": [
    "Train_category_removed_groupedbyProv_PF.head(3)"
   ]
  },
  {
   "cell_type": "code",
   "execution_count": 124,
   "metadata": {},
   "outputs": [
    {
     "data": {
      "text/plain": [
       "0       0\n",
       "1       1\n",
       "2       0\n",
       "3       1\n",
       "4       0\n",
       "       ..\n",
       "5405    0\n",
       "5406    0\n",
       "5407    0\n",
       "5408    0\n",
       "5409    0\n",
       "Name: PotentialFraud, Length: 5410, dtype: int64"
      ]
     },
     "execution_count": 124,
     "metadata": {},
     "output_type": "execute_result"
    }
   ],
   "source": [
    "## Lets Seperate out Target and providers from independent variables.Create Target column y.\n",
    "\n",
    "X=Train_category_removed_groupedbyProv_PF.drop(axis=1,columns=['Provider','PotentialFraud'])\n",
    "y=Train_category_removed_groupedbyProv_PF['PotentialFraud']\n",
    "X.columns\n",
    "y"
   ]
  },
  {
   "cell_type": "code",
   "execution_count": 125,
   "metadata": {},
   "outputs": [],
   "source": [
    "#Standardization"
   ]
  },
  {
   "cell_type": "code",
   "execution_count": 126,
   "metadata": {},
   "outputs": [
    {
     "data": {
      "text/plain": [
       "array([[-0.1826605 , -0.30890206, -0.31190787, ...,  0.68666696,\n",
       "        -0.07680192,  0.16282239],\n",
       "       [-0.26851455, -0.32414943, -0.31190787, ...,  0.54735069,\n",
       "        -0.17022483, -0.19598378],\n",
       "       [-0.28150244, -0.27447511, -0.26186682, ..., -0.14923064,\n",
       "        -0.17022483, -0.19598378],\n",
       "       ...,\n",
       "       [-0.38093981, -0.32414943, -0.31190787, ..., -0.35820504,\n",
       "        -0.17022483, -0.19598378],\n",
       "       [-0.3456976 , -0.30930331, -0.31190787, ..., -0.00991437,\n",
       "         0.06333245, -0.01658069],\n",
       "       [-0.28228395, -0.31492076, -0.31190787, ...,  0.19906003,\n",
       "         0.15675536,  0.52162856]])"
      ]
     },
     "execution_count": 126,
     "metadata": {},
     "output_type": "execute_result"
    }
   ],
   "source": [
    "## Lets apply StandardScaler and transform values to its z form,where 99.7% values range between -3 to 3.\n",
    "sc=StandardScaler()   # MinMaxScaler\n",
    "sc.fit(X)\n",
    "X_std=sc.transform(X)\n",
    "\n",
    "X_teststd=sc.transform(Test_category_removed_groupedbyProv_PF.iloc[:,1:])   #Apply Standard Scaler to unseen data as well.\n",
    "\n",
    "#print(X_std[0:3,:])\n",
    "#print(X_teststd[0:3,:])\n",
    "X_teststd"
   ]
  },
  {
   "cell_type": "code",
   "execution_count": 127,
   "metadata": {},
   "outputs": [
    {
     "name": "stdout",
     "output_type": "stream",
     "text": [
      "X Shape: (5410, 156)\n"
     ]
    }
   ],
   "source": [
    "print('X Shape:',X_std.shape)"
   ]
  },
  {
   "cell_type": "code",
   "execution_count": 128,
   "metadata": {},
   "outputs": [],
   "source": [
    "#Lets Split data in train and validation"
   ]
  },
  {
   "cell_type": "code",
   "execution_count": 129,
   "metadata": {},
   "outputs": [],
   "source": [
    "## 'stratify=y' will make sure equal distribution of yes:no in both train and validation\n",
    "#This stratify parameter makes a split so that the proportion of values in the sample produced will be the same as the proportion of values provided to parameter stratify.\n",
    "\n",
    "#For example, if variable y is a binary categorical variable with values 0 and 1 and there are 25% of zeros and 75% of ones, \n",
    "#stratify=y will make sure that your random split has 25% of 0's and 75% of 1's.\n",
    "#This parameter decides the size of the data that has to be split as the test dataset. This is given as a fraction.\n",
    "#For example, if you pass 0.5 as the value, the dataset will be split 50% as the test dataset.\n",
    "\n",
    "X_train,X_val,y_train,y_val = train_test_split(X_std,y,test_size=0.3,random_state=101,stratify=y,shuffle=True)"
   ]
  },
  {
   "cell_type": "code",
   "execution_count": 130,
   "metadata": {},
   "outputs": [
    {
     "name": "stdout",
     "output_type": "stream",
     "text": [
      "X_train : (3787, 156)\n",
      "y_train : (3787,)\n",
      "X_val : (1623, 156)\n",
      "y_val : (1623,)\n"
     ]
    }
   ],
   "source": [
    "print('X_train :',X_train.shape)\n",
    "print('y_train :',y_train.shape)\n",
    "\n",
    "print('X_val :',X_val.shape)\n",
    "print('y_val :',y_val.shape)\n"
   ]
  },
  {
   "cell_type": "code",
   "execution_count": 131,
   "metadata": {},
   "outputs": [
    {
     "name": "stdout",
     "output_type": "stream",
     "text": [
      "X_teststd (1353, 156)\n"
     ]
    }
   ],
   "source": [
    "print('X_teststd',X_teststd.shape)"
   ]
  },
  {
   "cell_type": "code",
   "execution_count": 132,
   "metadata": {},
   "outputs": [],
   "source": [
    "##Model Building\n",
    "\n",
    "#Logistic regression**"
   ]
  },
  {
   "cell_type": "code",
   "execution_count": 133,
   "metadata": {},
   "outputs": [
    {
     "data": {
      "text/plain": [
       "LogisticRegressionCV(class_weight='balanced', cv=10, random_state=123)"
      ]
     },
     "execution_count": 133,
     "metadata": {},
     "output_type": "execute_result"
    }
   ],
   "source": [
    "from sklearn.linear_model import LogisticRegressionCV\n",
    "\n",
    "log = LogisticRegressionCV(cv=10,class_weight='balanced',random_state=123)    \n",
    "#The default cross-validation generator used is Stratified K-Folds. If an integer is provided, then it is the number of folds used. \n",
    "#See the module sklearn.model_selection module for the list of possible cross-validation objects.\n",
    "# The \"balanced\" mode uses the values of y to automatically adjust weights inversely proportional to class frequencies\n",
    "#in the input data as ``n_samples / (n_classes * np.bincount(y))``.\n",
    "\n",
    "log.fit(X_train,y_train)"
   ]
  },
  {
   "cell_type": "code",
   "execution_count": 134,
   "metadata": {},
   "outputs": [
    {
     "data": {
      "text/plain": [
       "array([[0.59202486, 0.40797514],\n",
       "       [0.84639153, 0.15360847],\n",
       "       [0.89095432, 0.10904568],\n",
       "       ...,\n",
       "       [0.87973662, 0.12026338],\n",
       "       [0.81709585, 0.18290415],\n",
       "       [0.00382027, 0.99617973]])"
      ]
     },
     "execution_count": 134,
     "metadata": {},
     "output_type": "execute_result"
    }
   ],
   "source": [
    "## Lets predict probability of 1 and 0 for X_train and X_val\n",
    "\n",
    "log_train_pred_probability=log.predict_proba(X_train)\n",
    "log_val_pred_probability=log.predict_proba(X_val)\n",
    "log_train_pred_probability"
   ]
  },
  {
   "cell_type": "code",
   "execution_count": 135,
   "metadata": {},
   "outputs": [],
   "source": [
    "#Logistic Regression Model Prediction for Train and Validation"
   ]
  },
  {
   "cell_type": "code",
   "execution_count": 136,
   "metadata": {},
   "outputs": [
    {
     "data": {
      "image/png": "[encoded data removed]",
      "text/plain": [
       "<Figure size 864x576 with 1 Axes>"
      ]
     },
     "metadata": {},
     "output_type": "display_data"
    }
   ],
   "source": [
    "# Lets compare model prediction performance on train and Validation both.\n",
    "\n",
    "fig = plt.figure(figsize=(12,8))\n",
    "\n",
    "sns.distplot(log.predict_proba(X_train)[:,1],color='darkblue')\n",
    "sns.distplot(log.predict_proba(X_val)[:,1],color='firebrick')\n",
    "plt.title('Predictions of Train and Validation ')\n",
    "plt.xlim([0, 1])\n",
    "\n",
    "plt.tight_layout()\n",
    "\n",
    "plt.show()"
   ]
  },
  {
   "cell_type": "code",
   "execution_count": 137,
   "metadata": {},
   "outputs": [],
   "source": [
    "#Logistic regression : ROC Curve\n",
    "#It is a plot of the false positive rate (x-axis) versus the true positive rate (y-axis) for a number of different candidate threshold values between 0.0 and 1.0.\n",
    "#Put another way, it plots the false alarm rate versus the hit rate.\n",
    "#True Positive Rate(sensitivity) = True Positives / (True Positives + False Negatives)\n",
    "#False Positive Rate(specificity) = False Positives / (False Positives + True Negatives)"
   ]
  },
  {
   "cell_type": "code",
   "execution_count": 138,
   "metadata": {},
   "outputs": [
    {
     "data": {
      "image/png": "[encoded data removed]",
      "text/plain": [
       "<Figure size 864x576 with 1 Axes>"
      ]
     },
     "metadata": {},
     "output_type": "display_data"
    }
   ],
   "source": [
    "from sklearn.metrics import roc_curve, auc,precision_recall_curve\n",
    "fpr, tpr, thresholds = roc_curve(y_val,log.predict_proba(X_val)[:,1])         #log_val_pred_probability[:,1])\n",
    "roc_auc = auc(fpr, tpr)\n",
    "\n",
    "plt.figure()\n",
    "plt.plot(fpr, tpr, color='darkorange', lw=1, label='ROC curve (AUC = %0.2f)' % roc_auc)\n",
    "plt.plot([0, 1], [0, 1], color='navy', lw=1, linestyle='--')\n",
    "\n",
    "for label in range(1,10,1):\n",
    "    plt.text((10-label)/10,(10-label)/10,thresholds[label*15],fontdict={'size': 14})\n",
    "\n",
    "plt.xlim([0.0, 1.0])\n",
    "plt.ylim([0.0, 1.05])\n",
    "plt.xlabel('False Positive Rate')\n",
    "plt.ylabel('True Positive Rate')\n",
    "plt.title('Receiver operating characteristic')\n",
    "plt.legend(loc=\"lower right\")\n",
    "plt.show()"
   ]
  },
  {
   "cell_type": "code",
   "execution_count": 139,
   "metadata": {},
   "outputs": [
    {
     "name": "stdout",
     "output_type": "stream",
     "text": [
      "[2.         1.         0.99999493 0.99995863 0.99989765 0.99989612\n",
      " 0.99988131 0.99977867 0.99885786 0.99879013 0.99821302 0.99808961\n",
      " 0.99801399 0.99753272 0.99711781 0.99668183 0.98915675 0.98786978\n",
      " 0.98761235 0.98742384 0.9849708  0.98369853 0.98328779 0.98219568\n",
      " 0.97952296 0.97796451 0.97715793 0.97115193 0.96729785 0.96622512\n",
      " 0.96454267 0.95477788 0.95178354 0.94793581 0.94270831 0.93926452\n",
      " 0.93901029 0.93551521 0.93005237 0.92813067 0.92284271 0.90536528\n",
      " 0.88969609 0.87512986 0.85979216 0.84522035 0.84294632 0.82852155\n",
      " 0.82809864 0.82552546 0.81972649 0.81924605 0.80381532 0.8001069\n",
      " 0.79763137 0.79721082 0.77972448 0.76261474 0.747701   0.73841035\n",
      " 0.73835437 0.7209652  0.72006512 0.7176423  0.71041077 0.7083354\n",
      " 0.7068524  0.60279556 0.60041    0.59090166 0.58641163 0.5781502\n",
      " 0.57463012 0.57275834 0.57183797 0.55653911 0.55520188 0.5537873\n",
      " 0.55330968 0.53507462 0.53399982 0.52568979 0.51354055 0.49956377\n",
      " 0.49192341 0.49137175 0.48639434 0.47667151 0.47359508 0.46309414\n",
      " 0.46140554 0.44510075 0.44191602 0.43582197 0.43355503 0.43135979\n",
      " 0.42923888 0.42445917 0.42147668 0.41798537 0.41579807 0.40284222\n",
      " 0.40176345 0.39979579 0.39847828 0.38589542 0.38535687 0.37251039\n",
      " 0.37117853 0.35305032 0.35196356 0.34974469 0.34966689 0.34286914\n",
      " 0.34028563 0.3309072  0.32995818 0.32270093 0.31959223 0.31395758\n",
      " 0.31343336 0.26432585 0.26418342 0.23431719 0.23365485 0.22604721\n",
      " 0.22593742 0.2079107  0.20755238 0.20729883 0.20729057 0.18596396\n",
      " 0.18533669 0.1731554  0.17306014 0.16306556 0.16306338 0.15622044\n",
      " 0.1560649  0.12648742 0.1264596  0.11826105 0.11823684 0.11752895\n",
      " 0.11750916 0.01857415]\n",
      "Area under the ROC curve : 0.935794\n"
     ]
    }
   ],
   "source": [
    "fpr, tpr, thresholds =roc_curve(y_val, log.predict_proba(X_val)[:,1],pos_label=1)     #log_val_pred_probability[:,1])\n",
    "print(thresholds)\n",
    "roc_auc = auc(fpr, tpr)\n",
    "print(\"Area under the ROC curve : %f\" % roc_auc)"
   ]
  },
  {
   "cell_type": "code",
   "execution_count": 140,
   "metadata": {},
   "outputs": [],
   "source": [
    "#Logistic Regression : Precision Vs Recall Curve¶\n",
    "#Precision is a ratio of the number of true positives divided by the sum of the true positives and false positives. \n",
    "#It describes how good a model is at predicting the positive class. Precision is referred to as the positive predictive value.\n",
    "#Positive Predictive Power = True Positives / (True Positives + False Positives)\n",
    "#Recall is calculated as the ratio of the number of true positives divided by the sum of the true positives and the false negatives. Recall is the same as sensitivity.\n",
    "\n",
    "#Recall = True Positives / (True Positives + False Negatives)\n"
   ]
  },
  {
   "cell_type": "code",
   "execution_count": 141,
   "metadata": {},
   "outputs": [
    {
     "data": {
      "text/plain": [
       "Text(0.5, 1.0, 'Precision Vs Recall')"
      ]
     },
     "execution_count": 141,
     "metadata": {},
     "output_type": "execute_result"
    },
    {
     "data": {
      "image/png": "[encoded data removed]",
      "text/plain": [
       "<Figure size 864x576 with 1 Axes>"
      ]
     },
     "metadata": {},
     "output_type": "display_data"
    }
   ],
   "source": [
    "## Lets Check precision and recall \n",
    "precision, recall, _ = precision_recall_curve(y_val, log.predict_proba(X_val)[:,1])\n",
    "\n",
    "plt.plot(precision,recall)\n",
    "plt.xlabel('Recall')\n",
    "plt.ylabel('Precision')\n",
    "plt.title('Precision Vs Recall')"
   ]
  },
  {
   "cell_type": "code",
   "execution_count": 142,
   "metadata": {},
   "outputs": [],
   "source": [
    "#Logistic Regression : TPR Vs FPR"
   ]
  },
  {
   "cell_type": "code",
   "execution_count": 143,
   "metadata": {},
   "outputs": [
    {
     "data": {
      "image/png": "[encoded data removed]",
      "text/plain": [
       "<Figure size 864x576 with 1 Axes>"
      ]
     },
     "metadata": {},
     "output_type": "display_data"
    }
   ],
   "source": [
    "## Lets Check Tpr vs fpr distribution.\n",
    "\n",
    "fig = plt.figure(figsize=(12,8))\n",
    "\n",
    "sns.distplot(tpr,color='firebrick')\n",
    "\n",
    "sns.distplot(fpr,color='darkblue')\n",
    "plt.title('TPR Vs FPR ')\n",
    "plt.xlim([-.25, 1.2])\n",
    "\n",
    "plt.text(0.1,4,'Negatives',color='darkblue')\n",
    "plt.text(0.7,4,'Positives',color='firebrick')\n",
    "plt.xlabel('Probability')\n",
    "plt.ylabel('Distribution')\n",
    "plt.show()"
   ]
  },
  {
   "cell_type": "code",
   "execution_count": 144,
   "metadata": {},
   "outputs": [],
   "source": [
    "#Probability Thresholding\n",
    "\n",
    "##**Thresholding Probabilities:\n",
    "\n",
    "#If the algorithm returns probabilities (or some other score), thresholding can be applied after a model has been built.\n",
    "#Essentially you change the classification threshold from 50-50 to an appropriate trade-off level. \n",
    "#This typically can be optimized by generated a curve of the evaluation metric (e.g. F-measure).\n",
    "# f1_score() function that takes the true class values and the predicted class values as arguments.\n",
    "#F-Measure or F1 score: that calculates the harmonic mean of the precision and recall (harmonic mean because the precision and recall are rates).\n",
    "#F-Measure summarizes model skill for a specific probability threshold (e.g. 0.5), \n",
    "#whereas the area under curve summarize the skill of a model across thresholds, like ROC AUC\n",
    "#The limitation here is that you are making absolute trade-offs. Any modification in the cutoff will in turn decrease the accuracy of predicting the other class.**"
   ]
  },
  {
   "cell_type": "code",
   "execution_count": 145,
   "metadata": {},
   "outputs": [],
   "source": [
    "## Lets Set probability Threshold to 0.60\n",
    "\n",
    "log_train_pred_60=(log.predict_proba(X_train)[:,1]>0.60).astype(bool)\n",
    "log_val_pred_60=(log.predict_proba(X_val)[:,1]>0.60).astype(bool)   # set threshold as 0.60"
   ]
  },
  {
   "cell_type": "code",
   "execution_count": 146,
   "metadata": {},
   "outputs": [],
   "source": [
    "#Logistic Regression : Evaluation"
   ]
  },
  {
   "cell_type": "code",
   "execution_count": 147,
   "metadata": {},
   "outputs": [
    {
     "name": "stdout",
     "output_type": "stream",
     "text": [
      "Confusion Matrix Train : \n",
      " [[ 270   84]\n",
      " [ 210 3223]]\n",
      "Confusion Matrix Val: \n",
      " [[ 103   49]\n",
      " [  93 1378]]\n",
      "Accuracy Train:  0.922365988909427\n",
      "Accuracy Val:  0.9125077017868145\n",
      "Sensitivity Train :  0.7627118644067796\n",
      "Sensitivity Val:  0.6776315789473685\n",
      "Specificity Train:  0.9388290125254879\n",
      "Specificity Val:  0.9367777022433719\n",
      "Kappa Value : 0.5438304105142315\n",
      "AUC         : 0.8072046405953702\n",
      "F1-Score Train  :  0.6474820143884892\n",
      "F1-Score Val  :  0.5919540229885056\n"
     ]
    }
   ],
   "source": [
    "#Confusion matrix, Accuracy, sensitivity and specificity\n",
    "\n",
    "from sklearn.metrics import confusion_matrix,accuracy_score,cohen_kappa_score,roc_auc_score,f1_score,auc\n",
    "\n",
    "cm0 = confusion_matrix(y_train, log_train_pred_60,labels=[1,0])\n",
    "print('Confusion Matrix Train : \\n', cm0)\n",
    "\n",
    "cm1 = confusion_matrix(y_val, log_val_pred_60,labels=[1,0])\n",
    "print('Confusion Matrix Val: \\n', cm1)\n",
    "\n",
    "total0=sum(sum(cm0))\n",
    "total1=sum(sum(cm1))\n",
    "#####from confusion matrix calculate accuracy\n",
    "accuracy0=(cm0[0,0]+cm0[1,1])/total0\n",
    "print ('Accuracy Train: ', accuracy0)\n",
    "\n",
    "accuracy1=(cm1[0,0]+cm1[1,1])/total1\n",
    "print ('Accuracy Val: ', accuracy1)\n",
    "\n",
    "sensitivity0 = cm0[0,0]/(cm0[0,0]+cm0[0,1])\n",
    "print('Sensitivity Train : ', sensitivity0 )\n",
    "\n",
    "sensitivity1 = cm1[0,0]/(cm1[0,0]+cm1[0,1])\n",
    "print('Sensitivity Val: ', sensitivity1 )\n",
    "\n",
    "\n",
    "specificity0 = cm0[1,1]/(cm0[1,0]+cm0[1,1])\n",
    "print('Specificity Train: ', specificity0)\n",
    "\n",
    "specificity1 = cm1[1,1]/(cm1[1,0]+cm1[1,1])\n",
    "print('Specificity Val: ', specificity1)\n",
    "\n",
    "KappaValue=cohen_kappa_score(y_val, log_val_pred_60)\n",
    "print(\"Kappa Value :\",KappaValue)\n",
    "AUC=roc_auc_score(y_val, log_val_pred_60)\n",
    "\n",
    "print(\"AUC         :\",AUC)\n",
    "\n",
    "print(\"F1-Score Train  : \",f1_score(y_train, log_train_pred_60))\n",
    "\n",
    "print(\"F1-Score Val  : \",f1_score(y_val, log_val_pred_60)) "
   ]
  },
  {
   "cell_type": "code",
   "execution_count": 148,
   "metadata": {},
   "outputs": [],
   "source": [
    "#**Confusion Matrix Confusion Matrix Train : [[ 270 84] [ 210 3223]] Confusion Matrix Val: [[ 103 49] [ 93 1378]] Accuracy Train: 0.922365988909427 Accuracy Val: 0.9125077017868145 Sensitivity Train : 0.7627118644067796 Sensitivity Val: 0.6776315789473685 Specificity Train: 0.9388290125254879 Specificity Val: 0.9367777022433719 Kappa Value : 0.5438304105142315 AUC : 0.8072046405953702 F1-Score Train : 0.6474820143884892 F1-Score Val : 0.5919540229885056**"
   ]
  },
  {
   "cell_type": "code",
   "execution_count": 149,
   "metadata": {},
   "outputs": [
    {
     "data": {
      "text/html": [
       "<div>\n",
       "<style scoped>\n",
       "    .dataframe tbody tr th:only-of-type {\n",
       "        vertical-align: middle;\n",
       "    }\n",
       "\n",
       "    .dataframe tbody tr th {\n",
       "        vertical-align: top;\n",
       "    }\n",
       "\n",
       "    .dataframe thead th {\n",
       "        text-align: right;\n",
       "    }\n",
       "</style>\n",
       "<table border=\"1\" class=\"dataframe\">\n",
       "  <thead>\n",
       "    <tr style=\"text-align: right;\">\n",
       "      <th></th>\n",
       "      <th>0</th>\n",
       "    </tr>\n",
       "  </thead>\n",
       "  <tbody>\n",
       "    <tr>\n",
       "      <th>0</th>\n",
       "      <td>False</td>\n",
       "    </tr>\n",
       "    <tr>\n",
       "      <th>1</th>\n",
       "      <td>False</td>\n",
       "    </tr>\n",
       "  </tbody>\n",
       "</table>\n",
       "</div>"
      ],
      "text/plain": [
       "       0\n",
       "0  False\n",
       "1  False"
      ]
     },
     "execution_count": 149,
     "metadata": {},
     "output_type": "execute_result"
    }
   ],
   "source": [
    "## Lets predict on Test data\n",
    "\n",
    "log_test_pred_60 = (log.predict_proba(X_teststd)[:,1]>0.60).astype(bool)\n",
    "log_test_pred=pd.DataFrame(log_test_pred_60)\n",
    "log_test_pred.head(2)"
   ]
  },
  {
   "cell_type": "code",
   "execution_count": 150,
   "metadata": {},
   "outputs": [
    {
     "data": {
      "text/plain": [
       "No     1182\n",
       "Yes     171\n",
       "Name: 0, dtype: int64"
      ]
     },
     "execution_count": 150,
     "metadata": {},
     "output_type": "execute_result"
    }
   ],
   "source": [
    "# Lets Replace 1 with Yes and 0 With No\n",
    "Replacement = {1:'Yes',0:'No'}\n",
    "\n",
    "Labels=log_test_pred[0].apply(lambda x : Replacement[x])\n",
    "Labels.value_counts()    #Check count of Predictions"
   ]
  },
  {
   "cell_type": "code",
   "execution_count": 151,
   "metadata": {},
   "outputs": [
    {
     "data": {
      "text/plain": [
       "(1353, 2)"
      ]
     },
     "execution_count": 151,
     "metadata": {},
     "output_type": "execute_result"
    }
   ],
   "source": [
    "## Submission file\n",
    "\n",
    "submission_log=pd.DataFrame({\"Provider\":Test_category_removed_groupedbyProv_PF.Provider})\n",
    "submission_log['PotentialFraud']=Labels\n",
    "submission_log.shape"
   ]
  },
  {
   "cell_type": "code",
   "execution_count": 152,
   "metadata": {},
   "outputs": [
    {
     "name": "stdout",
     "output_type": "stream",
     "text": [
      "Submission Shape: (1353, 2)\n"
     ]
    }
   ],
   "source": [
    "print('Submission Shape:',submission_log.shape)"
   ]
  },
  {
   "cell_type": "code",
   "execution_count": 153,
   "metadata": {},
   "outputs": [],
   "source": [
    "#write Submission file\n",
    "\n",
    "submission_log.to_csv(\"Submission_Logistic_Regression_F1_60_Threshold_60Prcnt.csv\",index=False)"
   ]
  },
  {
   "cell_type": "code",
   "execution_count": 154,
   "metadata": {},
   "outputs": [],
   "source": [
    "##Random Forest\n",
    "\n"
   ]
  },
  {
   "cell_type": "code",
   "execution_count": 155,
   "metadata": {},
   "outputs": [],
   "source": [
    "## Lets Apply Random Forest \n",
    "from sklearn.ensemble import RandomForestClassifier"
   ]
  },
  {
   "cell_type": "code",
   "execution_count": 156,
   "metadata": {},
   "outputs": [],
   "source": [
    "rfc = RandomForestClassifier(n_estimators=500,class_weight='balanced',random_state=123,max_depth=4)   # We will set max_depth =4"
   ]
  },
  {
   "cell_type": "code",
   "execution_count": 157,
   "metadata": {},
   "outputs": [
    {
     "data": {
      "text/plain": [
       "RandomForestClassifier(class_weight='balanced', max_depth=4, n_estimators=500,\n",
       "                       random_state=123)"
      ]
     },
     "execution_count": 157,
     "metadata": {},
     "output_type": "execute_result"
    }
   ],
   "source": [
    "rfc.fit(X_train,y_train)  #fit the model"
   ]
  },
  {
   "cell_type": "code",
   "execution_count": 158,
   "metadata": {},
   "outputs": [],
   "source": [
    "##Random Forest : ROC Curve\n"
   ]
  },
  {
   "cell_type": "code",
   "execution_count": 159,
   "metadata": {},
   "outputs": [
    {
     "data": {
      "image/png": "[encoded data removed]",
      "text/plain": [
       "<Figure size 864x576 with 1 Axes>"
      ]
     },
     "metadata": {},
     "output_type": "display_data"
    }
   ],
   "source": [
    "from sklearn.metrics import roc_curve, auc\n",
    "fpr, tpr, thresholds = roc_curve(y_val, rfc.predict_proba(X_val)[:,1])\n",
    "roc_auc = auc(fpr, tpr)\n",
    "\n",
    "plt.figure()\n",
    "plt.plot(fpr, tpr, color='darkorange', lw=1, label='ROC curve (AUC = %0.2f)' % roc_auc)\n",
    "\n",
    "for label in range(1,10,1):\n",
    "    plt.text((10-label)/10,(10-label)/10,thresholds[label*15],fontdict={'size': 14})\n",
    "    \n",
    "plt.plot([0, 1], [0, 1], color='navy', lw=1, linestyle='--')\n",
    "plt.xlim([0.0, 1.0])\n",
    "plt.ylim([0.0, 1.05])\n",
    "plt.xlabel('False Positive Rate')\n",
    "plt.ylabel('True Positive Rate')\n",
    "plt.title('Receiver operating characteristic')\n",
    "plt.legend(loc=\"lower right\")\n",
    "plt.show()"
   ]
  },
  {
   "cell_type": "code",
   "execution_count": 160,
   "metadata": {},
   "outputs": [],
   "source": [
    "##Random Forest : TPR Vs FPR"
   ]
  },
  {
   "cell_type": "code",
   "execution_count": 161,
   "metadata": {},
   "outputs": [
    {
     "data": {
      "image/png": "[encoded data removed]",
      "text/plain": [
       "<Figure size 864x576 with 1 Axes>"
      ]
     },
     "metadata": {},
     "output_type": "display_data"
    }
   ],
   "source": [
    "fig = plt.figure(figsize=(12,8))\n",
    "\n",
    "sns.distplot(tpr,color='firebrick')\n",
    "\n",
    "sns.distplot(fpr,color='darkblue')\n",
    "plt.title('TPR Vs FPR ')\n",
    "plt.xlim([-.25, 1.2])\n",
    "\n",
    "plt.text(0.1,4,'Negatives',color='darkblue')\n",
    "plt.text(0.7,4,'Positives',color='firebrick')\n",
    "plt.xlabel('Probability')\n",
    "plt.ylabel('Distribution')\n",
    "plt.show()"
   ]
  },
  {
   "cell_type": "code",
   "execution_count": 162,
   "metadata": {},
   "outputs": [],
   "source": [
    "rfc_train_pred = (rfc.predict_proba(X_train)[:,1]>0.5).astype(bool)   # Set threshold to 0.5\n",
    "rfc_val_pred = (rfc.predict_proba(X_val)[:,1]>0.5).astype(bool)# Set threshold to 0.5"
   ]
  },
  {
   "cell_type": "code",
   "execution_count": 163,
   "metadata": {},
   "outputs": [],
   "source": [
    "##Random Forest : Model Evaluation"
   ]
  },
  {
   "cell_type": "code",
   "execution_count": 164,
   "metadata": {},
   "outputs": [
    {
     "name": "stdout",
     "output_type": "stream",
     "text": [
      "Confusion Matrix Train : \n",
      " [[ 319   35]\n",
      " [ 389 3044]]\n",
      "Confusion Matrix Test: \n",
      " [[ 124   28]\n",
      " [ 182 1289]]\n",
      "Accuracy Train :  0.8880380248217586\n",
      "Accuracy Test :  0.8706099815157117\n",
      "Sensitivity :  0.8157894736842105\n",
      "Specificity :  0.876274643099932\n",
      "Kappa Value : 0.47589611108548224\n",
      "AUC         : 0.8460320583920713\n",
      "F1-Score Train 0.60075329566855\n",
      "F1-Score Validation :  0.5414847161572053\n"
     ]
    }
   ],
   "source": [
    "from sklearn.metrics import confusion_matrix,accuracy_score,cohen_kappa_score,roc_auc_score,f1_score,roc_curve\n",
    "\n",
    "cm0 = confusion_matrix(y_train, rfc_train_pred,labels=[1,0])\n",
    "print('Confusion Matrix Train : \\n', cm0)\n",
    "\n",
    "cm1 = confusion_matrix(y_val, rfc_val_pred,labels=[1,0])\n",
    "print('Confusion Matrix Test: \\n', cm1)\n",
    "\n",
    "total0=sum(sum(cm0))\n",
    "total1=sum(sum(cm1))\n",
    "#####from confusion matrix calculate accuracy\n",
    "accuracy0=(cm0[0,0]+cm0[1,1])/total0\n",
    "print ('Accuracy Train : ', accuracy0)\n",
    "\n",
    "accuracy1=(cm1[0,0]+cm1[1,1])/total1\n",
    "print ('Accuracy Test : ', accuracy1)\n",
    "\n",
    "sensitivity1 = cm1[0,0]/(cm1[0,0]+cm1[0,1])\n",
    "print('Sensitivity : ', sensitivity1 )\n",
    "\n",
    "specificity1 = cm1[1,1]/(cm1[1,0]+cm1[1,1])\n",
    "print('Specificity : ', specificity1)\n",
    "\n",
    "KappaValue=cohen_kappa_score(y_val, rfc_val_pred)\n",
    "print(\"Kappa Value :\",KappaValue)\n",
    "AUC=roc_auc_score(y_val, rfc_val_pred)\n",
    "print(\"AUC         :\",AUC)\n",
    "\n",
    "\n",
    "print(\"F1-Score Train\",f1_score(y_train,rfc_train_pred))\n",
    "print(\"F1-Score Validation : \",f1_score(y_val, rfc_val_pred))"
   ]
  },
  {
   "cell_type": "code",
   "execution_count": 165,
   "metadata": {},
   "outputs": [],
   "source": [
    "#Random Forest : Feature Importance"
   ]
  },
  {
   "cell_type": "code",
   "execution_count": 166,
   "metadata": {},
   "outputs": [
    {
     "name": "stdout",
     "output_type": "stream",
     "text": [
      "Top -20 features impacting Random forest model and their importance score :- \n",
      "\n",
      "Variable: PerProviderAvg_InscClaimAmtReimbursed Importance: 0.09\n",
      "Variable: InscClaimAmtReimbursed Importance: 0.07\n",
      "Variable: PerAttendingPhysicianAvg_InscClaimAmtReimbursed Importance: 0.07\n",
      "Variable: PerOperatingPhysicianAvg_InscClaimAmtReimbursed Importance: 0.06\n",
      "Variable: PerClmAdmitDiagnosisCodeAvg_InscClaimAmtReimbursed Importance: 0.04\n",
      "Variable: PerClmAdmitDiagnosisCodeAvg_DeductibleAmtPaid Importance: 0.04\n",
      "Variable: PerClmDiagnosisCode_1Avg_DeductibleAmtPaid Importance: 0.04\n",
      "Variable: PerOperatingPhysicianAvg_IPAnnualReimbursementAmt Importance: 0.03\n",
      "Variable: ClmCount_Provider_ClmDiagnosisCode_7 Importance: 0.03\n",
      "Variable: ClmCount_Provider_ClmDiagnosisCode_8 Importance: 0.03\n",
      "Variable: ClmCount_Provider_ClmDiagnosisCode_9 Importance: 0.03\n",
      "Variable: DeductibleAmtPaid    Importance: 0.02\n",
      "Variable: AdmitForDays         Importance: 0.02\n",
      "Variable: PerProviderAvg_DeductibleAmtPaid Importance: 0.02\n",
      "Variable: PerAttendingPhysicianAvg_DeductibleAmtPaid Importance: 0.02\n"
     ]
    }
   ],
   "source": [
    "feature_list = list(Test_category_removed_groupedbyProv_PF.columns)\n",
    "# Get numerical feature importances\n",
    "importances = list(rfc.feature_importances_)\n",
    "# List of tuples with variable and importance\n",
    "feature_importances = [(feature, round(importance, 2)) for feature, importance in zip(feature_list[1:], importances)]\n",
    "# Sort the feature importances by most important first\n",
    "feature_importances = sorted(feature_importances, key = lambda x: x[1], reverse = True)\n",
    "# Print out the feature and importances \n",
    "print('Top -20 features impacting Random forest model and their importance score :- \\n',)\n",
    "[print('Variable: {:20} Importance: {}'.format(*pair)) for pair in feature_importances[:15]];"
   ]
  },
  {
   "cell_type": "code",
   "execution_count": 167,
   "metadata": {},
   "outputs": [],
   "source": [
    "#Random Forest : Prediction on Unseen Data"
   ]
  },
  {
   "cell_type": "code",
   "execution_count": 168,
   "metadata": {},
   "outputs": [],
   "source": [
    "## Lets predict on Test data\n",
    "\n",
    "rfc_test_pred = rfc.predict(X_teststd)"
   ]
  },
  {
   "cell_type": "code",
   "execution_count": 169,
   "metadata": {},
   "outputs": [
    {
     "data": {
      "text/html": [
       "<div>\n",
       "<style scoped>\n",
       "    .dataframe tbody tr th:only-of-type {\n",
       "        vertical-align: middle;\n",
       "    }\n",
       "\n",
       "    .dataframe tbody tr th {\n",
       "        vertical-align: top;\n",
       "    }\n",
       "\n",
       "    .dataframe thead th {\n",
       "        text-align: right;\n",
       "    }\n",
       "</style>\n",
       "<table border=\"1\" class=\"dataframe\">\n",
       "  <thead>\n",
       "    <tr style=\"text-align: right;\">\n",
       "      <th></th>\n",
       "      <th>0</th>\n",
       "    </tr>\n",
       "  </thead>\n",
       "  <tbody>\n",
       "    <tr>\n",
       "      <th>0</th>\n",
       "      <td>0</td>\n",
       "    </tr>\n",
       "    <tr>\n",
       "      <th>1</th>\n",
       "      <td>0</td>\n",
       "    </tr>\n",
       "  </tbody>\n",
       "</table>\n",
       "</div>"
      ],
      "text/plain": [
       "   0\n",
       "0  0\n",
       "1  0"
      ]
     },
     "execution_count": 169,
     "metadata": {},
     "output_type": "execute_result"
    }
   ],
   "source": [
    "rfc_test_pred=pd.DataFrame(rfc_test_pred)\n",
    "rfc_test_pred.head(2)\n"
   ]
  },
  {
   "cell_type": "code",
   "execution_count": 170,
   "metadata": {},
   "outputs": [],
   "source": [
    "## Lets Replace 1 with Yes and 0 With No\n",
    "\n",
    "Replacement = {1:'Yes',0:'No'}\n",
    "\n",
    "Labels=rfc_test_pred[0].apply(lambda x : Replacement[x])"
   ]
  },
  {
   "cell_type": "code",
   "execution_count": 171,
   "metadata": {},
   "outputs": [
    {
     "data": {
      "text/plain": [
       "No     1094\n",
       "Yes     259\n",
       "Name: 0, dtype: int64"
      ]
     },
     "execution_count": 171,
     "metadata": {},
     "output_type": "execute_result"
    }
   ],
   "source": [
    "Labels.value_counts()"
   ]
  },
  {
   "cell_type": "code",
   "execution_count": 172,
   "metadata": {},
   "outputs": [
    {
     "data": {
      "text/plain": [
       "(1353, 2)"
      ]
     },
     "execution_count": 172,
     "metadata": {},
     "output_type": "execute_result"
    }
   ],
   "source": [
    "submission_rfc=pd.DataFrame({\"Provider\":Test_category_removed_groupedbyProv_PF.Provider})\n",
    "submission_rfc['PotentialFraud']=Labels\n",
    "submission_rfc.shape"
   ]
  },
  {
   "cell_type": "code",
   "execution_count": 173,
   "metadata": {},
   "outputs": [
    {
     "name": "stdout",
     "output_type": "stream",
     "text": [
      "Shape Of Submission (1353, 2)\n"
     ]
    }
   ],
   "source": [
    "print('Shape Of Submission',submission_rfc.shape)"
   ]
  },
  {
   "cell_type": "code",
   "execution_count": 174,
   "metadata": {},
   "outputs": [],
   "source": [
    " #write Submission file\n",
    "\n",
    "submission_rfc.to_csv(\"Submission_Random_Forest_Estimator_F1_60_estimators_3000.csv\",index=False)"
   ]
  },
  {
   "cell_type": "code",
   "execution_count": null,
   "metadata": {},
   "outputs": [],
   "source": []
  }
 ],
 "metadata": {
  "kernelspec": {
   "display_name": "Python 3",
   "language": "python",
   "name": "python3"
  },
  "language_info": {
   "codemirror_mode": {
    "name": "ipython",
    "version": 3
   },
   "file_extension": ".py",
   "mimetype": "text/x-python",
   "name": "python",
   "nbconvert_exporter": "python",
   "pygments_lexer": "ipython3",
   "version": "3.7.7"
  }
 },
 "nbformat": 4,
 "nbformat_minor": 4
}
